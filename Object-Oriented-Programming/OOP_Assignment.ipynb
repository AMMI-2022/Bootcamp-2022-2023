{
  "nbformat": 4,
  "nbformat_minor": 0,
  "metadata": {
    "colab": {
      "provenance": []
    },
    "kernelspec": {
      "name": "python3",
      "display_name": "Python 3"
    },
    "language_info": {
      "name": "python"
    }
  },
  "cells": [
    {
      "cell_type": "markdown",
      "source": [
        "# Instructions:\n",
        "\n",
        "You have to submit the Notebook before the deadline: \n",
        "\n",
        "*   Before you start go to the menu in the upper left corner and click file->Save a copy in Drive.\n",
        "*   Modify (add your name) the notebook name to **firstname_lastname_OOP_Assignment.ipynb**."
      ],
      "metadata": {
        "id": "rwCVxO2MWMB_"
      }
    },
    {
      "cell_type": "markdown",
      "source": [
        "# Exercise 1: Class manipulation\n",
        "\n",
        "\n",
        "a. Create a class **Dog** with attributes **name, breed, and  year_of_birth**\n",
        "\n",
        "b. Define methods:\n",
        "\n",
        "* **get_name** that print the name of the dog;\n",
        "* **get_breed** that print out the the breed of the dog;\n",
        "* **get_age** that compute and print the age of the dog (NB: 1year=7dog years)"
      ],
      "metadata": {
        "id": "mIvRb7etWScv"
      }
    },
    {
      "cell_type": "code",
      "execution_count": null,
      "metadata": {
        "id": "jLXoyeinWABu"
      },
      "outputs": [],
      "source": [
        "## START YOUR CODE HERE##\n",
        "class Dog:\n",
        "  pass\n",
        "##END YOUR CODE HERE##"
      ]
    },
    {
      "cell_type": "code",
      "source": [
        "# Test your code here\n",
        "dog = Dog('Jacky','Chihuahua',2021)\n",
        "dog.get_name()\n",
        "dog.get_breed()\n",
        "dog.get_age()"
      ],
      "metadata": {
        "id": "AN60nCwATq5k"
      },
      "execution_count": null,
      "outputs": []
    },
    {
      "cell_type": "markdown",
      "source": [
        "# Exercise 2: Instance attribute, private attribute and inheritance\n",
        "\n",
        "* Create a **Vehicle** class  with attributes **name, max_speed, max_seats**. Every Vehicle should be green and add restrictions on accessing the attribute **max_seats**.\n",
        "* Create a **Bus** class that inherits from the **Vehicle** class. Define a method **display**, which will display the name, color, the max_speed and the number of seating place in Bus.\n",
        "* Add a  class method  **IsOverweight** in Bus class to check wether the Bus is overweighted or not. This method will have **num_passengers** as attribute and return :\n",
        " - overweight if num_passengers>max_seats ;\n",
        " - not overweight if num_passengers < max_seats"
      ],
      "metadata": {
        "id": "SOX7fnRmtmha"
      }
    },
    {
      "cell_type": "code",
      "source": [
        "## START YOUR CODE HERE##\n",
        "\n",
        "## END YOUR CODE HERE##"
      ],
      "metadata": {
        "id": "djJx0G6LBRNn"
      },
      "execution_count": null,
      "outputs": []
    },
    {
      "cell_type": "markdown",
      "source": [
        "### Exercise 3: L2  norm\n",
        "\n",
        "The L2 norm between two vectors x and y is given by:\n",
        "\n",
        " $L_2 = \\sqrt{(x_1-y_1)^2 + (x_2-y_2)^2}$ \n",
        "\n",
        "\n",
        "In this exercise we want to create a class that compute the L2 norm of two vectors.\n",
        "\n",
        "We start by creating a class **Calculator** that. has attributes x and y  and the following methods:\n",
        "\n",
        "* multiplication, compute the multiplication (element wise) of two vectors;\n",
        "\n",
        "* subtraction, compute the substraction of two vectors;\n",
        "\n",
        "* sum, compute the sum of  elements of a vector;\n",
        "\n",
        "* sqrt, compute the square root of a scalar.\n",
        "\n",
        "Finally build a class **L2_norm** , to compute the L2 norm between two vectors while using the methods inherited from the **Calculator** class."
      ],
      "metadata": {
        "id": "uRYYX7QKVZyA"
      }
    },
    {
      "cell_type": "code",
      "source": [
        "## START YOUR CODE HERE##\n",
        "class Calculator:\n",
        "  pass\n",
        "class L2_norm(Calculator):\n",
        "  pass\n",
        "## END YOUR CODE HERE##"
      ],
      "metadata": {
        "id": "pT18L7ECclyC"
      },
      "execution_count": null,
      "outputs": []
    },
    {
      "cell_type": "code",
      "source": [
        "## Test your code here ##\n",
        "x = [1,2]\n",
        "y = [4,2]\n",
        "\n",
        "l2_norm = L2_norm(x,y)\n",
        "l2_norm.norm"
      ],
      "metadata": {
        "colab": {
          "base_uri": "https://localhost:8080/"
        },
        "id": "8ANaCixx6lTZ",
        "outputId": "d4fcc335-93b4-4fee-e121-1b8a1751f4e0"
      },
      "execution_count": null,
      "outputs": [
        {
          "output_type": "execute_result",
          "data": {
            "text/plain": [
              "3.0"
            ]
          },
          "metadata": {},
          "execution_count": 4
        }
      ]
    },
    {
      "cell_type": "markdown",
      "source": [
        "### Exercise 4: Matrix\n",
        "\n",
        "Create a class called 'Matrix' with the following attributes:\n",
        "\n",
        "1 - **n_rows**, represent the number of rows of matrix\n",
        "\n",
        "2 - **n_cols**, represent the number of columns of matrix\n",
        "\n",
        "3 - **matrix**, represent the elements of matrix in the form of 2D array.\n",
        "\n",
        "\n",
        "The Matrix class has methods for each of the following:\n",
        "\n",
        "1 - **get_n_rows**,to get the number of rows of the matrix\n",
        "\n",
        "2 - **get_n_cols**, to get the number of columns of the matrix\n",
        "\n",
        "3 - **set_elements**, with attributes **val, i and j** to set or modify the elements of the matrix with a value **val** at given position (i,j) and return the result.\n",
        "\n",
        "4 - **add_matrices**, to compute and return the addition of two matrices or diplayed \"Matrices cannot be added\" if matrices are not addable.\n",
        "\n"
      ],
      "metadata": {
        "id": "7ZcuIsQFiLFj"
      }
    },
    {
      "cell_type": "code",
      "source": [
        "## WRITE YOUR CODE HERE ##\n",
        "class Matrix:\n",
        "  pass"
      ],
      "metadata": {
        "id": "Va-QEIb09UxR"
      },
      "execution_count": null,
      "outputs": []
    },
    {
      "cell_type": "code",
      "source": [
        "# TEST YOR CODE HERE\n",
        "\n",
        "mat1 = [[i for i in range(3)] for _ in range(2)]\n",
        "mat2 = [[i for i in range(2)] for _ in range(3)]\n",
        "n_rows = len(mat1)\n",
        "n_cols = len(mat1[0])\n",
        "\n",
        "matrix = Matrix(n_rows,n_cols,mat1)\n",
        "\n",
        "#Get the number of rows\n",
        "matrix.get_n_rows()\n",
        "\n",
        "# modify the value of the matrice at position(1,2)\n",
        "matrix.set_elements(1,2,5)\n",
        "\n",
        "#Compute the addition of two matrices\n",
        "matrix.add_matrices(mat1, mat2)"
      ],
      "metadata": {
        "id": "tW2BwTgUmYRj"
      },
      "execution_count": null,
      "outputs": []
    },
    {
      "cell_type": "markdown",
      "source": [
        "### Bonus:\n",
        "\n",
        "In the class **Matrix** above, define a method **multiply_matrice** which takes two matrices as input and return a matrix multiplication of the two matrices.\n",
        "\n",
        "Hint: Use the matrix multiplication properties"
      ],
      "metadata": {
        "id": "bz2eYR92leEf"
      }
    },
    {
      "cell_type": "code",
      "source": [],
      "metadata": {
        "id": "_5UVQvk_mWSe"
      },
      "execution_count": null,
      "outputs": []
    }
  ]
}