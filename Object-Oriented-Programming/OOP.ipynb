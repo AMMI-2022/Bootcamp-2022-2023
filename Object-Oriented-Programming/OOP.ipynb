{
  "nbformat": 4,
  "nbformat_minor": 0,
  "metadata": {
    "colab": {
      "provenance": []
    },
    "kernelspec": {
      "name": "python3",
      "display_name": "Python 3"
    },
    "language_info": {
      "name": "python"
    }
  },
  "cells": [
    {
      "cell_type": "markdown",
      "source": [
        "# Object-oriented Programming\n"
      ],
      "metadata": {
        "id": "Y-lVX7UrDNJT"
      }
    },
    {
      "cell_type": "markdown",
      "source": [
        "## 1. Definition"
      ],
      "metadata": {
        "id": "pN6W6Qem45hg"
      }
    },
    {
      "cell_type": "markdown",
      "source": [
        "In simple terms, Object-oriented programming is a programming language model based on objects that makes the program easy to understand as well as efficient.\n",
        "\n",
        "Almost everything can be considered as an object, it can be a house, car, person, animal, chair, table, pen, string, array, dictionnary, list, integer, float number, etc. \n",
        "\n",
        "An object can be charaterized by:\n",
        " 1. attributes\n",
        " 2. behaviour\n",
        "\n",
        "Example: A dog is an object that has:\n",
        "* Attributes: breed, age, name, ...\n",
        "* behaviour: sleeping, barking, ...\n",
        "\n",
        "\n"
      ],
      "metadata": {
        "id": "8xU3EAtEKGYH"
      }
    },
    {
      "cell_type": "markdown",
      "source": [
        "## 2. OOP Terminolony\n",
        "\n",
        "* **Method** - A class behavior. It is the OOP name\n",
        "given to a function defined in a class.\n",
        "\n",
        "* **Attributes** - A synonym of variable.\n",
        "\n",
        "*   **Class** − A user-defined data structure that binds the attributes and methods into a single unit. We can create many objects from a single class.\n",
        "*   **Object** − An instance of a class.\n",
        "\n",
        "*   **Class variable** − A variable that remains the same for all instances of a class. Class variables are defined within a class but outside any of the class's methods.\n",
        "*   **Instance variable** − A variable that is defined inside a method and is unique  to each instance of a class.\n",
        "*   **Instantiation** − The creation of an instance of a class.\n",
        "*   **Instance** − An individual object of a certain class.\n"
      ],
      "metadata": {
        "id": "9W3cDc1Y7wfO"
      }
    },
    {
      "cell_type": "markdown",
      "source": [
        "### Class creation"
      ],
      "metadata": {
        "id": "Bg2lKCFM-FBv"
      }
    },
    {
      "cell_type": "markdown",
      "source": [
        "```\n",
        "class ClassName:\n",
        "\n",
        "    <statement 1>\n",
        "    <statement 2>\n",
        "    .\n",
        "    .\n",
        "    <statement N>\n",
        "```"
      ],
      "metadata": {
        "id": "CFOCY7QC-Vf6"
      }
    },
    {
      "cell_type": "markdown",
      "source": [
        "#### Example: Define a class in Python\n",
        "\n",
        "Lets use the following example to understand the basic components of a class. Assuming we want to create a student database, we can define a class called AMMIStudent. Each student is supposed to have a name, student ID, country etc."
      ],
      "metadata": {
        "id": "o_x6zYcpFAhy"
      }
    },
    {
      "cell_type": "code",
      "source": [
        "class AMMIStudent:\n",
        "  \n",
        "  #class attribute\n",
        "  continent = 'Africa'\n",
        "\n",
        "  #Constructor   \n",
        "  def __init__(self, firstname, lastname, country ):\n",
        "    #instance attribute\n",
        "    self.firstname = firstname\n",
        "    self.lastname = lastname\n",
        "    self.country = country\n",
        "\n",
        "  # methods\n",
        "  def get_continent(self):                            \n",
        "    return self.__class__.continent\n",
        " \n",
        "  def get_full_name(self):\n",
        "    return self.firstname + ' ' + self.lastname "
      ],
      "metadata": {
        "id": "A987N3LgFzqc"
      },
      "execution_count": null,
      "outputs": []
    },
    {
      "cell_type": "markdown",
      "source": [
        "- The  __init__() method is a special method, called class constructor or initialization method that Python automatically calls everytime objects are created. It is used to initialize the attribute of the class.\n",
        "- The \" Self \" identifier: it is a conventional notation used as a first argument whenever we define a method of a class. It is also used to access attributes of a class."
      ],
      "metadata": {
        "id": "mEGfZydNIHTb"
      }
    },
    {
      "cell_type": "markdown",
      "source": [
        "Create an instance of the class AMMIStudent"
      ],
      "metadata": {
        "id": "TIA7WFkhIr_h"
      }
    },
    {
      "cell_type": "code",
      "source": [
        "student1 = AMMIStudent(\"John\", \"Peter\",\"Rwanda\")\n",
        "student2 = AMMIStudent(\"Ornela\", \"Megne\", \"Cameroon\")"
      ],
      "metadata": {
        "id": "f4w3wggaGZVi"
      },
      "execution_count": null,
      "outputs": []
    },
    {
      "cell_type": "markdown",
      "source": [
        "To ensure that student is an instance of the class AMMIStudent, we can use the Python's built-in method `isinstance()` as follow"
      ],
      "metadata": {
        "id": "NCd61KtiRZrT"
      }
    },
    {
      "cell_type": "code",
      "source": [
        "print(isinstance(student1,AMMIStudent)) #print \"True\" if it's the case else \"False\"\n",
        "\n",
        "# we can also use \"type()\" to check to which class the object belongs to"
      ],
      "metadata": {
        "id": "fGARXthKRyXW",
        "colab": {
          "base_uri": "https://localhost:8080/"
        },
        "outputId": "84c45d4a-affe-477c-c2fd-e37fe1906f18"
      },
      "execution_count": null,
      "outputs": [
        {
          "output_type": "stream",
          "name": "stdout",
          "text": [
            "True\n"
          ]
        }
      ]
    },
    {
      "cell_type": "markdown",
      "source": [
        "#### **Question:** Determine which class a given student belongs to."
      ],
      "metadata": {
        "id": "rk1u5H05UVHU"
      }
    },
    {
      "cell_type": "code",
      "source": [
        "## Write the code here ##\n",
        "print(type(student1))"
      ],
      "metadata": {
        "id": "5DJZ9VrZUgvy",
        "colab": {
          "base_uri": "https://localhost:8080/"
        },
        "outputId": "5f7632c8-c727-440a-d7da-61736cc7b970"
      },
      "execution_count": null,
      "outputs": [
        {
          "output_type": "stream",
          "name": "stdout",
          "text": [
            "<class '__main__.AMMIStudent'>\n"
          ]
        }
      ]
    },
    {
      "cell_type": "markdown",
      "source": [
        "### Accessing attributes and methods"
      ],
      "metadata": {
        "id": "tkWxe3O9_5RE"
      }
    },
    {
      "cell_type": "markdown",
      "source": [
        "We can access the attributes outside of the class. To do this we can either use the dot operator as `object.attrName` or used the pre-built function `getattr()`."
      ],
      "metadata": {
        "id": "ppvU5wUCH_-d"
      }
    },
    {
      "cell_type": "code",
      "source": [
        "# student1.firstname\n",
        "print(getattr(student1,\"firstname\"))"
      ],
      "metadata": {
        "id": "BwqVd56JIAvJ",
        "colab": {
          "base_uri": "https://localhost:8080/"
        },
        "outputId": "fbe1fa64-d13a-410d-94d4-3dbc7190e2a7"
      },
      "execution_count": null,
      "outputs": [
        {
          "output_type": "stream",
          "name": "stdout",
          "text": [
            "John\n"
          ]
        }
      ]
    },
    {
      "cell_type": "markdown",
      "source": [
        "We can also get access to the methods"
      ],
      "metadata": {
        "id": "dkBzoUV5JCSs"
      }
    },
    {
      "cell_type": "code",
      "source": [
        "student1.get_full_name()"
      ],
      "metadata": {
        "id": "EWQCILu6JGMI",
        "colab": {
          "base_uri": "https://localhost:8080/",
          "height": 36
        },
        "outputId": "b2b7cb58-dd9e-4b7f-f024-16a71c2f862c"
      },
      "execution_count": null,
      "outputs": [
        {
          "output_type": "execute_result",
          "data": {
            "text/plain": [
              "'John Peter'"
            ],
            "application/vnd.google.colaboratory.intrinsic+json": {
              "type": "string"
            }
          },
          "metadata": {},
          "execution_count": 8
        }
      ]
    },
    {
      "cell_type": "markdown",
      "source": [
        "So from an object we can called all his methods. To see all the attributes and methods allowed in the object in python, we use the function `\"dir\"`"
      ],
      "metadata": {
        "id": "2m9aVsW33LNg"
      }
    },
    {
      "cell_type": "code",
      "source": [
        "print(dir(student1))"
      ],
      "metadata": {
        "colab": {
          "base_uri": "https://localhost:8080/"
        },
        "id": "U-4zaS7UMs2k",
        "outputId": "22cb3fda-c59f-4284-d940-f4e517fbf5cf"
      },
      "execution_count": null,
      "outputs": [
        {
          "output_type": "stream",
          "name": "stdout",
          "text": [
            "['__class__', '__delattr__', '__dict__', '__dir__', '__doc__', '__eq__', '__format__', '__ge__', '__getattribute__', '__gt__', '__hash__', '__init__', '__init_subclass__', '__le__', '__lt__', '__module__', '__ne__', '__new__', '__reduce__', '__reduce_ex__', '__repr__', '__setattr__', '__sizeof__', '__str__', '__subclasshook__', '__weakref__', 'continent', 'country', 'firstname', 'get_continent', 'get_full_name', 'lastname']\n"
          ]
        }
      ]
    },
    {
      "cell_type": "markdown",
      "source": [
        "---\n",
        "\n",
        "### Exercise 1:\n",
        "\n",
        "Create a class **Animal** with instance attributes **name** and **type**, with the following methods:\n",
        "* **get_type**, that display the type of the animal;\n",
        "* **presentation**, that print out the name of the animal.\n",
        "\n",
        "create an instance of that class and get access to his methods so as to get the expected output:\n",
        "* **I'am a hen**\n",
        "* **I belong to the bird family**\n",
        "\n",
        "\n",
        "\n",
        "---\n"
      ],
      "metadata": {
        "id": "uFNGeqthJ5mX"
      }
    },
    {
      "cell_type": "code",
      "source": [
        "## COMPLETE THE CODE ##\n",
        "\n",
        "class Animal:\n",
        "\n",
        "  #define the constructor with attributes: name, and type\n",
        "  def __init__(self, name, _type_):\n",
        "    self.name=name\n",
        "    self._type_=_type_\n",
        "    \n",
        "\n",
        "  #define the method \"get_type\"\n",
        "  def get_type(self):\n",
        "    return f\"The type of {self.name} is {self._type_}\"\n",
        "    \n",
        "\n",
        "  #define the method \"presentation\"\n",
        "  def presentation(self):\n",
        "    return f\"The name of animal is {self.name}\"\n",
        "    "
      ],
      "metadata": {
        "id": "PRMWXkSTK73z"
      },
      "execution_count": null,
      "outputs": []
    },
    {
      "cell_type": "code",
      "source": [
        "# Instantiate the class Animal\n",
        "animal=Animal(\"hen\",\"Bird\")\n",
        "# Access the attribute \"name\"\n",
        "animal.name"
      ],
      "metadata": {
        "id": "xhwLs3uGrefv",
        "colab": {
          "base_uri": "https://localhost:8080/",
          "height": 36
        },
        "outputId": "cbb62729-a1aa-4298-a65d-63689033376d"
      },
      "execution_count": null,
      "outputs": [
        {
          "output_type": "execute_result",
          "data": {
            "text/plain": [
              "'hen'"
            ],
            "application/vnd.google.colaboratory.intrinsic+json": {
              "type": "string"
            }
          },
          "metadata": {},
          "execution_count": 16
        }
      ]
    },
    {
      "cell_type": "code",
      "source": [
        "# Access the method \"presentation\"\n",
        "animal.presentation()\n",
        "# Access the method \"get_type\"\n",
        "animal.get_type()"
      ],
      "metadata": {
        "id": "LqvXFPOltoiB",
        "colab": {
          "base_uri": "https://localhost:8080/",
          "height": 36
        },
        "outputId": "026359a9-b2c6-4251-fcf9-642cf03945ea"
      },
      "execution_count": null,
      "outputs": [
        {
          "output_type": "execute_result",
          "data": {
            "text/plain": [
              "'The type of hen is Bird'"
            ],
            "application/vnd.google.colaboratory.intrinsic+json": {
              "type": "string"
            }
          },
          "metadata": {},
          "execution_count": 17
        }
      ]
    },
    {
      "cell_type": "markdown",
      "source": [
        "---\n",
        "### Exercice 2:\n",
        "\n",
        "Create a class named **Circle**, with parameter radius in its constructor.\n",
        "Define two methods, **circumference** and **area**, that will compute and print respectively the circumference and the area of the circle.\n",
        "\n",
        "The value of pi=3.14 is constant (remain the same for each circle) \n",
        "\n",
        "---"
      ],
      "metadata": {
        "id": "avZuTGcNXtpJ"
      }
    },
    {
      "cell_type": "code",
      "source": [
        "## WRITE YOUR CODE HERE##\n",
        "class Circle :\n",
        "  pi=3.14\n",
        "  def __init__(self, radius):\n",
        "    self.radius = radius\n",
        "\n",
        "  def area(self):\n",
        "    area = self.__class__.pi*radius**2\n",
        "    return area\n",
        "  def circumference(self):\n",
        "    circumference=2*self.__class__.pi*radius\n",
        "    return circumference"
      ],
      "metadata": {
        "id": "60czZpEcZBUw"
      },
      "execution_count": null,
      "outputs": []
    },
    {
      "cell_type": "code",
      "source": [
        "# Instantiate the class Circle with radius=2\n",
        "radius=2\n",
        "#new_circumference =Circle(radius)\n",
        "#new_circumference.circumference()\n",
        "new_area=Circle(radius)\n",
        "new_area.area()\n",
        "# Access his methods to print out the circumference and the area of the circle"
      ],
      "metadata": {
        "id": "05WkRc8VuUzg",
        "colab": {
          "base_uri": "https://localhost:8080/"
        },
        "outputId": "04e4b95f-b745-440f-c0d3-f65673ed559c"
      },
      "execution_count": null,
      "outputs": [
        {
          "output_type": "execute_result",
          "data": {
            "text/plain": [
              "12.56"
            ]
          },
          "metadata": {},
          "execution_count": 33
        }
      ]
    },
    {
      "cell_type": "markdown",
      "source": [
        "Now that we are familiar with the notion of class, let us go back to this expression that we usually meet: \"Python is an object-oriented programming language\".\n",
        "\n",
        "**Question:** Why is Python an object-oriented programming language?\n"
      ],
      "metadata": {
        "id": "ABL8M8qA4mwa"
      }
    },
    {
      "cell_type": "code",
      "source": [
        "x=5\n",
        "print(type(x))"
      ],
      "metadata": {
        "colab": {
          "base_uri": "https://localhost:8080/"
        },
        "id": "JsK_ZOfVgo8X",
        "outputId": "7ece2e57-5595-4e4f-8b7d-26484b75f77f"
      },
      "execution_count": null,
      "outputs": [
        {
          "output_type": "stream",
          "name": "stdout",
          "text": [
            "<class 'int'>\n"
          ]
        }
      ]
    },
    {
      "cell_type": "markdown",
      "source": [
        "### Some conventions in class naming\n",
        "\n",
        "* Class names should follow the UpperCaseCamelCase convention, i.e  the first letter of every word capitalised.\n",
        "* Python’s built-in classes are typically lowercase words\n",
        "\n",
        "**Illustration:**"
      ],
      "metadata": {
        "id": "Z4gu2_iDe_aU"
      }
    },
    {
      "cell_type": "code",
      "source": [
        "class AfricanCountry:\n",
        "  pass"
      ],
      "metadata": {
        "id": "ojLe20PfNDnR"
      },
      "execution_count": null,
      "outputs": []
    },
    {
      "cell_type": "markdown",
      "source": [
        "The `pass` statement here is used to indicate that nothing is defined, since an empty code is not allowed in loops, function, and class definition. Generally, we use it as a placeholder when we do not know what code to write or add code in a future release."
      ],
      "metadata": {
        "id": "VP0vHHM6fuSA"
      }
    },
    {
      "cell_type": "markdown",
      "source": [
        "### Object Properties\n",
        "\n",
        " A property of an object is an association between name and value.\n",
        "\n",
        "For example, a car is an object, and its properties are car color, price, manufacture, model, engine, and so on. Here, color is the name and red is the value.\n",
        "\n",
        "Many tasks can be performed on object properties.\n",
        "\n",
        "#### **a. Modify object properties**\n",
        "\n",
        "We can set or modify the object’s properties after his initialization by calling the property directly using the dot operator.\n",
        "\n",
        "`Obj.PROPERTY = value`"
      ],
      "metadata": {
        "id": "5Ync59uAhBVk"
      }
    },
    {
      "cell_type": "markdown",
      "source": [
        "**Illustration**"
      ],
      "metadata": {
        "id": "1qS4QkU_iZvP"
      }
    },
    {
      "cell_type": "code",
      "source": [
        "class Fruit:\n",
        "    def __init__(self, name, color):\n",
        "        self.name = name\n",
        "        self.color = color\n",
        "\n",
        "    def show(self):\n",
        "        print(\"Fruit is\", self.name, \"and Color is\", self.color)\n"
      ],
      "metadata": {
        "id": "QLNmdMZXNDj2"
      },
      "execution_count": null,
      "outputs": []
    },
    {
      "cell_type": "code",
      "source": [
        "# creating object of the class\n",
        "fruit = Fruit(\"Apple\", \"red\")\n",
        "fruit.name"
      ],
      "metadata": {
        "id": "ZITJb27iNDgN",
        "colab": {
          "base_uri": "https://localhost:8080/",
          "height": 36
        },
        "outputId": "faecb331-18c2-45f9-e619-f3e998ec99de"
      },
      "execution_count": null,
      "outputs": [
        {
          "output_type": "execute_result",
          "data": {
            "text/plain": [
              "'Apple'"
            ],
            "application/vnd.google.colaboratory.intrinsic+json": {
              "type": "string"
            }
          },
          "metadata": {},
          "execution_count": 37
        }
      ]
    },
    {
      "cell_type": "code",
      "source": [
        "# Modifying Object Properties\n",
        "fruit.name = \"strawberry\"\n",
        "\n",
        "# calling the instance method using the object obj\n",
        "fruit.name\n",
        "# fruit.show()"
      ],
      "metadata": {
        "colab": {
          "base_uri": "https://localhost:8080/",
          "height": 36
        },
        "id": "SYAdW0AdNDcl",
        "outputId": "52230b19-0830-454d-da92-e4a44b171029"
      },
      "execution_count": null,
      "outputs": [
        {
          "output_type": "execute_result",
          "data": {
            "text/plain": [
              "'strawberry'"
            ],
            "application/vnd.google.colaboratory.intrinsic+json": {
              "type": "string"
            }
          },
          "metadata": {},
          "execution_count": 38
        }
      ]
    },
    {
      "cell_type": "markdown",
      "source": [
        "##### **b. Delete object properties**\n",
        "\n",
        "We can delete the object property by using the `del` keyword. After deleting it, if we try to access it, we will get an error.\n",
        "\n",
        "`del obj.PROPERTY`"
      ],
      "metadata": {
        "id": "7RlYo4U7jHlP"
      }
    },
    {
      "cell_type": "markdown",
      "source": [
        "**Illustration**"
      ],
      "metadata": {
        "id": "pWeW8JiAjPUd"
      }
    },
    {
      "cell_type": "code",
      "source": [
        "# Consider the same class Fruit\n",
        "fruit1 = Fruit(\"Apple\", \"red\")\n",
        "\n",
        "#delete the property or attribute name of the object fruit1\n",
        "del fruit1.name\n",
        "# del fruit1.color\n"
      ],
      "metadata": {
        "id": "7Eo1BWHaNDYl"
      },
      "execution_count": null,
      "outputs": []
    },
    {
      "cell_type": "code",
      "source": [
        "fruit1.name"
      ],
      "metadata": {
        "colab": {
          "base_uri": "https://localhost:8080/",
          "height": 168
        },
        "id": "SACfZyQ-ir7D",
        "outputId": "cc44058e-8507-4b41-aeda-36c710c16aee"
      },
      "execution_count": null,
      "outputs": [
        {
          "output_type": "error",
          "ename": "AttributeError",
          "evalue": "ignored",
          "traceback": [
            "\u001b[0;31m---------------------------------------------------------------------------\u001b[0m",
            "\u001b[0;31mAttributeError\u001b[0m                            Traceback (most recent call last)",
            "\u001b[0;32m<ipython-input-40-30f2913563c0>\u001b[0m in \u001b[0;36m<module>\u001b[0;34m\u001b[0m\n\u001b[0;32m----> 1\u001b[0;31m \u001b[0mfruit1\u001b[0m\u001b[0;34m.\u001b[0m\u001b[0mname\u001b[0m\u001b[0;34m\u001b[0m\u001b[0;34m\u001b[0m\u001b[0m\n\u001b[0m",
            "\u001b[0;31mAttributeError\u001b[0m: 'Fruit' object has no attribute 'name'"
          ]
        }
      ]
    },
    {
      "cell_type": "code",
      "source": [
        "fruit1.weight = 5"
      ],
      "metadata": {
        "id": "n04t9HTgjKOn"
      },
      "execution_count": null,
      "outputs": []
    },
    {
      "cell_type": "code",
      "source": [
        "fruit1.weight"
      ],
      "metadata": {
        "colab": {
          "base_uri": "https://localhost:8080/"
        },
        "id": "OB53mQx1jSUk",
        "outputId": "80e0fcaf-3e8e-46e4-9542-2886b0f64bbb"
      },
      "execution_count": null,
      "outputs": [
        {
          "output_type": "execute_result",
          "data": {
            "text/plain": [
              "5"
            ]
          },
          "metadata": {},
          "execution_count": 43
        }
      ]
    },
    {
      "cell_type": "markdown",
      "source": [
        "Or we can use `hasattr()` to check if the class has a particular attribute"
      ],
      "metadata": {
        "id": "5HP6-s1z0gxx"
      }
    },
    {
      "cell_type": "code",
      "source": [
        "print(hasattr(fruit1, 'Apple')) #Returns \"True\" if yes else \"False\""
      ],
      "metadata": {
        "colab": {
          "base_uri": "https://localhost:8080/"
        },
        "id": "Z6eeC6FF0o6u",
        "outputId": "6843338f-3ebd-40c0-bd19-a20a3a203b3a"
      },
      "execution_count": null,
      "outputs": [
        {
          "output_type": "stream",
          "name": "stdout",
          "text": [
            "False\n"
          ]
        }
      ]
    },
    {
      "cell_type": "markdown",
      "source": [
        "**Question:** Assuming we create another object \n",
        "\n",
        "fruit2 = Fruit(\"pineaple\",\"yellow\")\n",
        "\n",
        "what will happen if we try to access name attribute?"
      ],
      "metadata": {
        "id": "dA7LiHHHnnoI"
      }
    },
    {
      "cell_type": "markdown",
      "source": [
        "#### **c. Delete Object**\n",
        "We can also delete the object by using a `del` keyword."
      ],
      "metadata": {
        "id": "ajK4PZDooa92"
      }
    },
    {
      "cell_type": "markdown",
      "source": [
        "**Illustration**"
      ],
      "metadata": {
        "id": "YWrGjnK0ppmx"
      }
    },
    {
      "cell_type": "code",
      "source": [
        "# Consider the  class Fruit\n",
        "fruit = Fruit(\"Apple\", \"red\")\n",
        "\n",
        "# Delete the object fruit2\n",
        "del fruit\n",
        "\n",
        "#Accessing after delete object\n",
        "fruit.show()"
      ],
      "metadata": {
        "id": "6d_Rg80MpsOa",
        "colab": {
          "base_uri": "https://localhost:8080/",
          "height": 239
        },
        "outputId": "0210091b-40e9-4c51-b77d-042843e4d4db"
      },
      "execution_count": null,
      "outputs": [
        {
          "output_type": "error",
          "ename": "NameError",
          "evalue": "ignored",
          "traceback": [
            "\u001b[0;31m---------------------------------------------------------------------------\u001b[0m",
            "\u001b[0;31mNameError\u001b[0m                                 Traceback (most recent call last)",
            "\u001b[0;32m<ipython-input-50-299f6d34d5ec>\u001b[0m in \u001b[0;36m<module>\u001b[0;34m\u001b[0m\n\u001b[1;32m      1\u001b[0m \u001b[0;31m# Consider the  class Fruit\u001b[0m\u001b[0;34m\u001b[0m\u001b[0;34m\u001b[0m\u001b[0;34m\u001b[0m\u001b[0m\n\u001b[0;32m----> 2\u001b[0;31m \u001b[0mfruit\u001b[0m \u001b[0;34m=\u001b[0m \u001b[0mFruit\u001b[0m\u001b[0;34m(\u001b[0m\u001b[0;34m\"Apple\"\u001b[0m\u001b[0;34m,\u001b[0m \u001b[0;34m\"red\"\u001b[0m\u001b[0;34m)\u001b[0m\u001b[0;34m\u001b[0m\u001b[0;34m\u001b[0m\u001b[0m\n\u001b[0m\u001b[1;32m      3\u001b[0m \u001b[0;34m\u001b[0m\u001b[0m\n\u001b[1;32m      4\u001b[0m \u001b[0;31m# Delete the object fruit2\u001b[0m\u001b[0;34m\u001b[0m\u001b[0;34m\u001b[0m\u001b[0;34m\u001b[0m\u001b[0m\n\u001b[1;32m      5\u001b[0m \u001b[0;32mdel\u001b[0m \u001b[0mfruit\u001b[0m\u001b[0;34m\u001b[0m\u001b[0;34m\u001b[0m\u001b[0m\n",
            "\u001b[0;31mNameError\u001b[0m: name 'Fruit' is not defined"
          ]
        }
      ]
    },
    {
      "cell_type": "markdown",
      "source": [
        "---\n",
        "\n",
        "### Exercise 3:\n",
        "\n",
        "If you use the same name for an instance attribute and a class attribute, which one will be returned if the attribute name is called? Complete the code below to illiustrate this.\n",
        "\n",
        "\n",
        "\n",
        "---\n"
      ],
      "metadata": {
        "id": "PlTgEFDVqUHn"
      }
    },
    {
      "cell_type": "code",
      "source": [
        "class Names:\n",
        "  #code here ~ 1 line\n",
        "  names = 'test'\n",
        "  val = 0\n",
        "\n",
        "  def __init__(self,val):\n",
        "    #code here ~ 1 line\n",
        "    self.names = val\n",
        "    \n",
        "    pass\n",
        "\n",
        "\n",
        "n = Names(89)\n",
        "print(n.names)\n",
        "print(Names.names)\n",
        "print(n.val)"
      ],
      "metadata": {
        "id": "o3QWKQXjqTXM",
        "colab": {
          "base_uri": "https://localhost:8080/"
        },
        "outputId": "79d661be-bfa3-4530-d8ac-f8e978dfa7c7"
      },
      "execution_count": null,
      "outputs": [
        {
          "output_type": "stream",
          "name": "stdout",
          "text": [
            "89\n",
            "test\n",
            "0\n"
          ]
        }
      ]
    },
    {
      "cell_type": "markdown",
      "source": [
        "## 3. Important concepts of OOP\n",
        "\n",
        "\n"
      ],
      "metadata": {
        "id": "ppKZDwgi6VE_"
      }
    },
    {
      "cell_type": "markdown",
      "source": [
        "1. Encapsulation\n",
        "\n",
        "It's one of the fundamentals of OOP. It consists of bundling attributes and methods inside a single class. It add restrictions on accessing attributes directly or can be used to avoid unwanted changes of the attributes. This type of class make used of some specific variables known as private variables.\n",
        "\n",
        "We define private  variable using underscore as a prefix (__)\n",
        "\n",
        "**Illustration**"
      ],
      "metadata": {
        "id": "tWmjWQNtGUBu"
      }
    },
    {
      "cell_type": "code",
      "source": [
        "class BookShop:\n",
        "  \n",
        "  def __init__(self,name):\n",
        "    self.name = name          #public\n",
        "    self.__bookPrice = 1500   #Private\n",
        "\n",
        "  def selling_price(self):\n",
        "    print(f\"The book cost {self.__bookPrice}\")\n",
        "\n",
        "  def get_price(self):\n",
        "    return self.__bookPrice\n",
        "\n",
        "  def set_price(self, new_price):\n",
        "    self.__bookPrice = new_price\n",
        "    return self.__bookPrice\n",
        "\n",
        "book = BookShop('Snow White')\n",
        "book.selling_price()\n",
        "book.name"
      ],
      "metadata": {
        "id": "VCjb8tWiA9eU",
        "colab": {
          "base_uri": "https://localhost:8080/",
          "height": 53
        },
        "outputId": "719a74e0-9b5e-4fc0-a68c-75877beadeb4"
      },
      "execution_count": null,
      "outputs": [
        {
          "output_type": "stream",
          "name": "stdout",
          "text": [
            "The book cost 1500\n"
          ]
        },
        {
          "output_type": "execute_result",
          "data": {
            "text/plain": [
              "'Snow White'"
            ],
            "application/vnd.google.colaboratory.intrinsic+json": {
              "type": "string"
            }
          },
          "metadata": {},
          "execution_count": 57
        }
      ]
    },
    {
      "cell_type": "code",
      "source": [
        "book.set_price(2000)"
      ],
      "metadata": {
        "colab": {
          "base_uri": "https://localhost:8080/"
        },
        "id": "Ldgas9UqqsjU",
        "outputId": "5b930b01-fe0d-4ef2-de75-e79e6dcafb4c"
      },
      "execution_count": null,
      "outputs": [
        {
          "output_type": "execute_result",
          "data": {
            "text/plain": [
              "2000"
            ]
          },
          "metadata": {},
          "execution_count": 59
        }
      ]
    },
    {
      "cell_type": "code",
      "source": [
        "book.get_price()"
      ],
      "metadata": {
        "colab": {
          "base_uri": "https://localhost:8080/"
        },
        "id": "5vILdnG9qn2Q",
        "outputId": "3cd6328a-46da-4cc2-9b7e-b90f0e8c4e3f"
      },
      "execution_count": null,
      "outputs": [
        {
          "output_type": "execute_result",
          "data": {
            "text/plain": [
              "2000"
            ]
          },
          "metadata": {},
          "execution_count": 60
        }
      ]
    },
    {
      "cell_type": "code",
      "source": [
        "# Try to access directly the private attribute\n",
        "book.__bookPrice"
      ],
      "metadata": {
        "id": "m60zObwgNhY8",
        "colab": {
          "base_uri": "https://localhost:8080/",
          "height": 186
        },
        "outputId": "705da6a9-5907-4701-abf9-97cfea6ab7cd"
      },
      "execution_count": null,
      "outputs": [
        {
          "output_type": "error",
          "ename": "AttributeError",
          "evalue": "ignored",
          "traceback": [
            "\u001b[0;31m---------------------------------------------------------------------------\u001b[0m",
            "\u001b[0;31mAttributeError\u001b[0m                            Traceback (most recent call last)",
            "\u001b[0;32m<ipython-input-55-d05b312a1d58>\u001b[0m in \u001b[0;36m<module>\u001b[0;34m\u001b[0m\n\u001b[1;32m      1\u001b[0m \u001b[0;31m# Try to access directly the private attribute\u001b[0m\u001b[0;34m\u001b[0m\u001b[0;34m\u001b[0m\u001b[0;34m\u001b[0m\u001b[0m\n\u001b[0;32m----> 2\u001b[0;31m \u001b[0mbook\u001b[0m\u001b[0;34m.\u001b[0m\u001b[0m__bookPrice\u001b[0m\u001b[0;34m\u001b[0m\u001b[0;34m\u001b[0m\u001b[0m\n\u001b[0m",
            "\u001b[0;31mAttributeError\u001b[0m: 'BookShop' object has no attribute '__bookPrice'"
          ]
        }
      ]
    },
    {
      "cell_type": "code",
      "source": [
        "#Try to change the price\n",
        "book.__bookPrice = 2000\n",
        "book.selling_price()"
      ],
      "metadata": {
        "colab": {
          "base_uri": "https://localhost:8080/"
        },
        "id": "5IdUPORzQM_g",
        "outputId": "682983e7-7036-4192-cee3-106a82360e94"
      },
      "execution_count": null,
      "outputs": [
        {
          "output_type": "stream",
          "name": "stdout",
          "text": [
            "The book cost 1500\n"
          ]
        }
      ]
    },
    {
      "cell_type": "markdown",
      "source": [
        "Above, we  access the public attribute name of the class BookShop, but not the private attribute. Also we tried to modify the price of the book, and the output remains the same since __bookPrice is a private variable."
      ],
      "metadata": {
        "id": "22TuGeDnAZYv"
      }
    },
    {
      "cell_type": "markdown",
      "source": [
        "---\n",
        "\n",
        "### Exercise 4: \n",
        "* How can we accessed that private attribute?\n",
        "\n",
        "* What can we do to change that price?\n",
        "\n",
        "Hint: create two new methods, **get_price** and **set_price** in the BookShop class that will respectively get the price of the book and change it internally.\n",
        "\n",
        "---\n"
      ],
      "metadata": {
        "id": "EchGse0uswgI"
      }
    },
    {
      "cell_type": "code",
      "source": [
        "# Copy the BookShop class and edit it here"
      ],
      "metadata": {
        "id": "wOK9uerz_2Fx"
      },
      "execution_count": null,
      "outputs": []
    },
    {
      "cell_type": "code",
      "source": [
        "# Expected output\n",
        "book = BookShop('Snow White')\n",
        "book.get_price()\n",
        "book.set_price(2000)"
      ],
      "metadata": {
        "colab": {
          "base_uri": "https://localhost:8080/"
        },
        "id": "mJbBvnbcPkaw",
        "outputId": "cb8afd2c-80b4-445f-b947-f1b2d3097640"
      },
      "execution_count": null,
      "outputs": [
        {
          "output_type": "stream",
          "name": "stdout",
          "text": [
            "1500\n",
            "The book cost 2000\n"
          ]
        }
      ]
    },
    {
      "cell_type": "markdown",
      "source": [
        "2. Inheritance\n",
        "\n",
        "It consists of creating a new class by using details of an already built or existing  class. The newly formed class is called the derived class or child class and the existing class is called the base class or parent class.\n",
        "\n",
        "Example."
      ],
      "metadata": {
        "id": "ds6Pv7pbVOuM"
      }
    },
    {
      "cell_type": "code",
      "source": [
        "# Create parent class\n",
        "class Person:\n",
        "\n",
        "  #instance attribute\n",
        "  def __init__(self,first_name, last_name, age):\n",
        "    self.first_name = first_name\n",
        "    self.last_name = last_name\n",
        "    self.age = age\n",
        "\n",
        "  def presentation(self):\n",
        "    print(f\"My name is {self.first_name} {self.last_name} and I'm {self.age} years old.\")\n",
        "\n",
        "# Create child class\n",
        "class Student(Person):\n",
        "  \n",
        "  def __init__(self,first_name, last_name, age,gender):\n",
        "    self.gender = gender\n",
        "\n",
        "    #give access to attribute and methods of a parent class\n",
        "    super().__init__(first_name, last_name, age)\n",
        "    # Person.__init__(self,first_name, last_name, age)\n",
        "  \n",
        "  def get_gender(self):\n",
        "      print(f\"I'm a {self.gender}.\")\n",
        "\n",
        "#create an object\n",
        "# person = Person('Tom','peter',18)\n",
        "# person.presentation()\n",
        "\n",
        "student = Student('Tom','peter',18,'male')\n",
        "student.presentation()\n",
        "student.get_gender()"
      ],
      "metadata": {
        "colab": {
          "base_uri": "https://localhost:8080/"
        },
        "id": "ku8BYtzHzJ8B",
        "outputId": "3cab827e-e330-4f04-c915-5b2f7e171f94"
      },
      "execution_count": null,
      "outputs": [
        {
          "output_type": "stream",
          "name": "stdout",
          "text": [
            "My name is Tom peter and I'm 18 years old.\n",
            "I'm a male.\n"
          ]
        }
      ]
    },
    {
      "cell_type": "code",
      "source": [],
      "metadata": {
        "id": "sD2y8IIDsgc6"
      },
      "execution_count": null,
      "outputs": []
    },
    {
      "cell_type": "markdown",
      "source": [
        "---\n",
        "### Exercise 5: \n",
        "\n",
        "Create a class lecturer that inherit from the class Person, and with a method \"courses\" which print out the courses spent by the lecturer.\n",
        "\n",
        "---"
      ],
      "metadata": {
        "id": "h0GztQ3ATMps"
      }
    },
    {
      "cell_type": "code",
      "source": [
        "## WRITE YOUR CODE HERE ##\n",
        "\n",
        "class Lecturer(Person):\n",
        "\n",
        "  def __init__(self,first_name, last_name, age, course1, course2):\n",
        "    self.course1 = course1\n",
        "    self.course2 = course2\n",
        "\n",
        "    super().__init__(first_name, last_name, age)\n",
        "\n",
        "  def courses(self):\n",
        "    return (\"The courses taught by \" + self.first_name + \" \" +self.last_name +  \"are \" + self.course1 + \" \" + self.course2)"
      ],
      "metadata": {
        "id": "TUUi9RlGTMGR"
      },
      "execution_count": null,
      "outputs": []
    },
    {
      "cell_type": "code",
      "source": [
        "lecturer = Lecturer(\"Abigail\", \"Abeo\", 90, \"Mathematics\", \"Physics\")\n",
        "print(lecturer.courses())\n",
        "print(lecturer.presentation())"
      ],
      "metadata": {
        "colab": {
          "base_uri": "https://localhost:8080/"
        },
        "id": "1oaFm9SOw4Ch",
        "outputId": "606f4b1b-6141-4d05-91db-e69a6c45ce12"
      },
      "execution_count": null,
      "outputs": [
        {
          "output_type": "stream",
          "name": "stdout",
          "text": [
            "The courses taught by Abigail Abeoare Mathematics Physics\n",
            "My name is Abigail Abeo and I'm 90 years old.\n",
            "None\n"
          ]
        }
      ]
    },
    {
      "cell_type": "markdown",
      "source": [
        "3. Polymorphism\n",
        "\n",
        " It simply means the ability of a same method to perform different tasks. In other terms, when a child class inherited methods from a parent class, it can happen that a given inherited method doesn't fit into the child class; in such cases, it is possible to re-implement that method in the child class.\n",
        "\n",
        "\n",
        "**Illustration**\n"
      ],
      "metadata": {
        "id": "BgUvcKGLU0c0"
      }
    },
    {
      "cell_type": "code",
      "source": [
        "class Person:\n",
        "\n",
        "  #instance attribute\n",
        "  def __init__(self,first_name, last_name, age):\n",
        "    self.first_name = first_name\n",
        "    self.last_name = last_name\n",
        "    self.age = age\n",
        "\n",
        "  def presentation(self):\n",
        "    print(f\"My name is {self.first_name} {self.last_name} and I'm {self.age} years old.\")\n",
        "\n",
        "# Create child class\n",
        "class AMMIStudent(Person):\n",
        "  \n",
        "  def __init__(self,first_name,age, last_name,gender):\n",
        "    self.gender = gender\n",
        "    \n",
        "    super().__init__(first_name, age,last_name)\n",
        "  \n",
        "  def presentation(self):\n",
        "      print(f\"My name is {self.first_name} {self.last_name} and I'm a {self.gender}.\")\n",
        "\n",
        "\n",
        "person = Person('John','peter',18)\n",
        "person.presentation()\n",
        "student = AMMIStudent('John','peter',18,'male')\n",
        "student.presentation()"
      ],
      "metadata": {
        "colab": {
          "base_uri": "https://localhost:8080/"
        },
        "id": "kfImZWDuseZg",
        "outputId": "c0fd409f-effa-4b0e-956d-e91723b36f1d"
      },
      "execution_count": null,
      "outputs": [
        {
          "output_type": "stream",
          "name": "stdout",
          "text": [
            "My name is John peter and I'm 18 years old.\n",
            "My name is John peter and I'm a male.\n"
          ]
        }
      ]
    },
    {
      "cell_type": "markdown",
      "source": [
        "---\n",
        "### Exercise 6:\n",
        "\n",
        "Create a class **Shape** with attributes, side, length, and width. Create two order classes named **Square** and **Rectangle** that inheritated from the **Shape** class and each contains a method **compute_area** that compute and display the area of a square and rectangle respectively. \n",
        "\n",
        "---\n"
      ],
      "metadata": {
        "id": "y5-5LOTnhuxo"
      }
    },
    {
      "cell_type": "code",
      "source": [
        "## COMPLETE THE CODE BELOW\n",
        "\n",
        "#Parent class\n",
        "class Shape:\n",
        "  def __init__(self,side,length,width):\n",
        "    self.side = side\n",
        "    self.length = length\n",
        "    self.width = width\n",
        "\n",
        "\n",
        "# Child class\n",
        "class Square(Shape):\n",
        "  def __init__(self, side):\n",
        "    super().__init__(side, None, None)\n",
        "  def compute_area(self):\n",
        "    return self.side**2\n",
        "\n",
        "# Child class\n",
        "class Rectangle(Shape):\n",
        "  def __init__(self, length, width):\n",
        "    super().__init__(None, length, width)\n",
        "  def compute_area(self):\n",
        "    return self.length * self.width \n"
      ],
      "metadata": {
        "id": "MTOxGe9Tks7e"
      },
      "execution_count": null,
      "outputs": []
    },
    {
      "cell_type": "code",
      "source": [
        "## TEST YOUR CODE HERE ##\n",
        "square = Square(2)\n",
        "rectangle = Rectangle(10,5)\n",
        "\n",
        "print(square.compute_area())\n",
        "print(rectangle.compute_area())"
      ],
      "metadata": {
        "id": "FwWKijPIkv_I",
        "colab": {
          "base_uri": "https://localhost:8080/"
        },
        "outputId": "0a0dc114-d953-46fe-ced6-1ac476f94aa9"
      },
      "execution_count": null,
      "outputs": [
        {
          "output_type": "stream",
          "name": "stdout",
          "text": [
            "4\n",
            "50\n"
          ]
        }
      ]
    },
    {
      "cell_type": "markdown",
      "source": [
        "#### Comment the result."
      ],
      "metadata": {
        "id": "sKTYT3qVm1eK"
      }
    },
    {
      "cell_type": "markdown",
      "source": [
        "### References:\n",
        "\n",
        "1. [Explaining Python Classes in a simple way](https://towardsdatascience.com/explaining-python-classes-in-a-simple-way-e3742827c8b5#:~:text=Intro%20to%20Classes,-When%20you%20started&text=we%20assign%20a%20value%20to,have%20different%20properties%20and%20methods.)\n",
        "\n",
        "2. [Python OOPs Concepts](https://www.geeksforgeeks.org/python-oops-concepts/)\n",
        "\n",
        "3. [Classes](https://python-textbok.readthedocs.io/en/1.0/Classes.html)"
      ],
      "metadata": {
        "id": "RRtvGn6pRkmJ"
      }
    }
  ]
}