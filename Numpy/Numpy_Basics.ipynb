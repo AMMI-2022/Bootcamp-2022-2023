{
  "nbformat": 4,
  "nbformat_minor": 0,
  "metadata": {
    "colab": {
      "provenance": []
    },
    "kernelspec": {
      "name": "python3",
      "display_name": "Python 3"
    },
    "language_info": {
      "name": "python"
    }
  },
  "cells": [
    {
      "cell_type": "markdown",
      "source": [
        "## what is Numpy\n",
        "\n",
        "Numpy (Numerical Python) is an open source Python library that is used for arrays manipulations. It can be used to store data in one, two, three, ..., n dimensional arrays\n",
        "\n",
        "## Difference between numpy and python list:\n",
        "\n",
        "* numpy arrays store only data with same type however list can store different types of data\n",
        "\n",
        "* lists consumes more memory for storage than numpy which lead it to be slower.\n",
        "* Numpy uses contiguous memory and lists does not\n",
        "\n",
        "\n",
        "##Install Numpy"
      ],
      "metadata": {
        "id": "w89SjkQLjKHJ"
      }
    },
    {
      "cell_type": "code",
      "execution_count": null,
      "metadata": {
        "id": "KdSGq6M7jFDT"
      },
      "outputs": [],
      "source": [
        "#!pip install numpy"
      ]
    },
    {
      "cell_type": "markdown",
      "source": [
        "## Import Numpy"
      ],
      "metadata": {
        "id": "cNaLeRitoVFL"
      }
    },
    {
      "cell_type": "code",
      "source": [
        "import numpy as np\n",
        "import numpy as np\n",
        "\n"
      ],
      "metadata": {
        "id": "GhwMihNgoTxL",
        "colab": {
          "base_uri": "https://localhost:8080/"
        },
        "outputId": "231b47e9-7650-4e7e-f7b6-e6a6cd3fc3e4"
      },
      "execution_count": null,
      "outputs": [
        {
          "output_type": "stream",
          "name": "stdout",
          "text": [
            "[ 3 12]\n"
          ]
        }
      ]
    },
    {
      "cell_type": "markdown",
      "source": [
        "## create arrays with numpy"
      ],
      "metadata": {
        "id": "y-TwdNdvoZqA"
      }
    },
    {
      "cell_type": "code",
      "source": [
        "#create 1D numpy array\n",
        "a1 = np.array([1.0, 2,3], dtype=\"float16\")\n",
        "a1"
      ],
      "metadata": {
        "colab": {
          "base_uri": "https://localhost:8080/"
        },
        "id": "W8WFLGnioYod",
        "outputId": "9ab4ebaa-e90c-4463-88b9-d0120627fae7"
      },
      "execution_count": null,
      "outputs": [
        {
          "output_type": "execute_result",
          "data": {
            "text/plain": [
              "array([1., 2., 3.], dtype=float16)"
            ]
          },
          "metadata": {},
          "execution_count": 54
        }
      ]
    },
    {
      "cell_type": "code",
      "source": [
        "#create 2D numpy arrays\n",
        "a2 =np.array([[1,2,3], [4,5,6]])\n",
        "a2"
      ],
      "metadata": {
        "id": "JEttxCWKoiET",
        "colab": {
          "base_uri": "https://localhost:8080/"
        },
        "outputId": "7b9be97f-2efc-4210-c74e-911f106cf859"
      },
      "execution_count": null,
      "outputs": [
        {
          "output_type": "execute_result",
          "data": {
            "text/plain": [
              "array([[1, 2, 3],\n",
              "       [4, 5, 6]])"
            ]
          },
          "metadata": {},
          "execution_count": 150
        }
      ]
    },
    {
      "cell_type": "code",
      "source": [
        "# create 3D array\n",
        "a3=np.array([[[1,2,3],[4,5,6],[7,8,9]]])\n",
        "a3"
      ],
      "metadata": {
        "id": "u6s1DFx7pZdf",
        "colab": {
          "base_uri": "https://localhost:8080/"
        },
        "outputId": "0e7d492f-0824-4cc9-d0f9-543e1352e612"
      },
      "execution_count": null,
      "outputs": [
        {
          "output_type": "execute_result",
          "data": {
            "text/plain": [
              "array([[[1, 2, 3],\n",
              "        [4, 5, 6],\n",
              "        [7, 8, 9]]])"
            ]
          },
          "metadata": {},
          "execution_count": 41
        }
      ]
    },
    {
      "cell_type": "markdown",
      "source": [
        "## Dimension, shapes and types"
      ],
      "metadata": {
        "id": "67xVtf31pT6k"
      }
    },
    {
      "cell_type": "code",
      "source": [
        "#Dimension\n",
        "a1.ndim, a2.ndim, a3.ndim"
      ],
      "metadata": {
        "id": "sKH0w-xIo7sH",
        "colab": {
          "base_uri": "https://localhost:8080/"
        },
        "outputId": "f2a943e1-5829-474f-8d7e-b2f7ab4b0aa4"
      },
      "execution_count": null,
      "outputs": [
        {
          "output_type": "execute_result",
          "data": {
            "text/plain": [
              "(1, 2, 3)"
            ]
          },
          "metadata": {},
          "execution_count": 42
        }
      ]
    },
    {
      "cell_type": "code",
      "source": [
        "#shape\n",
        "a1.shape\n",
        "a2.shape\n",
        "a3.shape"
      ],
      "metadata": {
        "id": "1bJCPssjpeCq",
        "colab": {
          "base_uri": "https://localhost:8080/"
        },
        "outputId": "846df0f5-2ba6-480c-8fe9-5c710ff799d2"
      },
      "execution_count": null,
      "outputs": [
        {
          "output_type": "execute_result",
          "data": {
            "text/plain": [
              "(1, 3, 3)"
            ]
          },
          "metadata": {},
          "execution_count": 45
        }
      ]
    },
    {
      "cell_type": "code",
      "source": [
        "#types\n",
        "a1.dtype"
      ],
      "metadata": {
        "id": "uTJfag0Aphc4",
        "colab": {
          "base_uri": "https://localhost:8080/"
        },
        "outputId": "211d981c-be0e-4d2a-9f2b-17b38f865f5c"
      },
      "execution_count": null,
      "outputs": [
        {
          "output_type": "execute_result",
          "data": {
            "text/plain": [
              "dtype('float16')"
            ]
          },
          "metadata": {},
          "execution_count": 55
        }
      ]
    },
    {
      "cell_type": "markdown",
      "source": [
        "## Accessing elements in numpy array (indexing and slicing)\n",
        "\n",
        "---\n",
        "\n"
      ],
      "metadata": {
        "id": "YpK7fwwL8185"
      }
    },
    {
      "cell_type": "code",
      "source": [
        "A = np.array([[1,2,3],[4,5,6]])\n",
        "A.shape"
      ],
      "metadata": {
        "colab": {
          "base_uri": "https://localhost:8080/"
        },
        "id": "du1KrTupqFON",
        "outputId": "37a78d42-9527-4e81-cf54-e68b3dd9d198"
      },
      "execution_count": null,
      "outputs": [
        {
          "output_type": "execute_result",
          "data": {
            "text/plain": [
              "(2, 3)"
            ]
          },
          "metadata": {},
          "execution_count": 49
        }
      ]
    },
    {
      "cell_type": "code",
      "source": [
        "%%timeit\n",
        "#indexing\n",
        "A[1][1]\n",
        "A[1,1]"
      ],
      "metadata": {
        "id": "ajkUf7vo9K_n",
        "colab": {
          "base_uri": "https://localhost:8080/"
        },
        "outputId": "66bde5ef-32a0-4361-8466-85cbcc843fe9"
      },
      "execution_count": null,
      "outputs": [
        {
          "output_type": "stream",
          "name": "stdout",
          "text": [
            "159 ns ± 50.6 ns per loop (mean ± std. dev. of 7 runs, 10000000 loops each)\n"
          ]
        }
      ]
    },
    {
      "cell_type": "code",
      "source": [
        "#slicing\n",
        "A[0:2, 1:3]"
      ],
      "metadata": {
        "id": "ReaH5hdV9oSg",
        "colab": {
          "base_uri": "https://localhost:8080/"
        },
        "outputId": "2015f78c-1b72-48fe-8c70-b8a0e8d3c21a"
      },
      "execution_count": null,
      "outputs": [
        {
          "output_type": "execute_result",
          "data": {
            "text/plain": [
              "array([[2, 3],\n",
              "       [5, 6]])"
            ]
          },
          "metadata": {},
          "execution_count": 59
        }
      ]
    },
    {
      "cell_type": "markdown",
      "source": [
        "##Exercise:\n",
        "\n",
        "Write a code using slicing to reverse a numpy 1D array\n"
      ],
      "metadata": {
        "id": "7Oc0IZls7lBB"
      }
    },
    {
      "cell_type": "code",
      "source": [
        "x = np.array([1,2,3])\n",
        "## code here\n",
        "x = x[::-1]\n",
        "x"
      ],
      "metadata": {
        "id": "blhAj1fa7ze7",
        "colab": {
          "base_uri": "https://localhost:8080/"
        },
        "outputId": "11d12b1d-53e7-47a9-d999-c613609e73b9"
      },
      "execution_count": null,
      "outputs": [
        {
          "output_type": "execute_result",
          "data": {
            "text/plain": [
              "array([3, 2, 1])"
            ]
          },
          "metadata": {},
          "execution_count": 63
        }
      ]
    },
    {
      "cell_type": "markdown",
      "source": [
        "# Boolean or “mask” index arrays\n",
        "#### Boolean arrays used as indices are treated in a different manner entirely than index arrays. Boolean arrays must be of the same shape as the initial dimensions of the array being indexed. In the most straightforward case, the boolean array has the same shape:"
      ],
      "metadata": {
        "id": "2w6xoQ9vlFxU"
      }
    },
    {
      "cell_type": "code",
      "source": [
        "y = np.array([[ 0,  1,  2,  3],\n",
        "       [ 4,  5,  6,  7],\n",
        "       [ 8,  9, 10, 11],\n",
        "       [12, 13, 14, 15],\n",
        "       [16, 17, 18, 19]])\n",
        "y.shape"
      ],
      "metadata": {
        "colab": {
          "base_uri": "https://localhost:8080/"
        },
        "id": "aIWWOfRWlDo8",
        "outputId": "4ce16f78-afb5-4ab1-c260-8b0cfcacba3b"
      },
      "execution_count": null,
      "outputs": [
        {
          "output_type": "execute_result",
          "data": {
            "text/plain": [
              "(5, 4)"
            ]
          },
          "metadata": {},
          "execution_count": 87
        }
      ]
    },
    {
      "cell_type": "code",
      "source": [
        "#check if all values in y are > 15 and < 20\n",
        "x = (y > 15) & (y < 20)\n",
        "x"
      ],
      "metadata": {
        "id": "Nje_N23Tla-L",
        "colab": {
          "base_uri": "https://localhost:8080/"
        },
        "outputId": "68b7d724-e66f-4723-d96d-a06ef6641489"
      },
      "execution_count": null,
      "outputs": [
        {
          "output_type": "execute_result",
          "data": {
            "text/plain": [
              "array([[False, False, False, False],\n",
              "       [False, False, False, False],\n",
              "       [False, False, False, False],\n",
              "       [False, False, False, False],\n",
              "       [ True,  True,  True,  True]])"
            ]
          },
          "metadata": {},
          "execution_count": 73
        }
      ]
    },
    {
      "cell_type": "code",
      "source": [
        "x.astype(int)"
      ],
      "metadata": {
        "colab": {
          "base_uri": "https://localhost:8080/"
        },
        "id": "8wvkAlTSsPue",
        "outputId": "42793e7d-f8c4-4818-cee9-40600da0ff6c"
      },
      "execution_count": null,
      "outputs": [
        {
          "output_type": "execute_result",
          "data": {
            "text/plain": [
              "array([[0, 0, 0, 0],\n",
              "       [0, 0, 0, 0],\n",
              "       [0, 0, 0, 0],\n",
              "       [0, 0, 0, 0],\n",
              "       [1, 1, 1, 1]])"
            ]
          },
          "metadata": {},
          "execution_count": 71
        }
      ]
    },
    {
      "cell_type": "markdown",
      "source": [
        "## np.where()"
      ],
      "metadata": {
        "id": "i9iZY2jol4j3"
      }
    },
    {
      "cell_type": "code",
      "source": [
        "#replace all values in y that are > 15 by -1 using np.where\n",
        "np.where((y>15), -1, y)"
      ],
      "metadata": {
        "id": "Vq4pHYK_l8A2",
        "colab": {
          "base_uri": "https://localhost:8080/"
        },
        "outputId": "af2950b9-4a42-4ea5-a7f8-a521e05497a2"
      },
      "execution_count": null,
      "outputs": [
        {
          "output_type": "execute_result",
          "data": {
            "text/plain": [
              "array([[ 0,  1,  2,  3],\n",
              "       [ 4,  5,  6,  7],\n",
              "       [ 8,  9, 10, 11],\n",
              "       [12, 13, 14, 15],\n",
              "       [-1, -1, -1, -1]])"
            ]
          },
          "metadata": {},
          "execution_count": 83
        }
      ]
    },
    {
      "cell_type": "markdown",
      "source": [
        "## Exercise:\n",
        "\n",
        "Replace all even numbers in the given array with -1 using np.where"
      ],
      "metadata": {
        "id": "HzFyULoiNfsD"
      }
    },
    {
      "cell_type": "code",
      "source": [
        "#write answer here\n",
        "x = np.array([0, 1, 2, 3, 4, 5, 6, 7, 8, 9])\n",
        "\n",
        "np.where(x % 2 == 0, -1, x)\n"
      ],
      "metadata": {
        "id": "4p39ijOWNQdv",
        "colab": {
          "base_uri": "https://localhost:8080/"
        },
        "outputId": "59958d0e-3665-4735-9e64-bcd14bde3ab5"
      },
      "execution_count": null,
      "outputs": [
        {
          "output_type": "execute_result",
          "data": {
            "text/plain": [
              "array([-1,  1, -1,  3, -1,  5, -1,  7, -1,  9])"
            ]
          },
          "metadata": {},
          "execution_count": 90
        }
      ]
    },
    {
      "cell_type": "markdown",
      "source": [
        "## Initializing arrays"
      ],
      "metadata": {
        "id": "mcp2F4C9cFPF"
      }
    },
    {
      "cell_type": "code",
      "source": [
        "#create matrix with only ones\n",
        "np.ones((3,3), dtype=\"int\")"
      ],
      "metadata": {
        "id": "v6UGRk9I9xeJ",
        "colab": {
          "base_uri": "https://localhost:8080/"
        },
        "outputId": "2f46b77e-e610-4bff-b49e-2b1725a755e2"
      },
      "execution_count": null,
      "outputs": [
        {
          "output_type": "execute_result",
          "data": {
            "text/plain": [
              "array([[1, 1, 1],\n",
              "       [1, 1, 1],\n",
              "       [1, 1, 1]])"
            ]
          },
          "metadata": {},
          "execution_count": 92
        }
      ]
    },
    {
      "cell_type": "code",
      "source": [
        "## create a matrix with only zeros\n",
        "np.zeros((3,4))\n"
      ],
      "metadata": {
        "id": "pQyXe_3UcSdt",
        "colab": {
          "base_uri": "https://localhost:8080/"
        },
        "outputId": "88c34be3-92bb-4d75-d332-9a9a0358795d"
      },
      "execution_count": null,
      "outputs": [
        {
          "output_type": "execute_result",
          "data": {
            "text/plain": [
              "array([[0., 0., 0., 0.],\n",
              "       [0., 0., 0., 0.],\n",
              "       [0., 0., 0., 0.]])"
            ]
          },
          "metadata": {},
          "execution_count": 93
        }
      ]
    },
    {
      "cell_type": "markdown",
      "source": [
        "## Ex:\n",
        "\n",
        "Write a code to create a numpy zero vector of size 10 and update element at index 5 and 6 with values to 10 and 11\n",
        "\n"
      ],
      "metadata": {
        "id": "ea99x-O-5spw"
      }
    },
    {
      "cell_type": "code",
      "source": [
        "## code here"
      ],
      "metadata": {
        "id": "jFx3vBXH5v-i"
      },
      "execution_count": null,
      "outputs": []
    },
    {
      "cell_type": "markdown",
      "source": [
        "##Ex:\n",
        "\n",
        "Write a NumPy program to create a 2d array with 1 on the border and 0 inside"
      ],
      "metadata": {
        "id": "02Tbtp0m9H5b"
      }
    },
    {
      "cell_type": "code",
      "source": [
        "## code here\n",
        "A=np.ones((4,7))\n",
        "A[1:-1,1:-1]=0\n",
        "A"
      ],
      "metadata": {
        "id": "DQjQ0VLF9Ltp",
        "colab": {
          "base_uri": "https://localhost:8080/"
        },
        "outputId": "91cf820e-12fc-4265-b8ab-ed60e3b9afb0"
      },
      "execution_count": null,
      "outputs": [
        {
          "output_type": "execute_result",
          "data": {
            "text/plain": [
              "array([[1., 1., 1., 1., 1., 1., 1.],\n",
              "       [1., 0., 0., 0., 0., 0., 1.],\n",
              "       [1., 0., 0., 0., 0., 0., 1.],\n",
              "       [1., 1., 1., 1., 1., 1., 1.]])"
            ]
          },
          "metadata": {},
          "execution_count": 97
        }
      ]
    },
    {
      "cell_type": "code",
      "source": [
        "## matrix with any other value np.full\n",
        "np.full((3,3), 5)\n"
      ],
      "metadata": {
        "id": "pmFDQ43pdD0C",
        "colab": {
          "base_uri": "https://localhost:8080/"
        },
        "outputId": "2ce8e9a0-e88d-4846-eb34-d1ddadfd3c4b"
      },
      "execution_count": null,
      "outputs": [
        {
          "output_type": "execute_result",
          "data": {
            "text/plain": [
              "array([[5, 5, 5],\n",
              "       [5, 5, 5],\n",
              "       [5, 5, 5]])"
            ]
          },
          "metadata": {},
          "execution_count": 98
        }
      ]
    },
    {
      "cell_type": "code",
      "source": [
        "# create matrix with random values sampled from a uniform distribution(np.random.rand)\n",
        "np.random.rand(2,3)"
      ],
      "metadata": {
        "id": "BRm79qixcnbl",
        "colab": {
          "base_uri": "https://localhost:8080/"
        },
        "outputId": "977499a1-2bdf-4f5d-8f2b-455fb4fc69bb"
      },
      "execution_count": null,
      "outputs": [
        {
          "output_type": "execute_result",
          "data": {
            "text/plain": [
              "array([[0.95224063, 0.02266368, 0.26380891],\n",
              "       [0.61556929, 0.07773875, 0.90313725]])"
            ]
          },
          "metadata": {},
          "execution_count": 100
        }
      ]
    },
    {
      "cell_type": "code",
      "source": [
        "# create matrix with random values sampled from a normal distribution(np.random.randn)\n",
        "np.random.randn(2,3)"
      ],
      "metadata": {
        "id": "fBE3fT_Zd2O7",
        "colab": {
          "base_uri": "https://localhost:8080/"
        },
        "outputId": "740fcb88-bbd8-49d5-b16d-96737da39a65"
      },
      "execution_count": null,
      "outputs": [
        {
          "output_type": "execute_result",
          "data": {
            "text/plain": [
              "array([[ 1.1326953 , -0.8793458 , -0.27364758],\n",
              "       [ 1.87604583, -0.88336921,  0.90396947]])"
            ]
          },
          "metadata": {},
          "execution_count": 101
        }
      ]
    },
    {
      "cell_type": "code",
      "source": [
        "# create matrix with random int values from 0 to 10(np.random.randint)\n",
        "np.random.randint(0, 10, (3,3))"
      ],
      "metadata": {
        "id": "RPmtzOt3eGx5",
        "colab": {
          "base_uri": "https://localhost:8080/"
        },
        "outputId": "c9c8216f-d145-4f1a-fe6d-2b4a4d8c5b1f"
      },
      "execution_count": null,
      "outputs": [
        {
          "output_type": "execute_result",
          "data": {
            "text/plain": [
              "array([[3, 5, 3],\n",
              "       [0, 5, 6],\n",
              "       [0, 5, 1]])"
            ]
          },
          "metadata": {},
          "execution_count": 102
        }
      ]
    },
    {
      "cell_type": "code",
      "source": [
        "## create identity matrix(np.identity)\n",
        "np.identity(2)\n"
      ],
      "metadata": {
        "id": "aTW_VxJuej54",
        "colab": {
          "base_uri": "https://localhost:8080/"
        },
        "outputId": "13c3fc4b-3c88-43a4-b2e7-b6c6c789243d"
      },
      "execution_count": null,
      "outputs": [
        {
          "output_type": "execute_result",
          "data": {
            "text/plain": [
              "array([[1., 0.],\n",
              "       [0., 1.]])"
            ]
          },
          "metadata": {},
          "execution_count": 105
        }
      ]
    },
    {
      "cell_type": "code",
      "source": [
        "## create matrix containing numbers from 0 to 10(np.arange)\n",
        "np.arange(0, 10)"
      ],
      "metadata": {
        "id": "ko_QZcD7i46n",
        "colab": {
          "base_uri": "https://localhost:8080/"
        },
        "outputId": "c92b7bc5-8c3b-4a78-c6a9-c7a77f883eed"
      },
      "execution_count": null,
      "outputs": [
        {
          "output_type": "execute_result",
          "data": {
            "text/plain": [
              "array([0, 1, 2, 3, 4, 5, 6, 7, 8, 9])"
            ]
          },
          "metadata": {},
          "execution_count": 106
        }
      ]
    },
    {
      "cell_type": "code",
      "source": [
        "## create matrix containing even numbers from 0 to 10(np.arange)\n",
        "np.arange(0, 11, 2)"
      ],
      "metadata": {
        "id": "WDZmAwVSi9Zd",
        "colab": {
          "base_uri": "https://localhost:8080/"
        },
        "outputId": "7107d410-f2f5-4b6a-be30-39dc53db2911"
      },
      "execution_count": null,
      "outputs": [
        {
          "output_type": "execute_result",
          "data": {
            "text/plain": [
              "array([ 0,  2,  4,  6,  8, 10])"
            ]
          },
          "metadata": {},
          "execution_count": 108
        }
      ]
    },
    {
      "cell_type": "markdown",
      "source": [
        "### *When arange is used with floating point arguments, it is generally not possible to predict the number of elements obtained, due to the finite floating point precision. For this reason, it is usually better to use the function linspace that receives as an argument the number of elements that we want, instead of the step:*"
      ],
      "metadata": {
        "id": "a8Ka7uwhjve9"
      }
    },
    {
      "cell_type": "code",
      "source": [
        "#create an array of 8 elements between 0 and 3(np.linspace)\n",
        "x = np.linspace(0, 3, 8)\n",
        "x.shape"
      ],
      "metadata": {
        "id": "CvzamAr6jxVx",
        "colab": {
          "base_uri": "https://localhost:8080/"
        },
        "outputId": "d82868d5-acb0-40d9-f8a5-b96ce51c1f5d"
      },
      "execution_count": null,
      "outputs": [
        {
          "output_type": "execute_result",
          "data": {
            "text/plain": [
              "(8,)"
            ]
          },
          "metadata": {},
          "execution_count": 110
        }
      ]
    },
    {
      "cell_type": "code",
      "source": [
        "x = x.reshape(2,4)\n",
        "x.shape"
      ],
      "metadata": {
        "colab": {
          "base_uri": "https://localhost:8080/"
        },
        "id": "LEgbXAxG0_OX",
        "outputId": "180e710e-7fe2-464f-cbfb-0fa93548dfa5"
      },
      "execution_count": null,
      "outputs": [
        {
          "output_type": "execute_result",
          "data": {
            "text/plain": [
              "(2, 4)"
            ]
          },
          "metadata": {},
          "execution_count": 112
        }
      ]
    },
    {
      "cell_type": "code",
      "source": [
        "x"
      ],
      "metadata": {
        "colab": {
          "base_uri": "https://localhost:8080/"
        },
        "id": "isxpn6Xj1IDu",
        "outputId": "70ab5134-57a6-4240-c13d-e5cdd72ff762"
      },
      "execution_count": null,
      "outputs": [
        {
          "output_type": "execute_result",
          "data": {
            "text/plain": [
              "array([[0.        , 0.42857143, 0.85714286, 1.28571429],\n",
              "       [1.71428571, 2.14285714, 2.57142857, 3.        ]])"
            ]
          },
          "metadata": {},
          "execution_count": 113
        }
      ]
    },
    {
      "cell_type": "markdown",
      "source": [
        "#Ex:\n",
        "\n",
        "Write a code to create a numpy 3x3 matrix with values ranging from 2 to 10. "
      ],
      "metadata": {
        "id": "Wt6kDFuYvkec"
      }
    },
    {
      "cell_type": "code",
      "source": [],
      "metadata": {
        "colab": {
          "base_uri": "https://localhost:8080/"
        },
        "id": "yxf_U-Up8Vmv",
        "outputId": "f28586d6-e296-4eb2-f4f5-65229a1fb715"
      },
      "execution_count": null,
      "outputs": [
        {
          "output_type": "execute_result",
          "data": {
            "text/plain": [
              "array([[ 2,  3,  4],\n",
              "       [ 5,  6,  7],\n",
              "       [ 8,  9, 10]])"
            ]
          },
          "metadata": {},
          "execution_count": 21
        }
      ]
    },
    {
      "cell_type": "markdown",
      "source": [
        "## Copying matrix"
      ],
      "metadata": {
        "id": "YBCc9zBCguJ7"
      }
    },
    {
      "cell_type": "code",
      "source": [
        "a = np.array([1,2,3,4])\n",
        "\n",
        "#copy a in b\n",
        "a"
      ],
      "metadata": {
        "id": "aJ-_KHCTfPuL",
        "colab": {
          "base_uri": "https://localhost:8080/"
        },
        "outputId": "4e532638-c4fd-4f7f-ca82-f5eae7bd3434"
      },
      "execution_count": null,
      "outputs": [
        {
          "output_type": "execute_result",
          "data": {
            "text/plain": [
              "array([1, 2, 3, 4])"
            ]
          },
          "metadata": {},
          "execution_count": 117
        }
      ]
    },
    {
      "cell_type": "code",
      "source": [
        "b = a\n",
        "b[0] = 10\n",
        "b"
      ],
      "metadata": {
        "colab": {
          "base_uri": "https://localhost:8080/"
        },
        "id": "U2ez1gIE1hA1",
        "outputId": "a0878608-84f8-471c-da95-1f5200767435"
      },
      "execution_count": null,
      "outputs": [
        {
          "output_type": "execute_result",
          "data": {
            "text/plain": [
              "array([10,  2,  3,  4])"
            ]
          },
          "metadata": {},
          "execution_count": 115
        }
      ]
    },
    {
      "cell_type": "code",
      "source": [
        "a"
      ],
      "metadata": {
        "colab": {
          "base_uri": "https://localhost:8080/"
        },
        "id": "7yyNGZg01mO-",
        "outputId": "8b5927aa-8aa6-46d2-80cc-f42f293757fa"
      },
      "execution_count": null,
      "outputs": [
        {
          "output_type": "execute_result",
          "data": {
            "text/plain": [
              "array([10,  2,  3,  4])"
            ]
          },
          "metadata": {},
          "execution_count": 116
        }
      ]
    },
    {
      "cell_type": "code",
      "source": [
        "a = np.array([1,2,3,4])\n",
        "b = a.copy()\n",
        "b[0] = 10"
      ],
      "metadata": {
        "id": "nD9hwMOxg-VS"
      },
      "execution_count": null,
      "outputs": []
    },
    {
      "cell_type": "code",
      "source": [
        "b"
      ],
      "metadata": {
        "colab": {
          "base_uri": "https://localhost:8080/"
        },
        "id": "BGd119uc1wpJ",
        "outputId": "2993c5cb-41bf-4204-86b3-a8b4f5d07fd7"
      },
      "execution_count": null,
      "outputs": [
        {
          "output_type": "execute_result",
          "data": {
            "text/plain": [
              "array([10,  2,  3,  4])"
            ]
          },
          "metadata": {},
          "execution_count": 119
        }
      ]
    },
    {
      "cell_type": "code",
      "source": [
        "a"
      ],
      "metadata": {
        "colab": {
          "base_uri": "https://localhost:8080/"
        },
        "id": "HVYK40Bf1yA4",
        "outputId": "e7ca6cec-11d7-4e77-fcd3-52447ecdbfc0"
      },
      "execution_count": null,
      "outputs": [
        {
          "output_type": "execute_result",
          "data": {
            "text/plain": [
              "array([1, 2, 3, 4])"
            ]
          },
          "metadata": {},
          "execution_count": 120
        }
      ]
    },
    {
      "cell_type": "markdown",
      "source": [
        "## Math and numpy"
      ],
      "metadata": {
        "id": "DS-gmT8Ckl2I"
      }
    },
    {
      "cell_type": "code",
      "source": [
        "x = np.array([[1,2],[3,4]], dtype=np.float64)\n",
        "y = np.array([[5,6],[7,8]], dtype=np.float64)\n",
        "\n",
        "# Elementwise sum\n",
        "# print(x + y)\n",
        "# print(np.add(x, y))\n",
        "\n",
        "\n",
        "\n",
        "\n",
        "# Elementwise difference\n",
        "# print(x - y)\n",
        "# print(np.subtract(x,y))\n",
        "\n",
        "# Elementwise product\n",
        "# print(x * y)\n",
        "# print(np.multiply(x, y))\n",
        "\n",
        "# Elementwise division\n",
        "print(np.divide(x,y))\n",
        "print(x/y)"
      ],
      "metadata": {
        "id": "n-dlOA_XhCig",
        "colab": {
          "base_uri": "https://localhost:8080/"
        },
        "outputId": "875031c2-6471-45d6-c209-b75538d1d1ef"
      },
      "execution_count": null,
      "outputs": [
        {
          "output_type": "stream",
          "name": "stdout",
          "text": [
            "[[0.2        0.33333333]\n",
            " [0.42857143 0.5       ]]\n",
            "[[0.2        0.33333333]\n",
            " [0.42857143 0.5       ]]\n"
          ]
        }
      ]
    },
    {
      "cell_type": "markdown",
      "source": [
        "\\* is elementwise multiplication, not matrix multiplication. .dot function is used to compute inner products of vectors, to multiply a vector by a matrix, and to multiply matrices"
      ],
      "metadata": {
        "id": "So-pzC-DndaG"
      }
    },
    {
      "cell_type": "code",
      "source": [
        "x = np.array([[1,2],[3,4]])\n",
        "y = np.array([[5,6],[7,8]])\n",
        "\n",
        "v = np.array([9,10])\n",
        "w = np.array([11, 12])\n",
        "\n",
        "## vector product, v and w\n",
        "print(np.dot(v, w))\n",
        "\n",
        "\n",
        "\n",
        "# Matrix / vector product, x and v\n",
        "print(np.dot(x, v))\n",
        "\n",
        "# Matrix / matrix product, x and y\n",
        "print(np.dot(x,y))"
      ],
      "metadata": {
        "id": "wlVK2QCdnF4p",
        "colab": {
          "base_uri": "https://localhost:8080/"
        },
        "outputId": "598e8893-8c52-40f6-aa93-b6d4f32b3f61"
      },
      "execution_count": null,
      "outputs": [
        {
          "output_type": "stream",
          "name": "stdout",
          "text": [
            "219\n",
            "[29 67]\n",
            "[[19 22]\n",
            " [43 50]]\n"
          ]
        }
      ]
    },
    {
      "cell_type": "code",
      "source": [
        "x = np.array([[1,2, 3],[3,4, 5]])\n",
        "print(np.sum(x))\n",
        "\n",
        "\n",
        "\n",
        " # Compute sum of all elements\n",
        "  # Compute sum of each column\n",
        "print(np.sum(x, axis=0))\n",
        "# Compute sum of each row\n",
        "print(np.sum(x, axis=1))"
      ],
      "metadata": {
        "id": "m-lARcJApyO_",
        "colab": {
          "base_uri": "https://localhost:8080/"
        },
        "outputId": "e0eb044d-0cb5-4b92-98aa-c92fd4ff9435"
      },
      "execution_count": null,
      "outputs": [
        {
          "output_type": "stream",
          "name": "stdout",
          "text": [
            "18\n",
            "[4 6 8]\n",
            "[ 6 12]\n"
          ]
        }
      ]
    },
    {
      "cell_type": "code",
      "source": [
        "x = np.array([[1,2],[3,4]])\n",
        "np.mean(x)\n",
        "# Compute the mean of all elements\n",
        "  # Compute mean of each column\n",
        " # Compute mean of each row"
      ],
      "metadata": {
        "id": "gOZYdtSj4RgZ"
      },
      "execution_count": null,
      "outputs": []
    },
    {
      "cell_type": "code",
      "source": [
        "x = np.array([[1,2],[3,4]])\n",
        "np.std(x)\n",
        "# Compute std of all elements\n",
        "# Compute std of each column\n",
        "# Compute std of each row"
      ],
      "metadata": {
        "id": "ng7o_c2c4gNd"
      },
      "execution_count": null,
      "outputs": []
    },
    {
      "cell_type": "code",
      "source": [
        "x = np.array([1,2,3,4]) # each value is considered as an angle\n",
        "#cos and sin of x"
      ],
      "metadata": {
        "id": "TbUVYqgl4qrd"
      },
      "execution_count": null,
      "outputs": []
    },
    {
      "cell_type": "markdown",
      "source": [
        "## Exercises:\n",
        "\n",
        "Calculate the sum of the diagonal elements of a NumPy array using np.trace() and np.diagonal"
      ],
      "metadata": {
        "id": "daF4yIBALjQO"
      }
    },
    {
      "cell_type": "code",
      "source": [
        "\n",
        "x = np.array([[1,2,3], [4,5,6], [7,8,9]])\n",
        "np.sum(np.diagonal(x))"
      ],
      "metadata": {
        "colab": {
          "base_uri": "https://localhost:8080/"
        },
        "id": "7dg_cSUIOQ6-",
        "outputId": "7552a173-c68c-4818-df22-f7d3f15b8b2c"
      },
      "execution_count": null,
      "outputs": [
        {
          "output_type": "execute_result",
          "data": {
            "text/plain": [
              "15"
            ]
          },
          "metadata": {},
          "execution_count": 135
        }
      ]
    },
    {
      "cell_type": "code",
      "source": [
        "## write answer here"
      ],
      "metadata": {
        "id": "32P1tPg9Odl1"
      },
      "execution_count": null,
      "outputs": []
    },
    {
      "cell_type": "code",
      "source": [],
      "metadata": {
        "id": "RqYDONSLOgRR"
      },
      "execution_count": null,
      "outputs": []
    },
    {
      "cell_type": "markdown",
      "source": [
        "## Broadcasting\n",
        "\n",
        "Broadcasting is a powerful mechanism that allows numpy to work with arrays of different shapes when performing arithmetic operations.\n",
        "\n",
        "Two arrays can be broadcasted if they have the same size in the dimension, or if one of the arrays has size 1 in that dimension."
      ],
      "metadata": {
        "id": "0_OO79t5rZcH"
      }
    },
    {
      "cell_type": "code",
      "source": [
        "x = np.array([[1,2,3], [4,5,6], [7,8,9]])\n",
        "v = np.array([1, 0, 1])\n",
        "print(x.shape)\n",
        "print(v.shape)\n",
        "y = x + v  # Add v to each row of x using broadcasting\n",
        "print(y)\n",
        "print(\"==\"*10)\n",
        "w = np.array([[1], [0], [1]])\n",
        "print(w.shape)\n",
        "print(x+w)"
      ],
      "metadata": {
        "colab": {
          "base_uri": "https://localhost:8080/"
        },
        "id": "Z4xULIrprjB6",
        "outputId": "a5e3c2b6-a911-4253-a9a0-1089a5c2a5ec"
      },
      "execution_count": null,
      "outputs": [
        {
          "output_type": "stream",
          "name": "stdout",
          "text": [
            "(3, 3)\n",
            "(3,)\n",
            "[[ 2  2  4]\n",
            " [ 5  5  7]\n",
            " [ 8  8 10]]\n",
            "====================\n",
            "(3, 1)\n",
            "[[ 2  3  4]\n",
            " [ 4  5  6]\n",
            " [ 8  9 10]]\n"
          ]
        }
      ]
    },
    {
      "cell_type": "code",
      "source": [
        "v = np.array([1,2,3]) \n",
        "w = np.array([4,5])   \n",
        "print(v.shape)\n",
        "print(w.shape) \n",
        "#we need to reshape v to be a column vector of shape (3, 1); we can then broadcast it against w \n",
        "y = v.reshape(3,1) * w\n",
        "print(y)\n",
        "print(y.shape)\n"
      ],
      "metadata": {
        "colab": {
          "base_uri": "https://localhost:8080/"
        },
        "id": "UbzhRfsNsr0F",
        "outputId": "7e5590d5-cf47-4ae0-a562-7874940a4efb"
      },
      "execution_count": null,
      "outputs": [
        {
          "output_type": "stream",
          "name": "stdout",
          "text": [
            "(3,)\n",
            "(2,)\n",
            "[[ 4  5]\n",
            " [ 8 10]\n",
            " [12 15]]\n",
            "(3, 2)\n"
          ]
        }
      ]
    },
    {
      "cell_type": "markdown",
      "source": [
        "## Numpy and linear algebra"
      ],
      "metadata": {
        "id": "2tK-C6WJheqB"
      }
    },
    {
      "cell_type": "code",
      "source": [
        "x = np.random.randint(0, 20, 10).reshape(5,2)\n",
        "x"
      ],
      "metadata": {
        "colab": {
          "base_uri": "https://localhost:8080/"
        },
        "id": "nnH0jDrgicHd",
        "outputId": "fdcf5fd7-aa80-4218-a537-37217806234a"
      },
      "execution_count": null,
      "outputs": [
        {
          "output_type": "execute_result",
          "data": {
            "text/plain": [
              "array([[13,  5],\n",
              "       [ 2,  0],\n",
              "       [ 0, 18],\n",
              "       [ 1,  2],\n",
              "       [ 3,  7]])"
            ]
          },
          "metadata": {},
          "execution_count": 144
        }
      ]
    },
    {
      "cell_type": "markdown",
      "source": [
        "### Norm:"
      ],
      "metadata": {
        "id": "L8dLQ_abrqhC"
      }
    },
    {
      "cell_type": "code",
      "source": [
        "#compute norm of x\n",
        "np.linalg.norm(x)"
      ],
      "metadata": {
        "id": "qPoQxDZwio8d"
      },
      "execution_count": null,
      "outputs": []
    },
    {
      "cell_type": "code",
      "source": [
        "#compute norm 1 of x\n",
        "np.linalg.norm(x, ord=\"fro\")"
      ],
      "metadata": {
        "id": "Rtg0ZdrEqTkC",
        "colab": {
          "base_uri": "https://localhost:8080/"
        },
        "outputId": "a6facf20-f6fa-4025-cfae-97e54383148b"
      },
      "execution_count": null,
      "outputs": [
        {
          "output_type": "execute_result",
          "data": {
            "text/plain": [
              "24.186773244895647"
            ]
          },
          "metadata": {},
          "execution_count": 145
        }
      ]
    },
    {
      "cell_type": "code",
      "source": [
        "#compute norm 2 of x\n",
        "np.linalg.norm(x, ord=np.inf)"
      ],
      "metadata": {
        "id": "vi4Sdv9TpwCC",
        "colab": {
          "base_uri": "https://localhost:8080/"
        },
        "outputId": "33e97f40-66d3-4d95-fc70-25172a2507d2"
      },
      "execution_count": null,
      "outputs": [
        {
          "output_type": "execute_result",
          "data": {
            "text/plain": [
              "18.0"
            ]
          },
          "metadata": {},
          "execution_count": 139
        }
      ]
    },
    {
      "cell_type": "markdown",
      "source": [
        "### Eigen values and vectors"
      ],
      "metadata": {
        "id": "AcSzhojPrvH1"
      }
    },
    {
      "cell_type": "code",
      "source": [
        "\n",
        "x = np.random.randint(0, 20, (3,3))\n",
        "#compute the eigen values of x\n",
        "np.linalg.eig(x)"
      ],
      "metadata": {
        "id": "Urioeudui2WR",
        "colab": {
          "base_uri": "https://localhost:8080/"
        },
        "outputId": "44ccc1ca-c2a9-4338-d94e-d6eb248e2bca"
      },
      "execution_count": null,
      "outputs": [
        {
          "output_type": "execute_result",
          "data": {
            "text/plain": [
              "(array([41.89339225, -3.48428523,  8.59089298]),\n",
              " array([[-0.63852831, -0.77030436, -0.1529931 ],\n",
              "        [-0.69187553,  0.41340283, -0.57219614],\n",
              "        [-0.33703091,  0.48551962,  0.80571998]]))"
            ]
          },
          "metadata": {},
          "execution_count": 146
        }
      ]
    },
    {
      "cell_type": "markdown",
      "source": [
        "### determinant"
      ],
      "metadata": {
        "id": "UirBRTQmr9Dv"
      }
    },
    {
      "cell_type": "code",
      "source": [
        "#compute determinant of x\n",
        "np.linalg.det(x)"
      ],
      "metadata": {
        "id": "BolToU6Dkko3",
        "colab": {
          "base_uri": "https://localhost:8080/"
        },
        "outputId": "adf7ff1c-e9e2-4d34-b0fa-231941dbf3f1"
      },
      "execution_count": null,
      "outputs": [
        {
          "output_type": "execute_result",
          "data": {
            "text/plain": [
              "-1254.0000000000005"
            ]
          },
          "metadata": {},
          "execution_count": 147
        }
      ]
    },
    {
      "cell_type": "markdown",
      "source": [
        "### Inverse matrix"
      ],
      "metadata": {
        "id": "I69lcXzjsBsm"
      }
    },
    {
      "cell_type": "code",
      "source": [
        "#compute the inverse matrix of x\n",
        "np.linalg.inv(x)"
      ],
      "metadata": {
        "id": "gm4ktK0rkpBE",
        "colab": {
          "base_uri": "https://localhost:8080/"
        },
        "outputId": "3c61a87e-b6d9-4862-eae2-243f0f83d7fa"
      },
      "execution_count": null,
      "outputs": [
        {
          "output_type": "execute_result",
          "data": {
            "text/plain": [
              "array([[-0.17065391,  0.15311005,  0.05422648],\n",
              "       [ 0.09170654, -0.0215311 , -0.08054226],\n",
              "       [ 0.13636364, -0.13636364,  0.04545455]])"
            ]
          },
          "metadata": {},
          "execution_count": 148
        }
      ]
    },
    {
      "cell_type": "markdown",
      "source": [
        "## More in Numpy\n",
        "\n",
        "https://numpy.org/doc/stable/user/absolute_beginners.html\n",
        "\n",
        "https://realpython.com/numpy-tutorial  "
      ],
      "metadata": {
        "id": "K2TQXujHkim6"
      }
    },
    {
      "cell_type": "code",
      "source": [],
      "metadata": {
        "id": "OGT8xjiXP5UW"
      },
      "execution_count": null,
      "outputs": []
    }
  ]
}