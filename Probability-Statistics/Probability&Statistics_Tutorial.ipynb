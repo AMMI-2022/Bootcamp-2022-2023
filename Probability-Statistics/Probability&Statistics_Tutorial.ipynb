{
  "nbformat": 4,
  "nbformat_minor": 0,
  "metadata": {
    "colab": {
      "provenance": []
    },
    "kernelspec": {
      "name": "python3",
      "display_name": "Python 3"
    },
    "language_info": {
      "name": "python"
    }
  },
  "cells": [
    {
      "cell_type": "markdown",
      "source": [
        "# AMMI Bootcamp - Probability and Statistics - Tutorials"
      ],
      "metadata": {
        "id": "NV7EDz4ZiQR3"
      }
    },
    {
      "cell_type": "code",
      "source": [
        "import numpy as np\n",
        "import scipy.linalg as linalg\n",
        "from matplotlib import colors\n",
        "from matplotlib.colors import LightSource\n",
        "from mpl_toolkits.mplot3d import axes3d\n",
        "import os\n",
        "import matplotlib.pyplot as plt\n",
        "import typing"
      ],
      "metadata": {
        "id": "7lH5EWWRu3uA"
      },
      "execution_count": null,
      "outputs": []
    },
    {
      "cell_type": "markdown",
      "source": [
        "# Distribution Functions"
      ],
      "metadata": {
        "id": "6fODGHuVs7fL"
      }
    },
    {
      "cell_type": "markdown",
      "source": [
        "### Sigmoid (logistic) function\n",
        "\n",
        "$$\n",
        "\\sigma(x) = \\frac{1}{1+e^{-x}}\n",
        "$$\n",
        "\n",
        "$$\n",
        "\\frac{d}{dx}\\sigma(x) = σ(x)(1-σ(x))\n",
        "$$"
      ],
      "metadata": {
        "id": "aQkue0QAuCay"
      }
    },
    {
      "cell_type": "code",
      "execution_count": null,
      "metadata": {
        "id": "jS9-W6pXs2BD",
        "colab": {
          "base_uri": "https://localhost:8080/",
          "height": 295
        },
        "outputId": "039323e0-3fe6-41ec-8ffa-1684a3b61e13"
      },
      "outputs": [
        {
          "output_type": "display_data",
          "data": {
            "text/plain": [
              "<Figure size 432x288 with 1 Axes>"
            ],
            "image/png": "[encoded data removed]"
          },
          "metadata": {
            "needs_background": "light"
          }
        }
      ],
      "source": [
        "def sigmoid(x: np.ndarray) -> np.ndarray:\n",
        "  \"\"\"Computes the sigmoid of given inputs\n",
        "  Args:\n",
        "    x: inputs of shape N X 1\n",
        "\n",
        "  Returns:\n",
        "    probs: shape N X 1\n",
        "  \"\"\"\n",
        "  S = 1/(1+np.exp(-x))\n",
        "\n",
        "  return S #None\n",
        "\n",
        "x = np.linspace(-5, 5, 100)\n",
        "y = sigmoid(x)\n",
        "plt.plot(np.zeros(10), np.linspace(0,1, 10), \"-.\")\n",
        "plt.title(\"The Sigmoid Function\")\n",
        "plt.xlabel(\"$x$\")\n",
        "plt.ylabel(\"$p(x)$\")\n",
        "plt.plot(x, y)\n",
        "plt.show()"
      ]
    },
    {
      "cell_type": "code",
      "source": [
        "def d_sigmoid(x: np.ndarray) -> np.ndarray:\n",
        "  \"\"\"Computes the derivative of the sigmoid function\n",
        "  Args:\n",
        "    x: inputs of shape N X 1\n",
        "    \n",
        "  Returns:\n",
        "    probs: shape N X 1\n",
        "  \"\"\"\n",
        "  deriv_sigmoid = sigmoid(x) * (1 - sigmoid(x))\n",
        "  return deriv_sigmoid\n",
        "\n",
        "x = np.linspace(-5, 5, 100)\n",
        "y = d_sigmoid(x)\n",
        "\n",
        "plt.title(\"The Derivative of a Sigmoid Function\")\n",
        "plt.xlabel(\"$x$\")\n",
        "plt.ylabel(\"$(x)$\")\n",
        "plt.plot(x, y)\n",
        "plt.show()"
      ],
      "metadata": {
        "id": "aG1HkaENYpdm",
        "colab": {
          "base_uri": "https://localhost:8080/",
          "height": 295
        },
        "outputId": "4abe2bfa-82d0-4f06-ab29-ef6f909336d2"
      },
      "execution_count": null,
      "outputs": [
        {
          "output_type": "display_data",
          "data": {
            "text/plain": [
              "<Figure size 432x288 with 1 Axes>"
            ],
            "image/png": "[encoded data removed]"
          },
          "metadata": {
            "needs_background": "light"
          }
        }
      ]
    },
    {
      "cell_type": "markdown",
      "source": [
        "### Softmax function\n"
      ],
      "metadata": {
        "id": "iaLmOg3gs6ym"
      }
    },
    {
      "cell_type": "code",
      "source": [
        "def softmax_function(logits: np.ndarray):\n",
        "  \"\"\"Computes the softmax function given logits\n",
        "  Args:\n",
        "    logits: size Number of samples (N) X Number of classes to distribute probability over (C)\n",
        "\n",
        "  Returns:\n",
        "    probability distribution over categorical variables\n",
        "  \"\"\"\n",
        "  soft_res= np.exp(logits)/np.sum(np.exp(logits), 1, keepdims=True)\n",
        "  return soft_res\n",
        "\n",
        "\n",
        "def better_softmax_function(logits: np.ndarray):\n",
        "  \"\"\"Computes the softmax function from logits using the more efficient logsumexp trick\n",
        "  Args:\n",
        "    logits: size Number of samples (N) X Number of classes to distribute probability over (C)\n",
        "\n",
        "  Returns:\n",
        "    probability distribution over categorical variables\n",
        "  \"\"\"\n",
        "\n",
        "  def log_sum_exp(logits):\n",
        "    m = np.max(logits, -1, keepdims=True)\n",
        "    return m + np.log(np.exp(logits - m).sum(-1, keepdims=True))\n",
        "    # raise NotImplementedError\n",
        "\n",
        "  return np.exp(logits - log_sum_exp(logits))"
      ],
      "metadata": {
        "id": "gS9w0pVRtK5x"
      },
      "execution_count": null,
      "outputs": []
    },
    {
      "cell_type": "code",
      "source": [
        "logits = np.random.normal(0,1, (5,3))\n",
        "logits"
      ],
      "metadata": {
        "colab": {
          "base_uri": "https://localhost:8080/"
        },
        "id": "04UYOqNr72vA",
        "outputId": "b3a34291-cdae-49aa-9440-5fa47ec86043"
      },
      "execution_count": null,
      "outputs": [
        {
          "output_type": "execute_result",
          "data": {
            "text/plain": [
              "array([[ 1.60828069,  0.45067901, -1.08873595],\n",
              "       [-0.94942827, -0.89453711,  0.56079175],\n",
              "       [-1.35802522,  1.44534874, -0.14998139],\n",
              "       [-1.03996011, -0.53023822,  0.827689  ],\n",
              "       [-0.65553839,  0.12443618,  0.25039599]])"
            ]
          },
          "metadata": {},
          "execution_count": 71
        }
      ]
    },
    {
      "cell_type": "code",
      "source": [
        "# Create random logits that the naive softmax function should be able to compute easily\n",
        "# logits = np.random.normal(0,1, (5,3))\n",
        "\n",
        "softmax_function(logits)"
      ],
      "metadata": {
        "id": "AJxf0abIPzoz",
        "colab": {
          "base_uri": "https://localhost:8080/"
        },
        "outputId": "a98d6a85-7ed5-41f6-a72c-c7e21da1d18d"
      },
      "execution_count": null,
      "outputs": [
        {
          "output_type": "execute_result",
          "data": {
            "text/plain": [
              "array([[0.7237748 , 0.22743821, 0.04878699],\n",
              "       [0.15187984, 0.16044975, 0.68767041],\n",
              "       [0.04796818, 0.79148565, 0.16054618],\n",
              "       [0.10943446, 0.18218957, 0.70837596],\n",
              "       [0.17681404, 0.38570511, 0.43748085]])"
            ]
          },
          "metadata": {},
          "execution_count": 72
        }
      ]
    },
    {
      "cell_type": "code",
      "source": [
        "better_softmax_function(logits)"
      ],
      "metadata": {
        "id": "1KyJRxi_O9B0",
        "colab": {
          "base_uri": "https://localhost:8080/"
        },
        "outputId": "d01c8297-9e43-422d-8a57-1a45baaacc50"
      },
      "execution_count": null,
      "outputs": [
        {
          "output_type": "execute_result",
          "data": {
            "text/plain": [
              "array([[0.7237748 , 0.22743821, 0.04878699],\n",
              "       [0.15187984, 0.16044975, 0.68767041],\n",
              "       [0.04796818, 0.79148565, 0.16054618],\n",
              "       [0.10943446, 0.18218957, 0.70837596],\n",
              "       [0.17681404, 0.38570511, 0.43748085]])"
            ]
          },
          "metadata": {},
          "execution_count": 73
        }
      ]
    },
    {
      "cell_type": "code",
      "source": [
        "# Create logits with large values and observe what the naive softmax produces as opposed the better softmax function\n",
        "big_logits = np.random.randint(1000, 2000, size=(5,3))\n",
        "big_logits"
      ],
      "metadata": {
        "id": "E25MpehlPZLd",
        "colab": {
          "base_uri": "https://localhost:8080/"
        },
        "outputId": "630d8393-3651-4645-c846-c5840962612d"
      },
      "execution_count": null,
      "outputs": [
        {
          "output_type": "execute_result",
          "data": {
            "text/plain": [
              "array([[1725, 1993, 1624],\n",
              "       [1879, 1065, 1191],\n",
              "       [1326, 1040, 1622],\n",
              "       [1519, 1702, 1612],\n",
              "       [1926, 1325, 1137]])"
            ]
          },
          "metadata": {},
          "execution_count": 74
        }
      ]
    },
    {
      "cell_type": "code",
      "source": [
        "softmax_function(big_logits)"
      ],
      "metadata": {
        "id": "e6BlpqCfP3Fe",
        "colab": {
          "base_uri": "https://localhost:8080/"
        },
        "outputId": "27a85c8d-29ae-4b0f-f61f-4840cdbb7564"
      },
      "execution_count": null,
      "outputs": [
        {
          "output_type": "stream",
          "name": "stderr",
          "text": [
            "<ipython-input-64-42ea1127a94c>:9: RuntimeWarning: overflow encountered in exp\n",
            "  soft_res= np.exp(logits)/np.sum(np.exp(logits), 1, keepdims=True)\n",
            "<ipython-input-64-42ea1127a94c>:9: RuntimeWarning: invalid value encountered in true_divide\n",
            "  soft_res= np.exp(logits)/np.sum(np.exp(logits), 1, keepdims=True)\n"
          ]
        },
        {
          "output_type": "execute_result",
          "data": {
            "text/plain": [
              "array([[nan, nan, nan],\n",
              "       [nan, nan, nan],\n",
              "       [nan, nan, nan],\n",
              "       [nan, nan, nan],\n",
              "       [nan, nan, nan]])"
            ]
          },
          "metadata": {},
          "execution_count": 75
        }
      ]
    },
    {
      "cell_type": "code",
      "source": [
        "better_softmax_function(big_logits)"
      ],
      "metadata": {
        "id": "o90mS-sRP6zA",
        "colab": {
          "base_uri": "https://localhost:8080/"
        },
        "outputId": "51433322-e2f6-4cf8-bb25-e0eca8fb3c43"
      },
      "execution_count": null,
      "outputs": [
        {
          "output_type": "execute_result",
          "data": {
            "text/plain": [
              "array([[4.06517129e-117, 1.00000000e+000, 5.56334737e-161],\n",
              "       [1.00000000e+000, 0.00000000e+000, 1.60470960e-299],\n",
              "       [2.81082208e-129, 1.74024956e-253, 1.00000000e+000],\n",
              "       [3.34279552e-080, 1.00000000e+000, 8.19401262e-040],\n",
              "       [1.00000000e+000, 9.75026403e-262, 0.00000000e+000]])"
            ]
          },
          "metadata": {},
          "execution_count": 76
        }
      ]
    },
    {
      "cell_type": "code",
      "source": [
        "# Create logits with very small values and observe what the naive softmax function produces as opposed to the better softmax function\n",
        "small_logits = np.random.randint(-2000, -1000, size = (5,3))\n",
        "small_logits"
      ],
      "metadata": {
        "id": "PCk1zwIAP7ni",
        "colab": {
          "base_uri": "https://localhost:8080/"
        },
        "outputId": "831d4557-64b8-442a-b555-4a308bd2473c"
      },
      "execution_count": null,
      "outputs": [
        {
          "output_type": "execute_result",
          "data": {
            "text/plain": [
              "array([[-1485, -1440, -1440],\n",
              "       [-1586, -1107, -1459],\n",
              "       [-1111, -1246, -1634],\n",
              "       [-1614, -1923, -1318],\n",
              "       [-1420, -1028, -1959]])"
            ]
          },
          "metadata": {},
          "execution_count": 77
        }
      ]
    },
    {
      "cell_type": "code",
      "source": [
        "softmax_function(small_logits)"
      ],
      "metadata": {
        "id": "CZotmBkmRMKE",
        "colab": {
          "base_uri": "https://localhost:8080/"
        },
        "outputId": "eb8f8d47-4caa-4254-d7fd-4a7a74e65645"
      },
      "execution_count": null,
      "outputs": [
        {
          "output_type": "stream",
          "name": "stderr",
          "text": [
            "<ipython-input-64-42ea1127a94c>:9: RuntimeWarning: invalid value encountered in true_divide\n",
            "  soft_res= np.exp(logits)/np.sum(np.exp(logits), 1, keepdims=True)\n"
          ]
        },
        {
          "output_type": "execute_result",
          "data": {
            "text/plain": [
              "array([[nan, nan, nan],\n",
              "       [nan, nan, nan],\n",
              "       [nan, nan, nan],\n",
              "       [nan, nan, nan],\n",
              "       [nan, nan, nan]])"
            ]
          },
          "metadata": {},
          "execution_count": 78
        }
      ]
    },
    {
      "cell_type": "code",
      "source": [
        "better_softmax_function(small_logits)"
      ],
      "metadata": {
        "id": "5NhuBeKHSNHz",
        "colab": {
          "base_uri": "https://localhost:8080/"
        },
        "outputId": "8b538a23-a6ad-4856-ceb1-129a79af15af"
      },
      "execution_count": null,
      "outputs": [
        {
          "output_type": "execute_result",
          "data": {
            "text/plain": [
              "array([[1.43125929e-020, 5.00000000e-001, 5.00000000e-001],\n",
              "       [9.39600347e-209, 1.00000000e+000, 1.34382393e-153],\n",
              "       [1.00000000e+000, 2.34555134e-059, 7.31115455e-228],\n",
              "       [2.81082208e-129, 1.78582315e-263, 1.00000000e+000],\n",
              "       [5.70904011e-171, 1.00000000e+000, 0.00000000e+000]])"
            ]
          },
          "metadata": {},
          "execution_count": 79
        }
      ]
    },
    {
      "cell_type": "markdown",
      "source": [
        "# Gaussian Distributions"
      ],
      "metadata": {
        "id": "zTGMfRxKtMmW"
      }
    },
    {
      "cell_type": "code",
      "source": [
        "scalar = typing.Union[float, int]"
      ],
      "metadata": {
        "id": "fcfKc3E89maE"
      },
      "execution_count": null,
      "outputs": []
    },
    {
      "cell_type": "markdown",
      "source": [
        "\n",
        "Write a function to compute the probability density function for a univariate gaussian distribution.\n",
        "$$\n",
        "p(x| \\mu, \\sigma) = \\frac{1}{\\sqrt{2\\pi\\sigma^2}}\\exp\\left(-\\frac{1}{2\\sigma^2}(x-\\mu)^2 \\right)\n",
        "$$"
      ],
      "metadata": {
        "id": "6Qj6Hkm0DUoi"
      }
    },
    {
      "cell_type": "code",
      "source": [
        "def univariate_gaussian_pdf(x: np.ndarray,\n",
        "                            mu: scalar,\n",
        "                            sigma: scalar):\n",
        "  \n",
        "  raise NotImplementedError"
      ],
      "metadata": {
        "id": "C_YilqxgtSbh"
      },
      "execution_count": null,
      "outputs": []
    },
    {
      "cell_type": "code",
      "source": [
        "x = np.linspace(-5, 5, 100)\n",
        "mean, sigma = 0., 0.7\n",
        "y = univariate_gaussian_pdf(x, mean, sigma) "
      ],
      "metadata": {
        "id": "0kAndqGD-iSl"
      },
      "execution_count": null,
      "outputs": []
    },
    {
      "cell_type": "code",
      "source": [
        "def plot_univariate_gaussian(x: np.ndarray):\n",
        "  y = univariate_gaussian_pdf(x, mean, sigma)\n",
        "  plt.plot(x, y)\n",
        "  plt.plot(mean, 0, marker=\"x\", markeredgecolor=\"red\")\n",
        "  plt.title(\"Univariate Gaussian\")\n",
        "\n",
        "plot_univariate_gaussian(x)"
      ],
      "metadata": {
        "id": "JnwNTCnu_Qse"
      },
      "execution_count": null,
      "outputs": []
    },
    {
      "cell_type": "markdown",
      "source": [
        "Write a function that computes the probability density function for a  multivariate Gaussian distribution\n",
        "\n",
        "$$\n",
        "\\mathcal{N}(y|\\mu, Σ) = \\frac{1}{(2\\pi)^{D/2}|Σ|}\\exp\\left(-\\frac{1}{2}(y-\\mu)^T(y-\\mu)\\right)\n",
        "$$"
      ],
      "metadata": {
        "id": "cxkAI2soTBsP"
      }
    },
    {
      "cell_type": "code",
      "source": [
        "def multivariate_gaussian_pdf(X: np.ndarray,\n",
        "                              mean: np.ndarray,\n",
        "                              covariance: np.ndarray):\n",
        "  \"\"\"Multivariate Gaussian PDF\"\"\"\n",
        "  D = X.shape[0]\n",
        "  raise NotImplementedError"
      ],
      "metadata": {
        "id": "y0NngiOHrU-d"
      },
      "execution_count": null,
      "outputs": []
    },
    {
      "cell_type": "markdown",
      "source": [
        "# Maximum Likelihood Estimation - For Normal Distribution\n",
        "\n",
        "We consider a linear regression problem of the form\n",
        "$$\n",
        "y = \\boldsymbol x^T\\boldsymbol\\theta + \\epsilon\\,,\\quad \\epsilon \\sim \\mathcal N(0, \\sigma^2)\n",
        "$$\n",
        "where $\\boldsymbol x\\in\\mathbb{R}^D$ are inputs and $y\\in\\mathbb{R}$ are noisy observations. The parameter vector $\\boldsymbol\\theta\\in\\mathbb{R}^D$ parametrizes the function.\n",
        "\n",
        "We assume we have a training set $(\\boldsymbol x_n, y_n)$, $n=1,\\ldots, N$. We summarize the sets of training inputs in $\\mathcal X = \\{\\boldsymbol x_1, \\ldots, \\boldsymbol x_N\\}$ and corresponding training targets $\\mathcal Y = \\{y_1, \\ldots, y_N\\}$, respectively.\n",
        "\n",
        "In this tutorial, we are interested in finding good parameters $\\boldsymbol\\theta$."
      ],
      "metadata": {
        "id": "k07-vh4Lpj-y"
      }
    },
    {
      "cell_type": "markdown",
      "source": [],
      "metadata": {
        "id": "P5MLHGI_qBN-"
      }
    },
    {
      "cell_type": "code",
      "source": [
        "# Define training set\n",
        "X = np.array([-3, -1, 0, 1, 3]).reshape(-1,1) # 5x1 vector, N=5, D=1\n",
        "y = np.array([-1.2, -0.7, 0.14, 0.67, 1.67]).reshape(-1,1) # 5x1 vector\n",
        "\n",
        "# Plot the training set\n",
        "plt.figure()\n",
        "plt.plot(X, y, 'o', markersize=10)\n",
        "plt.xlabel(\"$x$\")\n",
        "plt.ylabel(\"$y$\");"
      ],
      "metadata": {
        "colab": {
          "base_uri": "https://localhost:8080/",
          "height": 279
        },
        "id": "fADhU6Espy_g",
        "outputId": "da83a9ec-cb5f-4f37-f223-a2fad8c00993"
      },
      "execution_count": null,
      "outputs": [
        {
          "output_type": "display_data",
          "data": {
            "text/plain": [
              "<Figure size 432x288 with 1 Axes>"
            ],
            "image/png": "[encoded data removed]"
          },
          "metadata": {
            "needs_background": "light"
          }
        }
      ]
    },
    {
      "cell_type": "markdown",
      "source": [
        "We will start with maximum likelihood estimation of the parameters $\\boldsymbol\\theta$. In maximum likelihood estimation, we find the parameters $\\boldsymbol\\theta^{\\mathrm{ML}}$ that maximize the likelihood\n",
        "$$\n",
        "p(\\mathcal Y | \\mathcal X, \\boldsymbol\\theta) = \\prod_{n=1}^N p(y_n | \\boldsymbol x_n, \\boldsymbol\\theta)\\,.\n",
        "$$\n",
        "From the lecture we know that the maximum likelihood estimator is given by\n",
        "$$\n",
        "\\boldsymbol\\theta^{\\text{ML}} = (\\boldsymbol X^T\\boldsymbol X)^{-1}\\boldsymbol X^T\\boldsymbol y\\in\\mathbb{R}^D\\,,\n",
        "$$\n",
        "where \n",
        "$$\n",
        "\\boldsymbol X = [\\boldsymbol x_1, \\ldots, \\boldsymbol x_N]^T\\in\\mathbb{R}^{N\\times D}\\,,\\quad \\boldsymbol y = [y_1, \\ldots, y_N]^T \\in\\mathbb{R}^N\\,.\n",
        "$$"
      ],
      "metadata": {
        "id": "MKIqNEocqCen"
      }
    },
    {
      "cell_type": "code",
      "source": [
        "np.linalg.inv(np.dot(X.T, X))"
      ],
      "metadata": {
        "id": "98Lm2PwxazD1"
      },
      "execution_count": null,
      "outputs": []
    },
    {
      "cell_type": "code",
      "source": [
        "## EDIT THIS FUNCTION\n",
        "def maximum_likelihood_estimate(X: np.ndarray, y: np.ndarray):\n",
        "    \n",
        "    # X: N x D matrix of training inputs\n",
        "    # y: N x 1 vector of training targets/observations\n",
        "    # returns: maximum likelihood parameters (D x 1)\n",
        "    \n",
        "    N, D = X.shape\n",
        "    raise NotImplementedError"
      ],
      "metadata": {
        "id": "uwNpy6KFqHI-"
      },
      "execution_count": null,
      "outputs": []
    },
    {
      "cell_type": "code",
      "source": [
        "# get maximum likelihood estimate\n",
        "theta_ml = maximum_likelihood_estimate(X,y)\n",
        "print(theta_ml)\n",
        "\n",
        "assert np.any(theta_ml[0]), \"max_lik_estimate is not implemented\""
      ],
      "metadata": {
        "colab": {
          "base_uri": "https://localhost:8080/"
        },
        "id": "trIpwnAcqKHQ",
        "outputId": "0dd0b1d3-2ea2-4215-f703-ce26da8012f3"
      },
      "execution_count": null,
      "outputs": [
        {
          "output_type": "stream",
          "name": "stdout",
          "text": [
            "[[0.499]]\n"
          ]
        }
      ]
    },
    {
      "cell_type": "code",
      "source": [
        "## EDIT THIS FUNCTION\n",
        "def predict_with_estimate(Xtest: np.ndarray, theta: np.ndarray):\n",
        "    \n",
        "    # Xtest: K x D matrix of test inputs\n",
        "    # theta: D x 1 vector of parameters\n",
        "    # returns: prediction of f(Xtest); K x 1 vector\n",
        "    \n",
        "    prediction = None\n",
        "    \n",
        "    return prediction "
      ],
      "metadata": {
        "id": "jWHdT2t5qNv9"
      },
      "execution_count": null,
      "outputs": []
    },
    {
      "cell_type": "code",
      "source": [
        "# define a test set\n",
        "Xtest = np.linspace(-5,5,100).reshape(-1,1) # 100 x 1 vector of test inputs\n",
        "\n",
        "# predict the function values at the test points using the maximum likelihood estimator\n",
        "ml_prediction = predict_with_estimate(Xtest, theta_ml)\n",
        "\n",
        "assert not np.array_equal(ml_prediction, Xtest), \"predict_with_estimate not implemented\"\n",
        "\n",
        "# plot\n",
        "plt.figure()\n",
        "plt.plot(X, y, 'o', markersize=10)\n",
        "plt.plot(Xtest, ml_prediction)\n",
        "plt.xlabel(\"$x$\")\n",
        "plt.ylabel(\"$y$\")"
      ],
      "metadata": {
        "colab": {
          "base_uri": "https://localhost:8080/",
          "height": 661
        },
        "id": "oOeuxBgFqSWn",
        "outputId": "37ace025-df42-43e7-cda8-af4beaae6e3e"
      },
      "execution_count": null,
      "outputs": [
        {
          "output_type": "error",
          "ename": "ValueError",
          "evalue": "ignored",
          "traceback": [
            "\u001b[0;31m---------------------------------------------------------------------------\u001b[0m",
            "\u001b[0;31mValueError\u001b[0m                                Traceback (most recent call last)",
            "\u001b[0;32m<ipython-input-29-5563dfe6ef23>\u001b[0m in \u001b[0;36m<module>\u001b[0;34m\u001b[0m\n\u001b[1;32m     10\u001b[0m \u001b[0mplt\u001b[0m\u001b[0;34m.\u001b[0m\u001b[0mfigure\u001b[0m\u001b[0;34m(\u001b[0m\u001b[0;34m)\u001b[0m\u001b[0;34m\u001b[0m\u001b[0;34m\u001b[0m\u001b[0m\n\u001b[1;32m     11\u001b[0m \u001b[0mplt\u001b[0m\u001b[0;34m.\u001b[0m\u001b[0mplot\u001b[0m\u001b[0;34m(\u001b[0m\u001b[0mX\u001b[0m\u001b[0;34m,\u001b[0m \u001b[0my\u001b[0m\u001b[0;34m,\u001b[0m \u001b[0;34m'o'\u001b[0m\u001b[0;34m,\u001b[0m \u001b[0mmarkersize\u001b[0m\u001b[0;34m=\u001b[0m\u001b[0;36m10\u001b[0m\u001b[0;34m)\u001b[0m\u001b[0;34m\u001b[0m\u001b[0;34m\u001b[0m\u001b[0m\n\u001b[0;32m---> 12\u001b[0;31m \u001b[0mplt\u001b[0m\u001b[0;34m.\u001b[0m\u001b[0mplot\u001b[0m\u001b[0;34m(\u001b[0m\u001b[0mXtest\u001b[0m\u001b[0;34m,\u001b[0m \u001b[0mml_prediction\u001b[0m\u001b[0;34m)\u001b[0m\u001b[0;34m\u001b[0m\u001b[0;34m\u001b[0m\u001b[0m\n\u001b[0m\u001b[1;32m     13\u001b[0m \u001b[0mplt\u001b[0m\u001b[0;34m.\u001b[0m\u001b[0mxlabel\u001b[0m\u001b[0;34m(\u001b[0m\u001b[0;34m\"$x$\"\u001b[0m\u001b[0;34m)\u001b[0m\u001b[0;34m\u001b[0m\u001b[0;34m\u001b[0m\u001b[0m\n\u001b[1;32m     14\u001b[0m \u001b[0mplt\u001b[0m\u001b[0;34m.\u001b[0m\u001b[0mylabel\u001b[0m\u001b[0;34m(\u001b[0m\u001b[0;34m\"$y$\"\u001b[0m\u001b[0;34m)\u001b[0m\u001b[0;34m\u001b[0m\u001b[0;34m\u001b[0m\u001b[0m\n",
            "\u001b[0;32m/usr/local/lib/python3.8/dist-packages/matplotlib/pyplot.py\u001b[0m in \u001b[0;36mplot\u001b[0;34m(scalex, scaley, data, *args, **kwargs)\u001b[0m\n\u001b[1;32m   2759\u001b[0m \u001b[0;34m@\u001b[0m\u001b[0mdocstring\u001b[0m\u001b[0;34m.\u001b[0m\u001b[0mcopy\u001b[0m\u001b[0;34m(\u001b[0m\u001b[0mAxes\u001b[0m\u001b[0;34m.\u001b[0m\u001b[0mplot\u001b[0m\u001b[0;34m)\u001b[0m\u001b[0;34m\u001b[0m\u001b[0;34m\u001b[0m\u001b[0m\n\u001b[1;32m   2760\u001b[0m \u001b[0;32mdef\u001b[0m \u001b[0mplot\u001b[0m\u001b[0;34m(\u001b[0m\u001b[0;34m*\u001b[0m\u001b[0margs\u001b[0m\u001b[0;34m,\u001b[0m \u001b[0mscalex\u001b[0m\u001b[0;34m=\u001b[0m\u001b[0;32mTrue\u001b[0m\u001b[0;34m,\u001b[0m \u001b[0mscaley\u001b[0m\u001b[0;34m=\u001b[0m\u001b[0;32mTrue\u001b[0m\u001b[0;34m,\u001b[0m \u001b[0mdata\u001b[0m\u001b[0;34m=\u001b[0m\u001b[0;32mNone\u001b[0m\u001b[0;34m,\u001b[0m \u001b[0;34m**\u001b[0m\u001b[0mkwargs\u001b[0m\u001b[0;34m)\u001b[0m\u001b[0;34m:\u001b[0m\u001b[0;34m\u001b[0m\u001b[0;34m\u001b[0m\u001b[0m\n\u001b[0;32m-> 2761\u001b[0;31m     return gca().plot(\n\u001b[0m\u001b[1;32m   2762\u001b[0m         *args, scalex=scalex, scaley=scaley, **({\"data\": data} if data\n\u001b[1;32m   2763\u001b[0m         is not None else {}), **kwargs)\n",
            "\u001b[0;32m/usr/local/lib/python3.8/dist-packages/matplotlib/axes/_axes.py\u001b[0m in \u001b[0;36mplot\u001b[0;34m(self, scalex, scaley, data, *args, **kwargs)\u001b[0m\n\u001b[1;32m   1645\u001b[0m         \"\"\"\n\u001b[1;32m   1646\u001b[0m         \u001b[0mkwargs\u001b[0m \u001b[0;34m=\u001b[0m \u001b[0mcbook\u001b[0m\u001b[0;34m.\u001b[0m\u001b[0mnormalize_kwargs\u001b[0m\u001b[0;34m(\u001b[0m\u001b[0mkwargs\u001b[0m\u001b[0;34m,\u001b[0m \u001b[0mmlines\u001b[0m\u001b[0;34m.\u001b[0m\u001b[0mLine2D\u001b[0m\u001b[0;34m)\u001b[0m\u001b[0;34m\u001b[0m\u001b[0;34m\u001b[0m\u001b[0m\n\u001b[0;32m-> 1647\u001b[0;31m         \u001b[0mlines\u001b[0m \u001b[0;34m=\u001b[0m \u001b[0;34m[\u001b[0m\u001b[0;34m*\u001b[0m\u001b[0mself\u001b[0m\u001b[0;34m.\u001b[0m\u001b[0m_get_lines\u001b[0m\u001b[0;34m(\u001b[0m\u001b[0;34m*\u001b[0m\u001b[0margs\u001b[0m\u001b[0;34m,\u001b[0m \u001b[0mdata\u001b[0m\u001b[0;34m=\u001b[0m\u001b[0mdata\u001b[0m\u001b[0;34m,\u001b[0m \u001b[0;34m**\u001b[0m\u001b[0mkwargs\u001b[0m\u001b[0;34m)\u001b[0m\u001b[0;34m]\u001b[0m\u001b[0;34m\u001b[0m\u001b[0;34m\u001b[0m\u001b[0m\n\u001b[0m\u001b[1;32m   1648\u001b[0m         \u001b[0;32mfor\u001b[0m \u001b[0mline\u001b[0m \u001b[0;32min\u001b[0m \u001b[0mlines\u001b[0m\u001b[0;34m:\u001b[0m\u001b[0;34m\u001b[0m\u001b[0;34m\u001b[0m\u001b[0m\n\u001b[1;32m   1649\u001b[0m             \u001b[0mself\u001b[0m\u001b[0;34m.\u001b[0m\u001b[0madd_line\u001b[0m\u001b[0;34m(\u001b[0m\u001b[0mline\u001b[0m\u001b[0;34m)\u001b[0m\u001b[0;34m\u001b[0m\u001b[0;34m\u001b[0m\u001b[0m\n",
            "\u001b[0;32m/usr/local/lib/python3.8/dist-packages/matplotlib/axes/_base.py\u001b[0m in \u001b[0;36m__call__\u001b[0;34m(self, *args, **kwargs)\u001b[0m\n\u001b[1;32m    214\u001b[0m                 \u001b[0mthis\u001b[0m \u001b[0;34m+=\u001b[0m \u001b[0margs\u001b[0m\u001b[0;34m[\u001b[0m\u001b[0;36m0\u001b[0m\u001b[0;34m]\u001b[0m\u001b[0;34m,\u001b[0m\u001b[0;34m\u001b[0m\u001b[0;34m\u001b[0m\u001b[0m\n\u001b[1;32m    215\u001b[0m                 \u001b[0margs\u001b[0m \u001b[0;34m=\u001b[0m \u001b[0margs\u001b[0m\u001b[0;34m[\u001b[0m\u001b[0;36m1\u001b[0m\u001b[0;34m:\u001b[0m\u001b[0;34m]\u001b[0m\u001b[0;34m\u001b[0m\u001b[0;34m\u001b[0m\u001b[0m\n\u001b[0;32m--> 216\u001b[0;31m             \u001b[0;32myield\u001b[0m \u001b[0;32mfrom\u001b[0m \u001b[0mself\u001b[0m\u001b[0;34m.\u001b[0m\u001b[0m_plot_args\u001b[0m\u001b[0;34m(\u001b[0m\u001b[0mthis\u001b[0m\u001b[0;34m,\u001b[0m \u001b[0mkwargs\u001b[0m\u001b[0;34m)\u001b[0m\u001b[0;34m\u001b[0m\u001b[0;34m\u001b[0m\u001b[0m\n\u001b[0m\u001b[1;32m    217\u001b[0m \u001b[0;34m\u001b[0m\u001b[0m\n\u001b[1;32m    218\u001b[0m     \u001b[0;32mdef\u001b[0m \u001b[0mget_next_color\u001b[0m\u001b[0;34m(\u001b[0m\u001b[0mself\u001b[0m\u001b[0;34m)\u001b[0m\u001b[0;34m:\u001b[0m\u001b[0;34m\u001b[0m\u001b[0;34m\u001b[0m\u001b[0m\n",
            "\u001b[0;32m/usr/local/lib/python3.8/dist-packages/matplotlib/axes/_base.py\u001b[0m in \u001b[0;36m_plot_args\u001b[0;34m(self, tup, kwargs)\u001b[0m\n\u001b[1;32m    320\u001b[0m         \u001b[0;31m# element array of None which causes problems downstream.\u001b[0m\u001b[0;34m\u001b[0m\u001b[0;34m\u001b[0m\u001b[0;34m\u001b[0m\u001b[0m\n\u001b[1;32m    321\u001b[0m         \u001b[0;32mif\u001b[0m \u001b[0many\u001b[0m\u001b[0;34m(\u001b[0m\u001b[0mv\u001b[0m \u001b[0;32mis\u001b[0m \u001b[0;32mNone\u001b[0m \u001b[0;32mfor\u001b[0m \u001b[0mv\u001b[0m \u001b[0;32min\u001b[0m \u001b[0mtup\u001b[0m\u001b[0;34m)\u001b[0m\u001b[0;34m:\u001b[0m\u001b[0;34m\u001b[0m\u001b[0;34m\u001b[0m\u001b[0m\n\u001b[0;32m--> 322\u001b[0;31m             \u001b[0;32mraise\u001b[0m \u001b[0mValueError\u001b[0m\u001b[0;34m(\u001b[0m\u001b[0;34m\"x, y, and format string must not be None\"\u001b[0m\u001b[0;34m)\u001b[0m\u001b[0;34m\u001b[0m\u001b[0;34m\u001b[0m\u001b[0m\n\u001b[0m\u001b[1;32m    323\u001b[0m \u001b[0;34m\u001b[0m\u001b[0m\n\u001b[1;32m    324\u001b[0m         \u001b[0mkw\u001b[0m \u001b[0;34m=\u001b[0m \u001b[0;34m{\u001b[0m\u001b[0;34m}\u001b[0m\u001b[0;34m\u001b[0m\u001b[0;34m\u001b[0m\u001b[0m\n",
            "\u001b[0;31mValueError\u001b[0m: x, y, and format string must not be None"
          ]
        },
        {
          "output_type": "display_data",
          "data": {
            "text/plain": [
              "<Figure size 432x288 with 1 Axes>"
            ],
            "image/png": "[encoded data removed]"
          },
          "metadata": {
            "needs_background": "light"
          }
        }
      ]
    },
    {
      "cell_type": "code",
      "source": [],
      "metadata": {
        "id": "kKBb-OvPrXBh"
      },
      "execution_count": null,
      "outputs": []
    }
  ]
}