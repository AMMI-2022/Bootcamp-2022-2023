{
  "nbformat": 4,
  "nbformat_minor": 0,
  "metadata": {
    "colab": {
      "provenance": []
    },
    "kernelspec": {
      "name": "python3",
      "display_name": "Python 3"
    },
    "language_info": {
      "name": "python"
    }
  },
  "cells": [
    {
      "cell_type": "markdown",
      "source": [
        "## What is data structure\n",
        "\n",
        "Data structure is a named location that is used to store, organize and manage data for efficient access and manupulation.\n",
        "\n",
        "In this tutorial, we will cover the following types of data structure:\n",
        "\n",
        "*   Stack\n",
        "*   Queue\n",
        "*   Linked list\n",
        "* Doubly linked list\n",
        "* binary tree\n",
        "\n"
      ],
      "metadata": {
        "id": "GmVvVAtQ8GP3"
      }
    },
    {
      "cell_type": "markdown",
      "source": [
        "## Stack\n",
        "\n",
        "Stack is a linear data structure that follows the principle of LIFO (Last In First Out) to store data.\n",
        "\n",
        "![](https://media.geeksforgeeks.org/wp-content/cdn-uploads/gq/2013/03/stack.png)\n",
        "\n",
        "image credit: https://www.geeksforgeeks.org/python-data-structures-and-algorithms/"
      ],
      "metadata": {
        "id": "qjeNqe0UGdNJ"
      }
    },
    {
      "cell_type": "markdown",
      "source": [
        "### Basic operations on stack\n",
        "\n",
        "There are some basic operations that allow us to perform different actions on a stack.\n",
        "\n",
        "*   Push: Add an element to the top of a stack\n",
        "*   Pop: Remove an element from the top of a stack\n",
        "\n",
        "In python, stacks can be implented using lists\n",
        "\n",
        "\n"
      ],
      "metadata": {
        "id": "NRrCaA0NLAhz"
      }
    },
    {
      "cell_type": "code",
      "source": [
        "# Stack implementation in python\n",
        "\n",
        "class Stack:\n",
        "  # Creating a stack\n",
        "  def __init__(self):\n",
        "    self.stack=[]\n",
        "    \n",
        "\n",
        "  # Adding items into the stack\n",
        "  def push(self, item):\n",
        "      ## add code here\n",
        "      return self.stack.append(item)\n",
        "\n",
        "\n",
        "  # Remove an element from the stack and return it\n",
        "  def pop(self):\n",
        "      ## your code here\n",
        "      return self.stack.pop()\n",
        "\n",
        "  def display_stack(self):\n",
        "    print(self.stack)"
      ],
      "metadata": {
        "id": "mAV_E43jGZ2e"
      },
      "execution_count": null,
      "outputs": []
    },
    {
      "cell_type": "code",
      "source": [
        "## create an empty stack and add elements to it\n",
        "stack1=[]\n",
        "st=Stack()\n",
        "\n",
        "st.push(3)\n",
        "st.push(5)\n",
        "st.push(2)\n",
        "st.push(7)\n",
        "st.push(7)\n",
        "## display the stack\n",
        "st.display_stack()\n",
        "## remove element from the stack\n",
        "st.pop()\n",
        "print(\"After removing an element\")\n",
        "## display the new contain of the stack\n",
        "st.display_stack()"
      ],
      "metadata": {
        "colab": {
          "base_uri": "https://localhost:8080/"
        },
        "id": "HRIqPH2usJQW",
        "outputId": "8f0291a4-46f7-4f5a-d5a5-6213e46a6d9f"
      },
      "execution_count": null,
      "outputs": [
        {
          "output_type": "stream",
          "name": "stdout",
          "text": [
            "[3, 5, 2, 7, 7]\n",
            "After removing an element\n",
            "[3, 5, 2, 7]\n"
          ]
        }
      ]
    },
    {
      "cell_type": "markdown",
      "source": [
        "## Queue\n",
        "\n",
        "Same as Stack, Queue is also a linear data structure. However Queue store data in a FIFO(FIrst In First Out) manner\n",
        "\n",
        "![](https://media.geeksforgeeks.org/wp-content/cdn-uploads/gq/2014/02/Queue.png)\n",
        "\n",
        "\n",
        "image credit: https://www.geeksforgeeks.org/python-data-structures-and-algorithms/\n",
        "\n",
        "### Basics operations of Queue\n",
        "\n",
        "\n",
        "\n",
        "*   Enqueue: adds element to the end of the queue\n",
        "*   Dequeue: remove element from the front of the queue\n",
        "\n",
        "\n",
        "\n",
        "\n",
        "\n",
        "\n"
      ],
      "metadata": {
        "id": "Ahk_Rc-wK_Ip"
      }
    },
    {
      "cell_type": "code",
      "source": [
        "# Queue implementation in python\n",
        "\n",
        "class Queue:\n",
        "\n",
        "  # Creating a Queue\n",
        "\n",
        "  def __init__(self):\n",
        "    self.queue = []\n",
        "      ## your code here\n",
        "\n",
        "  # Adding items into the Queu\n",
        "  def enqueue(self, item):\n",
        "      return self.queue.append(item)\n",
        "\n",
        "\n",
        "  # Remove an element from the Queue and return it\n",
        "  def dequeue(self):\n",
        "    #  self.queue = self.queue[1:]\n",
        "    #  return self.queue\n",
        "    return self.queue.pop(0)\n",
        "\n",
        "  def display_queue(self):\n",
        "    print(self.queue)"
      ],
      "metadata": {
        "id": "O6gEXunPmDHO"
      },
      "execution_count": null,
      "outputs": []
    },
    {
      "cell_type": "code",
      "source": [
        "## create an empty queue and add elements to it\n",
        "qu = Queue()\n",
        "qu.enqueue(1)\n",
        "qu.enqueue(2)\n",
        "qu.enqueue(3)\n",
        "qu.enqueue(4)\n",
        "\n",
        "qu.enqueue(5)\n",
        "## display the queue\n",
        "qu.display_queue()\n",
        "## remove element from the queue\n",
        "qu.dequeue()\n",
        "qu.dequeue()\n",
        "\n",
        "\n",
        "qu.display_queue()\n",
        "\n",
        "print(\"After removing an element\")\n",
        "# display the new contain of the queue"
      ],
      "metadata": {
        "colab": {
          "base_uri": "https://localhost:8080/"
        },
        "id": "Hig9_D2Gqrkx",
        "outputId": "60acb08a-6e40-4841-c195-ccbc91897d7d"
      },
      "execution_count": null,
      "outputs": [
        {
          "output_type": "stream",
          "name": "stdout",
          "text": [
            "[1, 2, 3, 4, 5]\n",
            "[3, 4, 5]\n",
            "After removing an element\n"
          ]
        }
      ]
    },
    {
      "cell_type": "markdown",
      "source": [
        "Queues and Stacks have  two conditions that need to be checked:\n",
        "\n",
        "*  overflow → insertion into a queue or stack that is full \n",
        "*   underflow → deletion from an empty queue or stack"
      ],
      "metadata": {
        "id": "uMpmFxjiuDRm"
      }
    },
    {
      "cell_type": "markdown",
      "source": [
        "## Linked lists\n",
        "\n",
        "A linked list is a linear data structure that includes a series of connected nodes that are not stored at contiguous memory location. \n",
        "\n",
        "It is represented by a pointer to the first node of the linked list. The first node is called the **head**. If the linked list is empty, then the value of the head is **NULL**. Each node in a list consists of at least two parts:\n",
        "\n",
        "* Data\n",
        "* Pointer (Or Reference) to the next node\n",
        "\n",
        "![](https://media.geeksforgeeks.org/wp-content/cdn-uploads/gq/2013/03/Linkedlist.png)\n",
        "\n",
        "\n",
        "https://realpython.com/linked-lists-python/"
      ],
      "metadata": {
        "id": "dsQw452IyQdV"
      }
    },
    {
      "cell_type": "code",
      "source": [
        "# Linked list implementation in Python\n",
        "\n",
        "## create a Node class that creates a node of a linked list\n",
        "\n",
        "class Node:\n",
        "   def __init__(self, val):\n",
        "     self.val=val\n",
        "     self.next=None\n",
        "\n",
        "## Create a class LinkedList that creates a linked list with head None\n",
        "class LinkedList:\n",
        "  def __init__(self):\n",
        "    self.head = None\n",
        "\n",
        "  def insertAtBeginning(self, item):\n",
        "    new_node = Node(item)\n",
        "    if self.head == None:\n",
        "      self.head = new_node\n",
        "      return self.head\n",
        "    else:\n",
        "      new_node.next = self.head\n",
        "      self.head = new_node\n",
        "      return self.head\n",
        "\n",
        "  def insertAfter(self, item, previous_node):\n",
        "    newNode = Node(item)\n",
        "    newNode.next = previous_node.next\n",
        "    previous_node.next = newNode\n",
        "\n",
        "  def insertAtEnd(self, item):\n",
        "    node = self.head\n",
        "    while node.next:\n",
        "      node = node.next\n",
        "    node.next = Node(item)\n",
        "\n",
        "## add functions insertAtBeginning, insertAfter and insertAtEnd that insert new item to the beginning, after a given element abd at the end of the linked list\n",
        "\n",
        "def display(linked_list):\n",
        "  temp = linked_list.head\n",
        "  while temp != None:\n",
        "      print(temp.val, end=\" -> \")\n",
        "      temp = temp.next\n",
        "  print()"
      ],
      "metadata": {
        "id": "z1VUKQDBrgqs"
      },
      "execution_count": null,
      "outputs": []
    },
    {
      "cell_type": "code",
      "source": [
        "linked_list = LinkedList()\n",
        "\n",
        "# Assign data values\n",
        "linked_list.head = Node(1)\n",
        "second = Node(2)\n",
        "third = Node(3)\n",
        "\n",
        "# Connect nodes\n",
        "linked_list.head.next = second\n",
        "second.next = third\n",
        "display(linked_list)"
      ],
      "metadata": {
        "id": "1ukfUDqkx_eN",
        "colab": {
          "base_uri": "https://localhost:8080/"
        },
        "outputId": "e6a342a6-3921-4d1b-80a1-d543ff09b134"
      },
      "execution_count": null,
      "outputs": [
        {
          "output_type": "stream",
          "name": "stdout",
          "text": [
            "1 -> 2 -> 3 -> \n"
          ]
        }
      ]
    },
    {
      "cell_type": "code",
      "source": [
        "linked_list.insertAtBeginning(4)\n",
        "display(linked_list)"
      ],
      "metadata": {
        "colab": {
          "base_uri": "https://localhost:8080/"
        },
        "id": "3dSJWItRQl41",
        "outputId": "b7d0e37c-54a5-4293-a5d4-6f8bd131c3f5"
      },
      "execution_count": null,
      "outputs": [
        {
          "output_type": "stream",
          "name": "stdout",
          "text": [
            "4 -> 1 -> 2 -> 3 -> \n"
          ]
        }
      ]
    },
    {
      "cell_type": "code",
      "source": [
        "linked_list.insertAfter(0, second)\n",
        "display(linked_list)"
      ],
      "metadata": {
        "colab": {
          "base_uri": "https://localhost:8080/"
        },
        "id": "mg6YdwWyzVid",
        "outputId": "1050bccc-0db3-479f-975a-dd9a40a0a1f1"
      },
      "execution_count": null,
      "outputs": [
        {
          "output_type": "stream",
          "name": "stdout",
          "text": [
            "1 -> 2 -> 0 -> 3 -> 9 -> \n"
          ]
        }
      ]
    },
    {
      "cell_type": "code",
      "source": [
        "linked_list.insertAtEnd(9)\n",
        "display(linked_list)"
      ],
      "metadata": {
        "colab": {
          "base_uri": "https://localhost:8080/"
        },
        "id": "bHDIrRjt2T4D",
        "outputId": "69f8efeb-6600-4538-f111-e711c9f715a2"
      },
      "execution_count": null,
      "outputs": [
        {
          "output_type": "stream",
          "name": "stdout",
          "text": [
            "1 -> 2 -> 3 -> 9 -> \n"
          ]
        }
      ]
    },
    {
      "cell_type": "markdown",
      "source": [
        "## Doubly linked list\n",
        "\n",
        "A doubly linked list is a type of linked list in which each node consists of 3 components:\n",
        "\n",
        "* prev - pointer to the previous node\n",
        "* data - data item\n",
        "* next - pointer to the next node\n",
        "\n",
        "![](https://www.programiz.com/sites/tutorial2program/files/doubly-linked-list-created.png)"
      ],
      "metadata": {
        "id": "xJWRuvVZImdd"
      }
    },
    {
      "cell_type": "code",
      "source": [
        "# Create a Node class for a  doubly linked list node\n",
        "class Node:\n",
        "  def __init__(self, item):\n",
        "    self.prev = None\n",
        "    self.item = item\n",
        "    self.next = None\n",
        "\n",
        "## define a class DoublyLinkedList and mothods insert_front, insert_atfer and \n",
        "## insert_end that insert new_node to the beginning and \n",
        "## at the end of a doubly linked list\n",
        "\n",
        "class DoublyLinkedList:\n",
        "  def __init__(self) -> None:\n",
        "    self.head = None\n",
        "  \n",
        "  def insert_front(self, item):\n",
        "    new_node = Node(item)\n",
        "    new_node.next = self.head\n",
        "    if self.head:\n",
        "      self.head.prev = new_node\n",
        "    self.head = new_node\n",
        "\n",
        "\n",
        "  def insert_atfer(self, previous_node, item):\n",
        "    pass\n",
        "  \n",
        "  def insert_end(self, item):\n",
        "    pass\n",
        "\n",
        "# print the doubly linked list\n",
        "def display_list(head):\n",
        "    while head:\n",
        "        print(head.item, end=\" <-> \")\n",
        "        last = head\n",
        "        head = head.next\n",
        "\n",
        "\n"
      ],
      "metadata": {
        "id": "jH_gufjc5sC6"
      },
      "execution_count": null,
      "outputs": []
    },
    {
      "cell_type": "code",
      "source": [
        "# initialize an empty node\n",
        "d_linked_list = DoublyLinkedList()\n",
        "\n",
        "d_linked_list.insert_end(5)\n",
        "d_linked_list.insert_front(1)\n",
        "d_linked_list.insert_front(6)\n",
        "d_linked_list.insert_end(9)\n",
        "\n",
        "# insert 11 after head\n",
        "d_linked_list.insert_after(d_linked_list.head, 11)\n",
        "\n",
        "# insert 15 after the seond node\n",
        "d_linked_list.insert_after(d_linked_list.head.next, 15)\n",
        "\n",
        "d_linked_list.display_list(d_linked_list.head)"
      ],
      "metadata": {
        "id": "IYTLIuMM2KSh"
      },
      "execution_count": null,
      "outputs": []
    },
    {
      "cell_type": "markdown",
      "source": [
        "## Binary Tree\n",
        "\n",
        "Tree is a non linear hierarchical data structure where nodes are connected by edges. The binary tree is a tree data structure in which each node has at most two children, which are referred to as the left child and the right child. \n",
        "\n",
        "![](https://upload.wikimedia.org/wikipedia/commons/thumb/d/da/Binary_search_tree.svg/1200px-Binary_search_tree.svg.png)\n",
        "\n",
        "image credit: https://en.wikipedia.org/wiki/Binary_search_tree\n",
        "\n",
        "The topmost node is called root and the  bottommost nodes or the nodes with no children are called the leaf nodes. A node contains: \n",
        "\n",
        "* Data\n",
        "* Pointer to left child\n",
        "* Pointer to the right child\n",
        "\n",
        "\n",
        "## Tree traversal\n",
        "\n",
        "There are three way to visite each node present in the tree exactly once\n",
        "\n",
        "\n",
        "*   Inorder: left subtree, root, right subtree\n",
        "*   Preorder: root, left subtree, right subtree\n",
        "*   Postorder: left subtree, right subtree, root"
      ],
      "metadata": {
        "id": "WI8YpglfK0db"
      }
    },
    {
      "cell_type": "markdown",
      "source": [
        "## Create a class that represent a binary tree . add a constructor and three methods(inOrder, preOrder and postOrder) to print nodes in the tree."
      ],
      "metadata": {
        "id": "9wrp7VZDfC1s"
      }
    },
    {
      "cell_type": "code",
      "source": [
        "class Node:\n",
        "  \n",
        "  #create Node \n",
        "  def __init__(self, data):\n",
        "    pass\n",
        "\n",
        "  ## print the tree using inorder approach\n",
        "  def printInorder(self):\n",
        "    pass\n",
        "\n",
        "  ## print the tree using preorder approach\n",
        "  def printPreOrder(self):\n",
        "        pass\n",
        "\n",
        "  ## print the tree using postorder approach\n",
        "  def printPostOrder(self):\n",
        "        pass\n",
        "\n",
        "\n",
        "root = Node(2)\n",
        "root.left = Node(1)\n",
        "root.right = Node(4)\n",
        "root.right.left = Node(3)\n",
        "root.right.right = Node(5)\n",
        "root.printInorder()\n",
        "root.printPostorder()\n",
        "root.printPreOrder()"
      ],
      "metadata": {
        "id": "wVHcwyTKhKUH"
      },
      "execution_count": null,
      "outputs": []
    },
    {
      "cell_type": "code",
      "source": [],
      "metadata": {
        "id": "pVuue0pOZFGh"
      },
      "execution_count": null,
      "outputs": []
    },
    {
      "cell_type": "code",
      "source": [],
      "metadata": {
        "id": "Z1LPTp5LA34x"
      },
      "execution_count": null,
      "outputs": []
    }
  ]
}