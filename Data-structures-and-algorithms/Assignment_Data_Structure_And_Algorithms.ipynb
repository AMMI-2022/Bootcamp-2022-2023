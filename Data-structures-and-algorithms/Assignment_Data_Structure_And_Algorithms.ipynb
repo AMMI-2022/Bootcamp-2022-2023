{
  "nbformat": 4,
  "nbformat_minor": 0,
  "metadata": {
    "colab": {
      "provenance": []
    },
    "kernelspec": {
      "name": "python3",
      "display_name": "Python 3"
    },
    "language_info": {
      "name": "python"
    }
  },
  "cells": [
    {
      "cell_type": "markdown",
      "source": [
        "Ex1:\n",
        "\n",
        "Given a non-negative integer x, return the square root of x rounded down to the nearest integer. The returned integer should be non-negative as well.\n",
        "\n",
        "You must not use any built-in exponent function or operator or the math `sqrt` function.\n",
        "\n",
        "For example, do not use `pow(x, 0.5)` or `x ** 0.5` in python or `math.sqrt`."
      ],
      "metadata": {
        "id": "XgRGv6GtTloY"
      }
    },
    {
      "cell_type": "markdown",
      "source": [
        "Input: x = 4 <br>\n",
        "Output: 2"
      ],
      "metadata": {
        "id": "NQWzdUo-Tr77"
      }
    },
    {
      "cell_type": "code",
      "execution_count": null,
      "metadata": {
        "id": "tW-VAuIUNUha"
      },
      "outputs": [],
      "source": [
        "# write your code here"
      ]
    },
    {
      "cell_type": "markdown",
      "source": [
        "Ex2:\n",
        "\n",
        "Prior to being passed to your function, nums is possibly rotated at an unknown pivot index k (1 <= k < nums.length) such that the resulting array is [nums[k], nums[k+1], ..., nums[n-1], nums[0], nums[1], ..., nums[k-1]] (0-indexed). For example, [0,1,2,4,5,6,7] might be rotated at pivot index 3 and become [4,5,6,7,0,1,2].\n",
        "\n",
        "Given the array nums after the possible rotation and an integer target, return the index of target if it is in nums, or -1 if it is not in nums.\n",
        "\n",
        "You must write an algorithm with O(log n) runtime complexity.\n",
        "\n",
        "Input: nums = [4,5,6,7,0,1,2],  target = 0 <br><br>\n",
        "Output: 4\n",
        "\n",
        "Input: nums = [4,5,6,7,0,1,2], target = 3 <br><br>\n",
        "Output: -1"
      ],
      "metadata": {
        "id": "0SI8D30UUBw5"
      }
    },
    {
      "cell_type": "code",
      "source": [
        "# write your code here"
      ],
      "metadata": {
        "id": "NwfClgnZUOBi"
      },
      "execution_count": null,
      "outputs": []
    },
    {
      "cell_type": "markdown",
      "source": [
        "Ex3:\n",
        "\n",
        "implement 2-way merging to sort an array, and test it on this <br> <br> array: [2,4,6,3,7,9,14,11,13]"
      ],
      "metadata": {
        "id": "-FR_m3TUUYdR"
      }
    },
    {
      "cell_type": "code",
      "source": [
        "# write your code here"
      ],
      "metadata": {
        "id": "UAAlp4oiUwqM"
      },
      "execution_count": null,
      "outputs": []
    },
    {
      "cell_type": "markdown",
      "source": [
        "Ex4:\n",
        "\n",
        "Given the head of a singly linked list, reverse the list, and return the reversed list."
      ],
      "metadata": {
        "id": "Xs8lUrRhfMbp"
      }
    },
    {
      "cell_type": "markdown",
      "source": [
        "Input: head = [1,2,3,4,5] <br>\n",
        "Output: [5,4,3,2,1]"
      ],
      "metadata": {
        "id": "FowhLbesfUsi"
      }
    },
    {
      "cell_type": "code",
      "source": [
        "# Definition for singly-linked list.\n",
        "class ListNode:\n",
        "  def __init__(self, val=0, next=None):\n",
        "        self.val = val\n",
        "        self.next = next\n",
        "        "
      ],
      "metadata": {
        "id": "9ipBgtwufcDW"
      },
      "execution_count": null,
      "outputs": []
    },
    {
      "cell_type": "markdown",
      "source": [
        "Ex5:\n",
        "\n",
        "Given a string s, write a function reverseString that returns the reversed string of s using stack\n",
        "\n",
        "Input: abc\n",
        "\n",
        "output: cba\n",
        "\n",
        "Input: abc def\n",
        "\n",
        "\n",
        "output: fed cba"
      ],
      "metadata": {
        "id": "nQZiryQ2pCz3"
      }
    },
    {
      "cell_type": "code",
      "source": [
        "def reverseString(s):\n",
        "  pass"
      ],
      "metadata": {
        "id": "icpfXSiVpwtU"
      },
      "execution_count": null,
      "outputs": []
    },
    {
      "cell_type": "markdown",
      "source": [
        "Ex6: \n",
        "\n",
        "Add a method searchItem(item) in the class LinkedList (saw in class) that returns true if an item is present in a linked list and False else"
      ],
      "metadata": {
        "id": "QelNNz6Hp6gE"
      }
    },
    {
      "cell_type": "code",
      "source": [
        "def searchItem(self, item):\n",
        "  # write your code here\n",
        "  return"
      ],
      "metadata": {
        "id": "U-NnZs7Rp4Gh"
      },
      "execution_count": null,
      "outputs": []
    },
    {
      "cell_type": "markdown",
      "source": [
        "Ex7:\n",
        "\n",
        "add the methode deleteKey(key) in the class LinkedList (saw in class) that deletes a given key from a linked list\n",
        "\n",
        "Please note that the key can be anywhere in the list(head, end, inside)\n"
      ],
      "metadata": {
        "id": "KWwP3Iu-qt4d"
      }
    },
    {
      "cell_type": "code",
      "source": [
        "def deleteKey(self, item):\n",
        "  # write your code here\n",
        "  return"
      ],
      "metadata": {
        "id": "B0V1rNYZrLq-"
      },
      "execution_count": null,
      "outputs": []
    },
    {
      "cell_type": "markdown",
      "source": [
        "Ex8:\n",
        "\n",
        "Write a method add_node(item) that adds new node with data ***item*** the class BinaryTree using.\n",
        "\n",
        "The given class Node can be used to instantiate new add\n",
        "\n",
        "\n",
        "for any node X, X's key is larger than the key of any descendent of its left child, and smaller than the key of any descendant of its right child.\n",
        "\n"
      ],
      "metadata": {
        "id": "7it5O0zhrVPg"
      }
    },
    {
      "cell_type": "code",
      "source": [
        "class Node:\n",
        "  def __init__(self, data):\n",
        "    self.data = data\n",
        "    self.left = None\n",
        "    self.right = None\n",
        "\n",
        "class BinaryTree:\n",
        "  def __init__(self, data):\n",
        "    pass\n",
        "\n",
        "  def add_nodes(self, item):\n",
        "    pass\n",
        "\n",
        "  def inOrder(self):\n",
        "    pass\n",
        "\n"
      ],
      "metadata": {
        "id": "0v2A5vogtcso"
      },
      "execution_count": null,
      "outputs": []
    },
    {
      "cell_type": "code",
      "source": [
        "tree = BinaryTree()\n",
        " \n",
        "tree.add_node(50)\n",
        " \n",
        "tree.add_node(25)\n",
        " \n",
        "tree.add_node(75)\n",
        " \n",
        "tree.add_node(12)\n",
        "tree.inorder() # the output should be 12 25 50 75"
      ],
      "metadata": {
        "id": "ZOwqxp3Fd2tZ"
      },
      "execution_count": null,
      "outputs": []
    },
    {
      "cell_type": "markdown",
      "source": [
        "Ex9:"
      ],
      "metadata": {
        "id": "UUnjmMESCF1k"
      }
    },
    {
      "cell_type": "markdown",
      "source": [
        "Given a string s containing just the characters '(', ')', '{', '}', '[' and ']', determine if the input string is valid.\n",
        "\n",
        "An input string is valid if:\n",
        "\n",
        "- Open brackets must be closed by the same type of brackets.\n",
        "- Open brackets must be closed in the correct order.\n",
        "- Every close bracket has a corresponding open bracket of the same type."
      ],
      "metadata": {
        "id": "Atik7OjGB1sd"
      }
    },
    {
      "cell_type": "markdown",
      "source": [
        "Input: s = \"()[]{}\" <br>\n",
        "Output: true\n",
        "\n",
        "<br>\n",
        "\n",
        "Input: s = \"(]\" <br>\n",
        "Output: false"
      ],
      "metadata": {
        "id": "JZwSuBNlCAhK"
      }
    },
    {
      "cell_type": "code",
      "source": [
        "# write your code here"
      ],
      "metadata": {
        "id": "VWvBTAnHCTuM"
      },
      "execution_count": null,
      "outputs": []
    },
    {
      "cell_type": "markdown",
      "source": [
        "Ex10:\n",
        "\n",
        "Design a stack that supports push, pop, top, and retrieving the minimum element in constant time.\n",
        "\n",
        "Implement the MinStack class that extend (you may need to add new attributes to the class) the class Stack saw in class:\n",
        "\n",
        "- MinStack() initializes the stack object.\n",
        "- void push(int val) pushes the element val onto the stack.\n",
        "- void pop() removes the element on the top of the stack.\n",
        "- int getMin() retrieves the minimum element in the stack."
      ],
      "metadata": {
        "id": "2ZPgTQgiTEwB"
      }
    },
    {
      "cell_type": "code",
      "source": [
        "class MinStack:\n",
        "\n",
        "    def __init__(self):\n",
        "        pass\n",
        "\n",
        "    def push(self, val: int) -> None:\n",
        "        pass\n",
        "\n",
        "    def pop(self) -> None:\n",
        "        pass\n",
        "\n",
        "    def top(self) -> int:\n",
        "        pass\n",
        "\n",
        "    def getMin(self) -> int:\n",
        "      pass"
      ],
      "metadata": {
        "id": "76-01G0nTGwO"
      },
      "execution_count": null,
      "outputs": []
    }
  ]
}