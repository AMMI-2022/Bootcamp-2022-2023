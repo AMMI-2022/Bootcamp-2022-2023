{
  "nbformat": 4,
  "nbformat_minor": 0,
  "metadata": {
    "colab": {
      "provenance": []
    },
    "kernelspec": {
      "name": "python3",
      "display_name": "Python 3"
    },
    "language_info": {
      "name": "python"
    }
  },
  "cells": [
    {
      "cell_type": "markdown",
      "source": [
        "# Ex1:\n",
        "\n",
        "Declare a destroy_elements function that accepts two lists.\n",
        "It should return a list of all elements from the first list that are NOT contained in the second list.\n",
        " Use list comprehension in your solution.\n",
        "\n",
        " EXAMPLES\n",
        "* destroy_elements([1, 2, 3], [1, 2])      => [3]\n",
        "* destroy_elements([1, 2, 3], [1, 2, 3])   => []\n",
        "* destroy_elements([1, 2, 3], [4, 5])      => [1, 2, 3]"
      ],
      "metadata": {
        "id": "7L60ucGPGBu6"
      }
    },
    {
      "cell_type": "code",
      "source": [
        "# Write your code here\n"
      ],
      "metadata": {
        "id": "NqDFrwa3Gb4-"
      },
      "execution_count": null,
      "outputs": []
    },
    {
      "cell_type": "markdown",
      "source": [
        "# Ex2 (Majority element)\n",
        "Given an array nums of size n, return the majority element.\n",
        "\n",
        "The majority element is the element that appears more than ⌊n / 2⌋ times. You may assume that the majority element always exists in the array.\n",
        "\n",
        "Input: nums = [2,2,1,1,1,2,2] <br>\n",
        "Output: 2"
      ],
      "metadata": {
        "id": "UZq_NOou7ke9"
      }
    },
    {
      "cell_type": "code",
      "source": [
        "# Write your code here\n",
        "def majorityElement(nums):\n",
        "  pass"
      ],
      "metadata": {
        "id": "7-nF0J3Y8dFP"
      },
      "execution_count": null,
      "outputs": []
    },
    {
      "cell_type": "markdown",
      "source": [
        "# Ex3: \n",
        "\n",
        "Given an integer array nums, return true if any value appears at least twice in the array, and return false if every element is distinct.\n",
        "\n",
        "Input: nums = [1,2,3,1] <br>\n",
        "Output: true"
      ],
      "metadata": {
        "id": "puVxPeZP9IGO"
      }
    },
    {
      "cell_type": "code",
      "source": [
        "# Write your code here\n",
        "def containsDuplicate(nums):\n",
        "  pass"
      ],
      "metadata": {
        "id": "E9zjBHnl9Hxg"
      },
      "execution_count": null,
      "outputs": []
    },
    {
      "cell_type": "markdown",
      "source": [
        "# Ex4: \n",
        "Write a factors function that accepts a positive whole number\n",
        "It should return a list of all of the number's factors in ascending order\n",
        " HINT: Could the range function be helpful here? Or maybe a while loop?\n",
        "EXAMPLES\n",
        "\n",
        "* factors(1)  => [1]\n",
        "* factors(2)  => [1, 2]\n",
        "* factors(10) => [1, 2, 5, 10]\n",
        "* factors(64) => [1, 2, 4, 8, 16, 32, 64]\n"
      ],
      "metadata": {
        "id": "rVd-qLroC36V"
      }
    },
    {
      "cell_type": "code",
      "source": [
        "# Write your code here\n"
      ],
      "metadata": {
        "id": "Z7UgoZgrGgLM"
      },
      "execution_count": null,
      "outputs": []
    },
    {
      "cell_type": "markdown",
      "source": [
        "# Ex5:\n",
        "Declare a delete_all function that accepts a list and a target \n",
        "Remove all occurrences of the target  from the list and return it\n",
        "\n",
        "EXAMPLES\n",
        "* delete_all([1, 3, 5], 3)  => [1, 5]\n",
        "* delete_all([5, 3, 5], 5)  => [3]\n",
        "* delete_all([4, 4, 4], 4)  => []\n",
        "* delete_all([4, 4, 4], 6)  => [4, 4, 4]"
      ],
      "metadata": {
        "id": "0ZS6BKpEDu9x"
      }
    },
    {
      "cell_type": "code",
      "source": [
        "# Write your code here\n"
      ],
      "metadata": {
        "id": "QOkcSC9SGhKV"
      },
      "execution_count": null,
      "outputs": []
    },
    {
      "cell_type": "markdown",
      "source": [
        "# Ex6: \n",
        "\n",
        "Define an encrypt_message function that accepts a string.\n",
        " The input string will consist of only alphabetic characters.\n",
        " The function should return a string where all characters have been moved\n",
        " \"up\" two spots in the alphabet. For example, \"a\" will become \"c\".\n",
        "\n",
        " EXAMPLES\n",
        "* encrypt_message(\"abc\") =&gt; \"cde\"\n",
        "* encrypt_message(\"xyz\") =&gt; \"zab\"\n",
        "* encrypt_message(\"\")    =&gt; \"\"\n",
        "\n",
        "* bonus:  can you write a function to decrypt the encrypted message :)"
      ],
      "metadata": {
        "id": "R4dKFHA6D4-m"
      }
    },
    {
      "cell_type": "code",
      "source": [
        "# Write your code here\n"
      ],
      "metadata": {
        "id": "soIRCJONGiRQ"
      },
      "execution_count": null,
      "outputs": []
    },
    {
      "cell_type": "markdown",
      "source": [
        "#Ex7:\n",
        "\n",
        "Define a word_lengths function that accepts a string. \n",
        "It should return a list with the lengths of each word.\n",
        "\n",
        " EXAMPLES\n",
        "* word_lengths(\"Mary Poppins was a nanny\")  => [4, 7, 3, 1, 5]\n",
        "* word_lengths(\"Somebody stole my donut\")   => [8, 5, 2, 5]"
      ],
      "metadata": {
        "id": "LDKoTj1NEFdY"
      }
    },
    {
      "cell_type": "code",
      "source": [
        "# Write your code here\n"
      ],
      "metadata": {
        "id": "_zYhdmcpGjOA"
      },
      "execution_count": null,
      "outputs": []
    },
    {
      "cell_type": "markdown",
      "source": [
        "# Ex8: \n",
        "\n",
        "Define a cleanup function that accepts a list of strings.\n",
        "The function should return the strings joined together by a space.\n",
        "There's one BIG problem -- some of the strings are empty or only consist of spaces!\n",
        "These should NOT be included in the final string\n",
        "#\n",
        "* cleanup([\"cat\", \"er\", \"pillar\"])           => \"cat er pillar\"\n",
        "* cleanup([\"cat\", \" \", \"er\", \"\", \"pillar\"])  => \"cat er pillar\"\n",
        "* cleanup([\"\", \"\", \" \"])                     => \"\"\n"
      ],
      "metadata": {
        "id": "WFRV5VYbEWEd"
      }
    },
    {
      "cell_type": "code",
      "source": [
        "# Write your code here\n"
      ],
      "metadata": {
        "id": "tIl0w2paGkKq"
      },
      "execution_count": null,
      "outputs": []
    },
    {
      "cell_type": "markdown",
      "source": [
        "# Ex9:\n",
        "\n",
        "Define a nested_sum function that accepts a list of lists of numbers\n",
        "The function should return the sum of the values\n",
        " The list may contain empty lists\n",
        "\n",
        " EXAMPLES\n",
        "* nested_sum([[1, 2, 3], [4, 5]])            =&gt; 15\n",
        "* nested_sum([[1, 2, 3], [], [], [4], [5]])  =&gt; 15\n",
        "* nested_sum([[]])   "
      ],
      "metadata": {
        "id": "nIyrVVFDEnHE"
      }
    },
    {
      "cell_type": "code",
      "source": [
        "# Write your code here\n"
      ],
      "metadata": {
        "id": "MEZNn06bGlE4"
      },
      "execution_count": null,
      "outputs": []
    },
    {
      "cell_type": "markdown",
      "source": [
        "# Ex10:\n",
        "\n",
        "Many organizations have user ids which are constrained in some way. Imagine you work at an internet service provider and the user ids are all two letters followed by two numbers (e.g. aa49). Your task at such an organization might be to hold a record on the billing activity for each possible user. \n",
        "\n",
        "Write an initialization line as a single list comprehension which creates a list of all possible user ids. Assume the letters are all lower case."
      ],
      "metadata": {
        "id": "Vw-3fHSNFoWC"
      }
    },
    {
      "cell_type": "code",
      "source": [
        "# Write your code here\n"
      ],
      "metadata": {
        "id": "ik9Jg2XbGmcR"
      },
      "execution_count": null,
      "outputs": []
    },
    {
      "cell_type": "markdown",
      "source": [
        "# Ex11:\n",
        "\n",
        "Declare a sum_of_evens_and_odds function that accepts a tuple of numbers.\n",
        "#### It should return a tuple with two numeric values:\n",
        " - the sum of the even numbers\n",
        " - the sum of the odd numbers.\n",
        "* sum_of_evens_and_odds((1, 2, 3, 4))   => (6, 4)\n",
        "* sum_of_evens_and_odds((1, 3, 5))      => (0, 9)\n",
        "* sum_of_evens_and_odds((2, 4, 6))      => (12, 0)\n"
      ],
      "metadata": {
        "id": "rR0les2KG-2C"
      }
    },
    {
      "cell_type": "code",
      "source": [
        "# Write your code here\n"
      ],
      "metadata": {
        "id": "i1QUrg1qHEAf"
      },
      "execution_count": null,
      "outputs": []
    },
    {
      "cell_type": "markdown",
      "source": [
        "# Ex12:\n",
        "\n",
        "Define a length_counts function that accepts a list of strings. \n",
        "The function should return a dictionary where the keys represent\n",
        " length and the values represent how many strings have that length.\n",
        "\n",
        " EXAMPLE:\n",
        "* sa_countries = [\"Brazil\", \"Venezuela\", \"Argentina\", \"Ecuador\", \"Bolivia\", \"Peru\"]\n",
        "* length_counts(sa_countries) =&gt; # {6: 1, 9: 2, 7: 2, 4: 1}\n",
        "* There is 1 string with 6 letters, 2 strings with 9 letters, \n",
        "* 2 strings with 7 letters, and 1 string with 4 letters."
      ],
      "metadata": {
        "id": "zN-lIAX6PBv_"
      }
    },
    {
      "cell_type": "code",
      "source": [
        "# Write your code here"
      ],
      "metadata": {
        "id": "XQNXxohDPI2a"
      },
      "execution_count": null,
      "outputs": []
    },
    {
      "cell_type": "markdown",
      "source": [
        "# Ex13:\n",
        "\n",
        "Given two strings s and t, determine if they are isomorphic.\n",
        "\n",
        "Two strings s and t are isomorphic if the characters in s can be replaced to get t.\n",
        "\n",
        "All occurrences of a character must be replaced with another character while preserving the order of characters. No two characters may map to the same character, but a character may map to itself."
      ],
      "metadata": {
        "id": "18XGQlvusz41"
      }
    },
    {
      "cell_type": "markdown",
      "source": [
        "Input: s = \"egg\", t = \"add\" <br>\n",
        "Output: true\n",
        "<br><br>\n",
        "Input: s = \"foo\", t = \"bar\" <br>\n",
        "Output: false"
      ],
      "metadata": {
        "id": "Y_nkzWLltAqh"
      }
    },
    {
      "cell_type": "code",
      "source": [
        "# Write your code here"
      ],
      "metadata": {
        "id": "_6R7d_HHs7jX"
      },
      "execution_count": null,
      "outputs": []
    },
    {
      "cell_type": "markdown",
      "source": [
        "# Ex14:\n",
        "\n",
        " Dot product of vectors: <br>\n",
        "\n",
        "Vectors are mathematical objects that are often used to represent the inputs to neural networks. One way to view the vectors is as list of items. Complete the following code to compute dot product of two vectors. Dot product is defined the following equation:-\n",
        "</font>\n",
        "\n",
        "$$\n",
        "x.y = <x, y> = x^Ty = \\sum_{i}^n x_iy_i\n",
        "$$\n",
        "\n",
        "<font  color=\"white\"> \n",
        "Assume that only lists are passed to the function and they also contain only numeric datatype.\n",
        "\n",
        "</font>"
      ],
      "metadata": {
        "id": "ZwDgOtitva28"
      }
    },
    {
      "cell_type": "code",
      "source": [
        "# Write your code here"
      ],
      "metadata": {
        "id": "hP7lPZtWv3Ot"
      },
      "execution_count": null,
      "outputs": []
    },
    {
      "cell_type": "markdown",
      "source": [
        "# Ex15:\n",
        "\n",
        "Write a function MatMul that multiplies two 2D matrices A and B and returns the result\n",
        "\n",
        "Validate you code using:\n",
        "\n",
        "```\n",
        "A = [ [1,2,3],[4,5,6] ]\n",
        "B = [ [4,5], [1,2], [0, 1] ] \n",
        "\n",
        "\n",
        "```"
      ],
      "metadata": {
        "id": "M8uSZ_oewecj"
      }
    },
    {
      "cell_type": "code",
      "source": [
        "def MatMul(A, B):\n",
        "  ##### WRITE YOUR CODE HERE #####\n",
        "    \n",
        "  #### END CODE ####\n",
        "\n",
        "\n",
        "A = [ [1,2,3],[4,5,6] ]\n",
        "B = [ [4,5], [1,2], [0, 1] ] \n",
        "print(MatMul(A, B))\n",
        "assert MatMul(A, B)==[[6, 12], [21, 36]], \"Your implementation is not correct\"\n",
        "print(\"Congrats, It is working\")"
      ],
      "metadata": {
        "id": "sKKwisC5wuZq"
      },
      "execution_count": null,
      "outputs": []
    },
    {
      "cell_type": "markdown",
      "source": [
        "#Ex16: \n",
        "\n",
        "<b> Given a list l, reverse l.\n",
        "Ex= [1,2,3,4,5] ==> [5,4,3,2,1]. In this case the operation has to be done in-place. Do not allow new memory space</b>\n",
        "\n",
        "DON't USE THE PYTHON INDEXING [::-1]"
      ],
      "metadata": {
        "id": "BZcW3Dk_eJoz"
      }
    },
    {
      "cell_type": "code",
      "source": [
        "# Write your code here"
      ],
      "metadata": {
        "id": "t2nH7TUMeR9S"
      },
      "execution_count": null,
      "outputs": []
    },
    {
      "cell_type": "markdown",
      "source": [
        "# Ex17:\n",
        "\n",
        "<b> Given a string s, check whether s is a palindrome. s is the palindrome if s is equal to its reverse.Using:\n",
        "- slicing in python\n",
        "- loop.</b>\n",
        "\n",
        "example : s='aba' is a palindrom\n",
        "s='abaa' isnot a palindrom"
      ],
      "metadata": {
        "id": "7t8LhgVbespH"
      }
    },
    {
      "cell_type": "code",
      "source": [
        "# Write your code here"
      ],
      "metadata": {
        "id": "tLIuX7ASesVx"
      },
      "execution_count": null,
      "outputs": []
    },
    {
      "cell_type": "markdown",
      "source": [
        "# Ex18:\n",
        "\n",
        "Find the factorial of a given number:\n",
        "\n",
        "Write a program to use the loop to find the factorial of a given number.\n",
        "\n",
        "The factorial (symbol: !) means to multiply all whole numbers from the chosen number down to 1.\n",
        "\n",
        "For example: calculate the factorial of 5"
      ],
      "metadata": {
        "id": "u5vdU3SBiUqd"
      }
    },
    {
      "cell_type": "code",
      "source": [
        "# Write your code here"
      ],
      "metadata": {
        "id": "TPzmWdq7ieiu"
      },
      "execution_count": null,
      "outputs": []
    },
    {
      "cell_type": "markdown",
      "source": [
        "# Ex19:\n",
        "\n",
        "Display Fibonacci series up to 10 terms:\n",
        "\n",
        "The Fibonacci Sequence is a series of numbers. The next number is found by adding up the two numbers before it. The first two numbers are 0 and 1.\n",
        "\n",
        "For example, 0, 1, 1, 2, 3, 5, 8, 13, 21. The next number in this series above is 13+21 = 34."
      ],
      "metadata": {
        "id": "G6evsWkHimeY"
      }
    },
    {
      "cell_type": "code",
      "source": [
        "# Write your code here"
      ],
      "metadata": {
        "id": "aZC6D0VOiq4F"
      },
      "execution_count": null,
      "outputs": []
    },
    {
      "cell_type": "markdown",
      "source": [
        "# Ex20:\n",
        "\n",
        "- Write a program to display all prime numbers within a range.\n",
        "\n",
        "- range\n",
        "start = 19\n",
        "end = 70"
      ],
      "metadata": {
        "id": "5XdX6KBqi2S1"
      }
    },
    {
      "cell_type": "code",
      "source": [
        "# Write your code here"
      ],
      "metadata": {
        "id": "wmxegZhOi9qb"
      },
      "execution_count": null,
      "outputs": []
    }
  ]
}