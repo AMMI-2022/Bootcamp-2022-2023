{
  "nbformat": 4,
  "nbformat_minor": 0,
  "metadata": {
    "colab": {
      "provenance": []
    },
    "kernelspec": {
      "name": "python3",
      "display_name": "Python 3"
    },
    "language_info": {
      "name": "python"
    }
  },
  "cells": [
    {
      "cell_type": "markdown",
      "source": [
        "# Hello World"
      ],
      "metadata": {
        "id": "j3I79GxAJZAO"
      }
    },
    {
      "cell_type": "code",
      "source": [
        "print (\"Hello world!\")"
      ],
      "metadata": {
        "colab": {
          "base_uri": "https://localhost:8080/"
        },
        "id": "QclOvX-VcjxZ",
        "outputId": "5a709813-1644-45c7-ccc2-31586c6cacc6"
      },
      "execution_count": null,
      "outputs": [
        {
          "output_type": "stream",
          "name": "stdout",
          "text": [
            "Hello world!\n"
          ]
        }
      ]
    },
    {
      "cell_type": "markdown",
      "source": [
        "# Variables\n",
        "\n"
      ],
      "metadata": {
        "id": "bCgYPzfRJeU7"
      }
    },
    {
      "cell_type": "markdown",
      "source": [
        "if we need to store some value we can use python variables to allocate memory for this value and reference this allocated memory space. \n",
        "\n",
        "The syntax for defining variables in python is \n",
        "`variable_name = value`.\n",
        "\n",
        "the value can be of any python datatype.\n",
        "- `int`\n",
        "- `float`\n",
        "- `str`\n",
        "-  etc ..\n",
        "\n",
        "\n"
      ],
      "metadata": {
        "id": "VgpYwYLxaaPI"
      }
    },
    {
      "cell_type": "markdown",
      "source": [
        "## Variable Assignment"
      ],
      "metadata": {
        "id": "sJUS9dMwB4Sg"
      }
    },
    {
      "cell_type": "code",
      "source": [
        "visited = False\n",
        "print (visited)"
      ],
      "metadata": {
        "colab": {
          "base_uri": "https://localhost:8080/"
        },
        "id": "C1Q4n1f_dDwx",
        "outputId": "996c03b4-8b09-46ae-c090-87d5c61e7442"
      },
      "execution_count": null,
      "outputs": [
        {
          "output_type": "stream",
          "name": "stdout",
          "text": [
            "False\n"
          ]
        }
      ]
    },
    {
      "cell_type": "code",
      "source": [
        "age = 26 # int \n",
        "country = \"senegal\" # string\n",
        "height = 13.5 # float \n",
        "isAvailable = True # boolean\n",
        "\n"
      ],
      "metadata": {
        "id": "AZrGD17kJiF5"
      },
      "execution_count": null,
      "outputs": []
    },
    {
      "cell_type": "markdown",
      "source": [
        "## Variable re-assignment and multiple variable assignment"
      ],
      "metadata": {
        "id": "79V8EAL4ytvu"
      }
    },
    {
      "cell_type": "code",
      "source": [
        "height = 20\n",
        "country = \"Senegal\"\n",
        "\n",
        "height, country, count = 20, \"Senegal\", 50"
      ],
      "metadata": {
        "id": "ckaFvMHvecPr"
      },
      "execution_count": null,
      "outputs": []
    },
    {
      "cell_type": "markdown",
      "source": [
        "We can re-assign an already declared variable to a new value "
      ],
      "metadata": {
        "id": "PWKNgBJyyznu"
      }
    },
    {
      "cell_type": "code",
      "source": [
        "first name= \"Senegal\""
      ],
      "metadata": {
        "id": "I5NxnHR9y9CA",
        "colab": {
          "base_uri": "https://localhost:8080/",
          "height": 134
        },
        "outputId": "d59ba394-35ea-4606-aa0a-dbc522c8bb93"
      },
      "execution_count": null,
      "outputs": [
        {
          "output_type": "error",
          "ename": "SyntaxError",
          "evalue": "ignored",
          "traceback": [
            "\u001b[0;36m  File \u001b[0;32m\"<ipython-input-19-80a386854f00>\"\u001b[0;36m, line \u001b[0;32m1\u001b[0m\n\u001b[0;31m    first name= \"Senegal\"\u001b[0m\n\u001b[0m          ^\u001b[0m\n\u001b[0;31mSyntaxError\u001b[0m\u001b[0;31m:\u001b[0m invalid syntax\n"
          ]
        }
      ]
    },
    {
      "cell_type": "markdown",
      "source": [
        "We can also assign multiple variables to their values in a single line"
      ],
      "metadata": {
        "id": "KDoNyNeSzCWo"
      }
    },
    {
      "cell_type": "code",
      "source": [
        "name, country, age = 'Adam', 'Senegal', 26 "
      ],
      "metadata": {
        "id": "UUEXx9E-zJ7_"
      },
      "execution_count": null,
      "outputs": []
    },
    {
      "cell_type": "markdown",
      "source": [
        "the variable name should satisfy some conditions\n",
        "- it should not be a keyword\n",
        "\n",
        "python keywords : \n",
        "  ```['False', 'None', 'True', 'and', 'as', 'assert', 'async', 'await', 'break', 'class', 'continue', 'def', 'del', 'elif', 'else', 'except', 'finally', 'for', 'from', 'global', 'if', 'import', 'in', 'is', 'lambda', 'nonlocal', 'not', 'or', 'pass', 'raise', 'return', 'try', 'while', 'with', 'yield']```\n",
        "- should start with a letter \n",
        "- should not include special characters like `!,&,@,#,$`, '_' is allowed.\n",
        "- should not include spaces\n",
        "\n",
        "Note: python variables are case sensitive \n",
        "`Variable` is not eqivalent to `variable`  \n",
        "it is a good practice to use descriptive variable names.\n",
        "For example `count = 10` instead of `c = 10` and `training_error = 0.05` instead of `e = 0.05` "
      ],
      "metadata": {
        "id": "W2W3f2NMBxMI"
      }
    },
    {
      "cell_type": "code",
      "source": [
        "# some valid and invalid variable names\n",
        "\n",
        "@core = 89\n",
        "hello world = 6\n",
        "True = \"string\""
      ],
      "metadata": {
        "id": "lOsaftpXB1xX"
      },
      "execution_count": null,
      "outputs": []
    },
    {
      "cell_type": "markdown",
      "source": [
        "# Comments\n"
      ],
      "metadata": {
        "id": "qT4s2YUvucBg"
      }
    },
    {
      "cell_type": "markdown",
      "source": [
        "If we want to write a description or an explanation for our python code we can use comments.\n",
        "Comments are ignored by the python interpreter.\n",
        " \n",
        "We can write comments by preceding the comment text by the `#` symbol. This is called a single line comment.\n",
        "\n",
        "or we can use the triple single quotes or triple double quotes for multi-line comments (both are equivalent in python).  "
      ],
      "metadata": {
        "id": "IcXwCnnraSpL"
      }
    },
    {
      "cell_type": "code",
      "source": [
        "# different ways for writing comments in python, this way (single line comment)\n",
        "\n",
        "'''\n",
        "this\n",
        "is \n",
        "a\n",
        "multi-line\n",
        "comment\n",
        "'''\n",
        "\n",
        "\"\"\"\n",
        "this\n",
        "is \n",
        "also\n",
        "a\n",
        "multi-line\n",
        "comment\n",
        "\"\"\""
      ],
      "metadata": {
        "id": "kEAbTnjEueJl"
      },
      "execution_count": null,
      "outputs": []
    },
    {
      "cell_type": "markdown",
      "source": [
        "# Data types\n",
        "\n"
      ],
      "metadata": {
        "id": "zATYt04jJipq"
      }
    },
    {
      "cell_type": "markdown",
      "source": [
        "- Numeric : int, float, complex\n",
        "- string : str/ sequence of characters\n",
        "- boolean : bool/ True, False values \n",
        "- Sequence : list, tuple/ sequence of objects\n",
        "- Mapping : dict/ key value mapping \n",
        "- Set : set/ unordered collection of objects \n"
      ],
      "metadata": {
        "id": "Q_dxkjMmaeec"
      }
    },
    {
      "cell_type": "code",
      "source": [
        "\n",
        "# int \n",
        "count = 10\n",
        "\n",
        "# float \n",
        "height = 13.5\n",
        "\n",
        "# str\n",
        "name = \"Mohamed\"\n",
        "\n",
        "\n",
        "# bool\n",
        "visible = True\n",
        "\n",
        "#list\n",
        "subjects = [\"Math\", \"History\", \"English\",  \"Chemistry\"]\n",
        "\n",
        "# tuple \n",
        "countries = (\"Senegal\", \"Cameroon\", \"Sudan\", \"Egypt\")\n",
        "\n",
        "# dict\n",
        "country_capitals = {\n",
        "    \"Cameroon\": \"Youndee\",\n",
        "    \"Sudan\" : \"Khartoum\",\n",
        "    \"Egypt\" : \"Cairo\"\n",
        "}\n",
        "\n",
        "# set\n",
        "cars = {\"BMW\", \"VW\", \"Mercedes\"}\n",
        "\n",
        "# type built-in function to return the variable data type\n",
        "print (type(count))\n",
        "print (type(height))\n",
        "print (type(name))\n",
        "print (type(visible))\n",
        "print (type(country_capitals))\n"
      ],
      "metadata": {
        "id": "hMQB6v-NJk0d",
        "colab": {
          "base_uri": "https://localhost:8080/"
        },
        "outputId": "290e43ce-951d-41e8-d831-098ad7fac688"
      },
      "execution_count": null,
      "outputs": [
        {
          "output_type": "stream",
          "name": "stdout",
          "text": [
            "<class 'int'>\n",
            "<class 'float'>\n",
            "<class 'str'>\n",
            "<class 'bool'>\n",
            "<class 'dict'>\n"
          ]
        }
      ]
    },
    {
      "cell_type": "markdown",
      "source": [
        "## Type Conversion/Casting"
      ],
      "metadata": {
        "id": "1hjE0Y1Dne7-"
      }
    },
    {
      "cell_type": "markdown",
      "source": [
        "Two kinds of type conversion:\n",
        "- Implicit Conversion : Performed by the python interpreter\n",
        "- Explicit Conversion : Performed by calling the constructor of the type you want to convert the variable to\n"
      ],
      "metadata": {
        "id": "XU4OErYvnocu"
      }
    },
    {
      "cell_type": "code",
      "source": [
        "# implicit type conversion by the python interpreter\n",
        "\n",
        "age1 = 35\n",
        "age2 = 10.3\n",
        "\n",
        "print (type(age1))\n",
        "print (type(age2))\n",
        "\n",
        "result = age1+age2\n",
        "print (type(result))"
      ],
      "metadata": {
        "colab": {
          "base_uri": "https://localhost:8080/"
        },
        "id": "s-_5qi4vmhR-",
        "outputId": "a0769d4a-52cc-4a10-a0f0-4d60659591a0"
      },
      "execution_count": null,
      "outputs": [
        {
          "output_type": "stream",
          "name": "stdout",
          "text": [
            "<class 'int'>\n",
            "<class 'float'>\n",
            "<class 'float'>\n"
          ]
        }
      ]
    },
    {
      "cell_type": "code",
      "source": [
        "# explicit type conversion \n",
        "# e.g. convert an integer to string \n",
        "\n",
        "age = 20\n",
        "age_string = str(age)\n",
        "print (type(age), type(age_string))\n",
        "\n",
        "# convert a numeric string to int\n",
        "number = \"123\"\n",
        "number_int = int(number)\n",
        "print (type(number_int), type(number))\n",
        "\n",
        "# convert a string to a list of characters \n",
        "our_string = \"I love Python\"\n",
        "our_string_as_list = list(our_string)\n",
        "print (our_string_as_list)"
      ],
      "metadata": {
        "colab": {
          "base_uri": "https://localhost:8080/"
        },
        "id": "gE3tDwLbosz4",
        "outputId": "837331e6-8494-46d1-c554-ec1d95402756"
      },
      "execution_count": null,
      "outputs": [
        {
          "output_type": "stream",
          "name": "stdout",
          "text": [
            "<class 'int'> <class 'str'>\n",
            "<class 'int'> <class 'str'>\n",
            "['I', ' ', 'l', 'o', 'v', 'e', ' ', 'P', 'y', 't', 'h', 'o', 'n']\n"
          ]
        }
      ]
    },
    {
      "cell_type": "markdown",
      "source": [
        "# Operators"
      ],
      "metadata": {
        "id": "xwd2syvy079K"
      }
    },
    {
      "cell_type": "markdown",
      "source": [
        "An operator is a special character or symbol used to perform an operation between variables and/or values\n",
        "\n",
        "e.g. the `+` is the addition operator,\n",
        "`5+7` performs the addition operation between two integers  "
      ],
      "metadata": {
        "id": "ctp7gxXqVnyS"
      }
    },
    {
      "cell_type": "markdown",
      "source": [
        "### Arithmetic Operator"
      ],
      "metadata": {
        "id": "mhnkiEnDbmH9"
      }
    },
    {
      "cell_type": "markdown",
      "source": [
        "The arithmetic operators perform mathematical operations between literal values/variables"
      ],
      "metadata": {
        "id": "iqjs-ca7WCy_"
      }
    },
    {
      "cell_type": "markdown",
      "source": [
        "### `+` Addition\n",
        "`-` Subtraction\n",
        "\n",
        "`*` multiplication\n",
        "\n",
        "`/` float/floor division \n",
        "\n",
        "`//` integer division \n",
        "\n",
        "`**` power\n",
        "\n",
        "`%` Modulo\n",
        "\n"
      ],
      "metadata": {
        "id": "uOJ6MCxhWPmO"
      }
    },
    {
      "cell_type": "code",
      "source": [
        "x = 10 \n",
        "y = 7 \n",
        "print (x+y)\n",
        "print (x*y)\n",
        "print (x/y)\n",
        "print (x//y)\n",
        "print (x**y)\n",
        "print (x%y)"
      ],
      "metadata": {
        "colab": {
          "base_uri": "https://localhost:8080/"
        },
        "id": "3D_wMRHM0-cn",
        "outputId": "c492d94c-8077-4a84-d329-50c4c4e7d40f"
      },
      "execution_count": null,
      "outputs": [
        {
          "output_type": "stream",
          "name": "stdout",
          "text": [
            "17\n",
            "70\n",
            "1.4285714285714286\n",
            "1\n",
            "10000000\n",
            "3\n"
          ]
        }
      ]
    },
    {
      "cell_type": "markdown",
      "source": [
        "## Comparison Operators"
      ],
      "metadata": {
        "id": "T_EoRQhQUudw"
      }
    },
    {
      "cell_type": "markdown",
      "source": [
        "Comparison operators are used to compare variables/values and return a boolean result `True` or `False`"
      ],
      "metadata": {
        "id": "OFysK6hvZ4vy"
      }
    },
    {
      "cell_type": "markdown",
      "source": [
        "`==` is equal to operator , a == b, True if a=b , otherwise False\n",
        "\n",
        "`!=` is not equal to , a!=b , True if a is not equal to b , otherwise false\n",
        "\n",
        "`>` greater than , a>b , True if a is greater than b, otherwise False\n",
        "\n",
        "\n",
        "`<` less than , a<b, True if a is less than b , False otherwise\n",
        "\n",
        "\n",
        "`>=` greater than or equal , True if a is greater than or equal to b , False otherwise\n",
        "\n",
        "`<=` greater than or equal , True if a is less than or equal to b , False otherwise\n"
      ],
      "metadata": {
        "id": "1bVaibRqbRE8"
      }
    },
    {
      "cell_type": "code",
      "source": [],
      "metadata": {
        "id": "uTYN5ru9VhcB"
      },
      "execution_count": null,
      "outputs": []
    },
    {
      "cell_type": "markdown",
      "source": [
        "## Assignment Operators"
      ],
      "metadata": {
        "id": "tcrt1zKrViBt"
      }
    },
    {
      "cell_type": "markdown",
      "source": [
        "We use assignment operators to assign a value to a variable "
      ],
      "metadata": {
        "id": "2rW4yNDhaZaD"
      }
    },
    {
      "cell_type": "markdown",
      "source": [
        "`=` simple assignment \n",
        "\n",
        "`+=` assignment with addition.  a+=2 Equivalent to a = a+2 \n",
        "\n",
        "`-=` assignment with subtraction.\n",
        "\n",
        "`/=` assignment with division \n",
        "\n",
        "`*=` assignment with multiplication \n",
        "\n",
        "`%=` assignment with modulo \n",
        "\n",
        "`**=` assignment with exponentiation \n",
        "\n"
      ],
      "metadata": {
        "id": "ilElx9lyXibo"
      }
    },
    {
      "cell_type": "code",
      "source": [],
      "metadata": {
        "id": "hl9qiCr9U3u2"
      },
      "execution_count": null,
      "outputs": []
    },
    {
      "cell_type": "markdown",
      "source": [
        "## Logical Operators\n"
      ],
      "metadata": {
        "id": "lBhHYcdbU0B4"
      }
    },
    {
      "cell_type": "markdown",
      "source": [
        "Logical operators are use to make decision by combining mutliple boolean expressions"
      ],
      "metadata": {
        "id": "KqW6w5YDdH2Z"
      }
    },
    {
      "cell_type": "markdown",
      "source": [
        "`and` , `a and  b`, returns True if both `a` and `b` are True, otherwise False\n",
        "\n",
        "`or`, `a or b`, returns True if either `a` or `b` is True, otherwise False\n",
        "\n",
        "`not`, `not a`, returns True if `a`is False, otherwise True\n",
        "\n",
        "\n"
      ],
      "metadata": {
        "id": "fmQQbgl5dS4Q"
      }
    },
    {
      "cell_type": "code",
      "source": [
        "a = 7 \n",
        "b = 5\n",
        "\n",
        "a == 7 and b ==4 "
      ],
      "metadata": {
        "colab": {
          "base_uri": "https://localhost:8080/"
        },
        "id": "de7mUK3aVlMc",
        "outputId": "74d6b3e0-beb7-4cda-ce0c-eea05f320f1e"
      },
      "execution_count": null,
      "outputs": [
        {
          "output_type": "execute_result",
          "data": {
            "text/plain": [
              "False"
            ]
          },
          "metadata": {},
          "execution_count": 3
        }
      ]
    },
    {
      "cell_type": "markdown",
      "source": [],
      "metadata": {
        "id": "a203L-CjUuOf"
      }
    },
    {
      "cell_type": "markdown",
      "source": [
        "# Strings "
      ],
      "metadata": {
        "id": "f9oGBarZJlmG"
      }
    },
    {
      "cell_type": "code",
      "source": [
        "example_string = \"abcdefg\"\n"
      ],
      "metadata": {
        "id": "wVxlUuisJmha"
      },
      "execution_count": null,
      "outputs": []
    },
    {
      "cell_type": "markdown",
      "source": [
        "- create a string / single quote , double quote\n",
        "- multi-line string \n",
        "- string indexing / slicing, negative indexing \n",
        "- strings are immutable \n",
        "- string operations :  \n",
        "  - comparison\n",
        "  - concatenation\n",
        "- string length \n",
        "- string methods:\n",
        "  - upper() : uppercase \n",
        "  - lower() : lowercase\n",
        "  - split() : split on some character\n",
        "  - find() : finds the index of a substring\n",
        "  - replace() : replaces a substring with another\n",
        "\n",
        "- string formatting   "
      ],
      "metadata": {
        "id": "VGWvf9Tu4XzD"
      }
    },
    {
      "cell_type": "markdown",
      "source": [
        "## String Creation"
      ],
      "metadata": {
        "id": "i_EjfJ9b7uTb"
      }
    },
    {
      "cell_type": "code",
      "source": [
        "# create a string / single quote , double quote\n",
        "example_string = \"abd\"\n",
        "example_string = 'abd'\n"
      ],
      "metadata": {
        "id": "9H6ESo6j7lRK"
      },
      "execution_count": null,
      "outputs": []
    },
    {
      "cell_type": "markdown",
      "source": [
        "### Multi-line Strings"
      ],
      "metadata": {
        "id": "Dqw2Wa8g70zs"
      }
    },
    {
      "cell_type": "code",
      "source": [
        "# multi-line string/ double quotes\n",
        "example_mutli_line_string = \"\"\"\n",
        "this \n",
        "is \n",
        "a \n",
        "multiline \n",
        "string\"\"\"\n",
        "\n",
        "# single quotes\n",
        "example_mutli_line_string = '''\n",
        "this \n",
        "is \n",
        "a \n",
        "multiline \n",
        "string\n",
        "'''"
      ],
      "metadata": {
        "id": "NTGjCq2P7pPs"
      },
      "execution_count": null,
      "outputs": []
    },
    {
      "cell_type": "markdown",
      "source": [
        "## String Indexing/Slicing  "
      ],
      "metadata": {
        "id": "mwN3S8zb79I5"
      }
    },
    {
      "cell_type": "code",
      "source": [
        "\n",
        "# string indexing / slicing, negative indexing \n",
        "country = \"Senegal\"\n",
        "\n",
        "# indexing \n",
        "print (country[0])\n",
        "print (country[1])\n",
        "print (country[2])\n",
        "\n",
        "# negative index\n",
        "print (country[-1])\n",
        "\n",
        "# slicing \n",
        "print (country[1:3])\n",
        "\n",
        "\n"
      ],
      "metadata": {
        "id": "20Ez1Ouy6MPN"
      },
      "execution_count": null,
      "outputs": []
    },
    {
      "cell_type": "markdown",
      "source": [
        "## Strings Immutability"
      ],
      "metadata": {
        "id": "B6Sv_nhV8J6z"
      }
    },
    {
      "cell_type": "code",
      "source": [
        "# strings are immutable\n",
        "subject = \"History\" \n",
        "subject[0] = \"I\"\n",
        "print (subject)"
      ],
      "metadata": {
        "colab": {
          "base_uri": "https://localhost:8080/",
          "height": 226
        },
        "id": "k66qiC2g8WNR",
        "outputId": "9e3acfaa-c7ba-4445-871a-be87aeb61238"
      },
      "execution_count": null,
      "outputs": [
        {
          "output_type": "error",
          "ename": "TypeError",
          "evalue": "ignored",
          "traceback": [
            "\u001b[0;31m---------------------------------------------------------------------------\u001b[0m",
            "\u001b[0;31mTypeError\u001b[0m                                 Traceback (most recent call last)",
            "\u001b[0;32m<ipython-input-7-4bf88c594bc8>\u001b[0m in \u001b[0;36m<module>\u001b[0;34m\u001b[0m\n\u001b[1;32m      1\u001b[0m \u001b[0;31m# strings are immutable\u001b[0m\u001b[0;34m\u001b[0m\u001b[0;34m\u001b[0m\u001b[0;34m\u001b[0m\u001b[0m\n\u001b[1;32m      2\u001b[0m \u001b[0msubject\u001b[0m \u001b[0;34m=\u001b[0m \u001b[0;34m\"History\"\u001b[0m\u001b[0;34m\u001b[0m\u001b[0;34m\u001b[0m\u001b[0m\n\u001b[0;32m----> 3\u001b[0;31m \u001b[0msubject\u001b[0m\u001b[0;34m[\u001b[0m\u001b[0;36m0\u001b[0m\u001b[0;34m]\u001b[0m \u001b[0;34m=\u001b[0m \u001b[0;34m\"I\"\u001b[0m\u001b[0;34m\u001b[0m\u001b[0;34m\u001b[0m\u001b[0m\n\u001b[0m\u001b[1;32m      4\u001b[0m \u001b[0mprint\u001b[0m \u001b[0;34m(\u001b[0m\u001b[0msubject\u001b[0m\u001b[0;34m)\u001b[0m\u001b[0;34m\u001b[0m\u001b[0;34m\u001b[0m\u001b[0m\n",
            "\u001b[0;31mTypeError\u001b[0m: 'str' object does not support item assignment"
          ]
        }
      ]
    },
    {
      "cell_type": "markdown",
      "source": [
        "## String Operations"
      ],
      "metadata": {
        "id": "J6YykimC87vA"
      }
    },
    {
      "cell_type": "code",
      "source": [
        "# strings comparison\n",
        "str1 = \"Hello\"\n",
        "str2 = \"Hi\"\n",
        "str3 = \"Hello\"\n",
        "\n",
        "print(str1 == str2)\n",
        "print(str1 == str3)\n",
        "\n"
      ],
      "metadata": {
        "colab": {
          "base_uri": "https://localhost:8080/"
        },
        "id": "fEFtLA7-87Ty",
        "outputId": "971f4cee-f57d-4098-941c-821a720539d2"
      },
      "execution_count": null,
      "outputs": [
        {
          "output_type": "stream",
          "name": "stdout",
          "text": [
            "False\n",
            "True\n",
            "HelloHi\n"
          ]
        }
      ]
    },
    {
      "cell_type": "code",
      "source": [
        "# strings concatenation\n",
        "str1 = \"Hello\"\n",
        "str2 = \"World!\"\n",
        "result = str1 + \" \" +str2\n",
        "print (result)"
      ],
      "metadata": {
        "colab": {
          "base_uri": "https://localhost:8080/"
        },
        "id": "xArtTA6p9t02",
        "outputId": "6c8e44c8-7609-4a1d-cbbc-afb3d8966c3a"
      },
      "execution_count": null,
      "outputs": [
        {
          "output_type": "stream",
          "name": "stdout",
          "text": [
            "Hello World!\n"
          ]
        }
      ]
    },
    {
      "cell_type": "markdown",
      "source": [
        "## String Length"
      ],
      "metadata": {
        "id": "gcDqkQIY94Jh"
      }
    },
    {
      "cell_type": "markdown",
      "source": [
        "We can use the python built-in `len` function to return the string length"
      ],
      "metadata": {
        "id": "ksUuSjow-LCt"
      }
    },
    {
      "cell_type": "code",
      "source": [
        "country = \"Senegal\"\n",
        "length = len(country)\n",
        "print (length)"
      ],
      "metadata": {
        "id": "9TvRoXfr96pE"
      },
      "execution_count": null,
      "outputs": []
    },
    {
      "cell_type": "markdown",
      "source": [
        "## String Methods"
      ],
      "metadata": {
        "id": "6ERvHkGJ-gXm"
      }
    },
    {
      "cell_type": "markdown",
      "source": [
        "There are many useful methods that python provide us to manipulate and work with strings. We are going to cover some of them in this tutorial. Refer yourself to the documentation for a comprehensive list of python string methods"
      ],
      "metadata": {
        "id": "Cw6aiIy0-kaO"
      }
    },
    {
      "cell_type": "markdown",
      "source": [
        "### Convert to Lowercase/Uppercase"
      ],
      "metadata": {
        "id": "lK4glK9A-7TN"
      }
    },
    {
      "cell_type": "markdown",
      "source": [
        "use the upper and lower string methods to convert your string to uppercase or lowercase respectively"
      ],
      "metadata": {
        "id": "9W8bGNuQ_EMv"
      }
    },
    {
      "cell_type": "code",
      "source": [
        "country = \"senegal\"\n",
        "print (country.upper())\n",
        "\n",
        "country = \"CAMEROON\"\n",
        "print(country.lower())"
      ],
      "metadata": {
        "colab": {
          "base_uri": "https://localhost:8080/"
        },
        "id": "PysHyvce-fop",
        "outputId": "2497332d-a005-40ad-f69f-48600bbd75dc"
      },
      "execution_count": null,
      "outputs": [
        {
          "output_type": "stream",
          "name": "stdout",
          "text": [
            "SENEGAL\n",
            "cameroon\n"
          ]
        }
      ]
    },
    {
      "cell_type": "markdown",
      "source": [
        "### Splitting "
      ],
      "metadata": {
        "id": "hvdSy9t5_5Ao"
      }
    },
    {
      "cell_type": "markdown",
      "source": [
        "We can use the `split` method to split our string into a list of strings based on some delimiter"
      ],
      "metadata": {
        "id": "wpf6b_JuAgqN"
      }
    },
    {
      "cell_type": "code",
      "source": [
        "countries = \"Senegal,Cameroon,Mali,RSA\"\n",
        "print (countries.split(\",\"))\n",
        "\n",
        "countries = \"Senegal Cameroon Mali RSA\"\n",
        "print (countries.split())"
      ],
      "metadata": {
        "colab": {
          "base_uri": "https://localhost:8080/"
        },
        "id": "jbf1kv9qATUk",
        "outputId": "54626f25-1849-41ac-ee11-834357682808"
      },
      "execution_count": null,
      "outputs": [
        {
          "output_type": "stream",
          "name": "stdout",
          "text": [
            "['Senegal', 'Cameroon', 'Mali', 'RSA']\n",
            "['Senegal', 'Cameroon', 'Mali', 'RSA']\n"
          ]
        }
      ]
    },
    {
      "cell_type": "markdown",
      "source": [
        "### Finding a Substring in a String "
      ],
      "metadata": {
        "id": "7CIR3IivBK7X"
      }
    },
    {
      "cell_type": "markdown",
      "source": [
        "The `find` method can be used to find the index of the first occurence of a substring in a string "
      ],
      "metadata": {
        "id": "X-QDvgXKBQes"
      }
    },
    {
      "cell_type": "code",
      "source": [
        "example_string = 'I love python'\n",
        "index = example_string.find(\"love\")\n",
        "print (index)"
      ],
      "metadata": {
        "colab": {
          "base_uri": "https://localhost:8080/"
        },
        "id": "UUJTwgQEBfNY",
        "outputId": "0d0ce765-a904-4520-e606-127700099f10"
      },
      "execution_count": null,
      "outputs": [
        {
          "output_type": "stream",
          "name": "stdout",
          "text": [
            "2\n"
          ]
        }
      ]
    },
    {
      "cell_type": "markdown",
      "source": [
        "### Replacing a Substring with Another String "
      ],
      "metadata": {
        "id": "14fq9JHdCWxG"
      }
    },
    {
      "cell_type": "markdown",
      "source": [
        "The string `replace` method can be utilized to replace a substring occuring in our string with another substring "
      ],
      "metadata": {
        "id": "09Y-ZYtfCegD"
      }
    },
    {
      "cell_type": "code",
      "source": [
        "example_string = 'I love python'\n",
        "result = example_string.replace(\"love\", \"hate\")\n",
        "print (result)"
      ],
      "metadata": {
        "colab": {
          "base_uri": "https://localhost:8080/"
        },
        "id": "-HLx1s-ICcn3",
        "outputId": "443c4562-acf3-4ab8-9454-6cf1eb3d4d24"
      },
      "execution_count": null,
      "outputs": [
        {
          "output_type": "stream",
          "name": "stdout",
          "text": [
            "I hate python\n"
          ]
        }
      ]
    },
    {
      "cell_type": "markdown",
      "source": [
        "## String Formatting"
      ],
      "metadata": {
        "id": "otcFvIejDV3_"
      }
    },
    {
      "cell_type": "markdown",
      "source": [
        "An f-string is an easy way that you find handy to format strings in python. Just precede the string single/double quote by `f` and use the curly brackets to enclose variables that you want their values to appear in the formatted string"
      ],
      "metadata": {
        "id": "tsq8LJgLDa7Y"
      }
    },
    {
      "cell_type": "code",
      "source": [
        "language = \"Python\" \n",
        "result = f'I love {language}'\n",
        "print(result) \n",
        "\n",
        "num_brothers = 3\n",
        "result = f'I have {num_brothers} brothers'\n",
        "print (result)"
      ],
      "metadata": {
        "colab": {
          "base_uri": "https://localhost:8080/"
        },
        "id": "gGuhYPbnDYv1",
        "outputId": "6cf8766e-724e-4f3e-ba2d-7c26e09fa758"
      },
      "execution_count": null,
      "outputs": [
        {
          "output_type": "stream",
          "name": "stdout",
          "text": [
            "I love Python\n",
            "I have 3 brothers\n"
          ]
        }
      ]
    },
    {
      "cell_type": "markdown",
      "source": [
        "# Lists\n"
      ],
      "metadata": {
        "id": "JDfUO-ZJFlDg"
      }
    },
    {
      "cell_type": "markdown",
      "source": [
        "Python list is a sequence or a collection of ordered elements"
      ],
      "metadata": {
        "id": "G0WwJYeXajN4"
      }
    },
    {
      "cell_type": "markdown",
      "source": [
        "## List Creation"
      ],
      "metadata": {
        "id": "JKGa_nwtMvkK"
      }
    },
    {
      "cell_type": "code",
      "source": [
        "countries = [\"Senegal\", \"Rwanda\", \"Chad\"] # list of strings\n",
        "heights = [180, 190, 200, 155] # list of int\n",
        "weights = [12, 14.5, 16,40.1] # list of float and int\n"
      ],
      "metadata": {
        "id": "KmwA2nbQMD9Y"
      },
      "execution_count": null,
      "outputs": []
    },
    {
      "cell_type": "markdown",
      "source": [
        "## List Indexing"
      ],
      "metadata": {
        "id": "xsKfXLo6MzWo"
      }
    },
    {
      "cell_type": "code",
      "source": [
        "countries = [\"Senegal\", \"Rwanda\", \"Chad\"]\n",
        "print (countries[0]) # list indices start at 0 and end at list length -1\n",
        "print (countries[1])\n",
        "print (countries[2])\n",
        "\n",
        "# negative indexing \n",
        "print (countries[-1]) # the last element\n",
        "print (countries[-2]) # the element before the last \n",
        "\n",
        "\n"
      ],
      "metadata": {
        "id": "9MvD8IhlMthZ"
      },
      "execution_count": null,
      "outputs": []
    },
    {
      "cell_type": "markdown",
      "source": [
        "## List Slicing"
      ],
      "metadata": {
        "id": "e-LlzjnrNezV"
      }
    },
    {
      "cell_type": "code",
      "source": [
        "countries = [\"Senegal\", \"Rwanda\", \"Chad\", \"Morocco\", \"Sudan\", \"Uganda\", \"Kenya\"]\n",
        "list_slice = countries[0:2] # returns a sub-list starting from index 0 and ending at index 2 exclusive, index 2 is not included \n",
        "another_slice = countries[1:]\n",
        "third_slice = countries[:4]\n",
        "list_slice, another_slice, third_slice"
      ],
      "metadata": {
        "colab": {
          "base_uri": "https://localhost:8080/"
        },
        "id": "swMxuScgNc13",
        "outputId": "8b891cc3-5c16-4e46-d170-6208451de32f"
      },
      "execution_count": null,
      "outputs": [
        {
          "output_type": "execute_result",
          "data": {
            "text/plain": [
              "(['Senegal', 'Rwanda'],\n",
              " ['Rwanda', 'Chad', 'Morocco', 'Sudan', 'Uganda', 'Kenya'],\n",
              " ['Senegal', 'Rwanda', 'Chad', 'Morocco'])"
            ]
          },
          "metadata": {},
          "execution_count": 15
        }
      ]
    },
    {
      "cell_type": "markdown",
      "source": [
        "## List Length"
      ],
      "metadata": {
        "id": "zLR_vfKVN_SV"
      }
    },
    {
      "cell_type": "code",
      "source": [
        "# use the len function to return the length of list/ number of elements\n",
        "countries = [\"Senegal\", \"Rwanda\", \"Chad\", \"Morocco\", \"Sudan\", \"Uganda\", \"Kenya\"]\n",
        "num_countries = len(countries)"
      ],
      "metadata": {
        "id": "SLPqh4HnOBSm"
      },
      "execution_count": null,
      "outputs": []
    },
    {
      "cell_type": "markdown",
      "source": [
        "## List Methods"
      ],
      "metadata": {
        "id": "9pJDDWapOW9H"
      }
    },
    {
      "cell_type": "markdown",
      "source": [
        "### `append`"
      ],
      "metadata": {
        "id": "drj9S4PUOZKR"
      }
    },
    {
      "cell_type": "markdown",
      "source": [
        "We use the `append` method to add an element at the end of list "
      ],
      "metadata": {
        "id": "5JWxCofIOb2L"
      }
    },
    {
      "cell_type": "code",
      "source": [
        "countries = [\"Senegal\", \"Rwanda\", \"Chad\", \"Morocco\", \"Sudan\", \"Uganda\", \"Kenya\"]\n",
        "countries.append(\"Somalia\")\n",
        "countries"
      ],
      "metadata": {
        "colab": {
          "base_uri": "https://localhost:8080/"
        },
        "id": "Qku19juMOlY1",
        "outputId": "2176fcd3-d58c-4276-ef29-a403d5c8e319"
      },
      "execution_count": null,
      "outputs": [
        {
          "output_type": "execute_result",
          "data": {
            "text/plain": [
              "['Senegal', 'Rwanda', 'Chad', 'Morocco', 'Sudan', 'Uganda', 'Kenya', 'Somalia']"
            ]
          },
          "metadata": {},
          "execution_count": 13
        }
      ]
    },
    {
      "cell_type": "markdown",
      "source": [
        "### `extend`\n",
        "`extend` method is used to add elements from another list after the end of **our** list "
      ],
      "metadata": {
        "id": "QGYLFb89Ordl"
      }
    },
    {
      "cell_type": "code",
      "source": [
        "africa = [\"Senegal\", \"Rwanda\", \"Chad\", \"Morocco\", \"Sudan\", \"Uganda\", \"Kenya\"]\n",
        "europe = [\"UK\", \"France\", \"Germany\"]\n",
        "africa.extend(europe)\n",
        "print (africa)"
      ],
      "metadata": {
        "colab": {
          "base_uri": "https://localhost:8080/"
        },
        "id": "zpeV-tKpPyQE",
        "outputId": "44e02cde-1678-4cb8-d1f2-475c4f0175b0"
      },
      "execution_count": null,
      "outputs": [
        {
          "output_type": "stream",
          "name": "stdout",
          "text": [
            "['Senegal', 'Rwanda', 'Chad', 'Morocco', 'Sudan', 'Uganda', 'Kenya', 'UK', 'France', 'Germany']\n"
          ]
        }
      ]
    },
    {
      "cell_type": "markdown",
      "source": [
        "### `insert`\n",
        "We use the `insert` method to insert an item to the list at the specified index"
      ],
      "metadata": {
        "id": "oFgg1oS-Pyuw"
      }
    },
    {
      "cell_type": "code",
      "source": [
        "europe = [\"UK\", \"France\", \"Germany\"]\n",
        "europe.insert(0,\"Greece\")\n",
        "print (europe) "
      ],
      "metadata": {
        "colab": {
          "base_uri": "https://localhost:8080/"
        },
        "id": "JFwAjjuvUB2N",
        "outputId": "a33c988e-a4e4-4e4a-a07b-1eaa31e892ed"
      },
      "execution_count": null,
      "outputs": [
        {
          "output_type": "stream",
          "name": "stdout",
          "text": [
            "['Greece', 'UK', 'France', 'Germany']\n"
          ]
        }
      ]
    },
    {
      "cell_type": "markdown",
      "source": [
        "### `remove`\n",
        "removes an item from the list"
      ],
      "metadata": {
        "id": "n-PdBHmVP3Lw"
      }
    },
    {
      "cell_type": "code",
      "source": [
        "europe = [\"UK\", \"France\", \"Germany\"]\n",
        "europe.remove(\"UK\")\n",
        "print (europe)"
      ],
      "metadata": {
        "colab": {
          "base_uri": "https://localhost:8080/"
        },
        "id": "4Mm7G7DZUcCr",
        "outputId": "f00e581d-3cb6-483c-9613-35848f20784e"
      },
      "execution_count": null,
      "outputs": [
        {
          "output_type": "stream",
          "name": "stdout",
          "text": [
            "['France', 'Germany']\n"
          ]
        }
      ]
    },
    {
      "cell_type": "markdown",
      "source": [
        "### `pop`\n",
        "returns and removes an item from the list at given index/ the last element is popped if index not provided"
      ],
      "metadata": {
        "id": "qowAUdfcTrIL"
      }
    },
    {
      "cell_type": "code",
      "source": [
        "salaries = [5000, 1200, 3000,1100.1]\n",
        "salary = salaries.pop(0)\n",
        "salary,salaries"
      ],
      "metadata": {
        "colab": {
          "base_uri": "https://localhost:8080/"
        },
        "id": "Zu6k2ryAU6Gb",
        "outputId": "d0ce5944-2d9a-4ce5-a338-735c41ef4650"
      },
      "execution_count": null,
      "outputs": [
        {
          "output_type": "execute_result",
          "data": {
            "text/plain": [
              "(5000, [1200, 3000, 1100.1])"
            ]
          },
          "metadata": {},
          "execution_count": 25
        }
      ]
    },
    {
      "cell_type": "markdown",
      "source": [
        "### `sort`\n",
        "sort the list in ascending/descending order"
      ],
      "metadata": {
        "id": "hjNskEfTTgZQ"
      }
    },
    {
      "cell_type": "code",
      "source": [
        "salaries = [5000, 1200, 3000,1100.1]\n",
        "salaries.sort(reverse=True)\n",
        "print (salaries)"
      ],
      "metadata": {
        "colab": {
          "base_uri": "https://localhost:8080/"
        },
        "id": "KHeZXwrHVcs1",
        "outputId": "a68a0f95-ee75-46f0-f47d-837c2312b2d8"
      },
      "execution_count": null,
      "outputs": [
        {
          "output_type": "stream",
          "name": "stdout",
          "text": [
            "[5000, 3000, 1200, 1100.1]\n"
          ]
        }
      ]
    },
    {
      "cell_type": "markdown",
      "source": [
        "## Changing List Elements at a Specified Index"
      ],
      "metadata": {
        "id": "LtRv83UGWWB2"
      }
    },
    {
      "cell_type": "markdown",
      "source": [
        "Lists are mutable, that means we can update or change list elements after the creation of the list "
      ],
      "metadata": {
        "id": "QCSWZ0DBWcGv"
      }
    },
    {
      "cell_type": "code",
      "source": [
        "salaries = [5000, 1200, 3000,1100.1]\n",
        "salaries[1] = 6000\n",
        "print (salaries)\n",
        "#salaries[0:2] = [1,4]\n",
        "#print (salaries)"
      ],
      "metadata": {
        "colab": {
          "base_uri": "https://localhost:8080/"
        },
        "id": "5Zc9w3jgWp74",
        "outputId": "a29d79fd-2064-498c-f522-54f860192042"
      },
      "execution_count": null,
      "outputs": [
        {
          "output_type": "stream",
          "name": "stdout",
          "text": [
            "[5000, 6000, 3000, 1100.1]\n",
            "[1, 4, 3000, 1100.1]\n"
          ]
        }
      ]
    },
    {
      "cell_type": "code",
      "source": [],
      "metadata": {
        "id": "uQXXIIWFXCdS"
      },
      "execution_count": null,
      "outputs": []
    },
    {
      "cell_type": "markdown",
      "source": [
        "# Python I/O"
      ],
      "metadata": {
        "id": "K2noLDD-Fo3_"
      }
    },
    {
      "cell_type": "markdown",
      "source": [
        "## Python Output "
      ],
      "metadata": {
        "id": "musyqMhxqmAW"
      }
    },
    {
      "cell_type": "markdown",
      "source": [
        "We can display text to the screen using the python built-in `print` function as you did in the hello world example. There are more advanced ways of using the `print` function we are going to explore through this section."
      ],
      "metadata": {
        "id": "R5u-uK9eqq1C"
      }
    },
    {
      "cell_type": "markdown",
      "source": [
        "Here is the complete definition of the print function\n",
        "`print(object=, end='\\n', file=, sep= , flush=`)\n",
        "\n",
        "- `object` is the object we want to print \n",
        "- `end` the character to add after each call for print, newline by default  \n",
        "- `sep` allows us to add a character to separate multiple objects \n",
        "- `flush` specifies if the output is flushed or buffered \n",
        "- `file` output file, standard output by default"
      ],
      "metadata": {
        "id": "j610ctL2rVbY"
      }
    },
    {
      "cell_type": "code",
      "source": [
        "print(\"I\",\"love python\")"
      ],
      "metadata": {
        "colab": {
          "base_uri": "https://localhost:8080/"
        },
        "id": "lmr9qCoitA-f",
        "outputId": "eff686c6-2b84-42e8-b3bc-839c801a45b6"
      },
      "execution_count": null,
      "outputs": [
        {
          "output_type": "stream",
          "name": "stdout",
          "text": [
            "I love python\n"
          ]
        }
      ]
    },
    {
      "cell_type": "markdown",
      "source": [
        "## Handling Input "
      ],
      "metadata": {
        "id": "dk6v_IU-JnQt"
      }
    },
    {
      "cell_type": "markdown",
      "source": [
        "We can read user input by using the `input` function, we pass it the prompt that we want to display to the user. the `input` function returns  the input string that the user typed. We can store it in a variable and print it as you see in this example"
      ],
      "metadata": {
        "id": "R9AuhrgF3fCA"
      }
    },
    {
      "cell_type": "code",
      "source": [
        "age = input('Please enter your age ')\n",
        "print (\"Your age is \"+age)"
      ],
      "metadata": {
        "id": "oCkN06CrJrZq",
        "colab": {
          "base_uri": "https://localhost:8080/"
        },
        "outputId": "c93c267b-9828-4c78-e7fe-5a1f6b81f14f"
      },
      "execution_count": null,
      "outputs": [
        {
          "output_type": "stream",
          "name": "stdout",
          "text": [
            "Please enter your age 12\n",
            "Your age is 12\n"
          ]
        }
      ]
    },
    {
      "cell_type": "markdown",
      "source": [
        "### Excercise:\n",
        "write a python program that asks the user to input two numbers and prints their summation "
      ],
      "metadata": {
        "id": "8QYTbZ1ftquJ"
      }
    },
    {
      "cell_type": "code",
      "source": [
        "num1 = input(\"Please enter a number\")\n",
        "num2 = input(\"Please enter a number\")\n",
        "\n",
        "print (\"The sum is :\", int(num1)+int(num2))"
      ],
      "metadata": {
        "colab": {
          "base_uri": "https://localhost:8080/"
        },
        "id": "UR4cE-U-t4mb",
        "outputId": "b7069a23-1b46-4580-fa1c-3c6cf5fd3aa9"
      },
      "execution_count": null,
      "outputs": [
        {
          "output_type": "stream",
          "name": "stdout",
          "text": [
            "Please enter a number10\n",
            "Please enter a number20\n",
            "The sum is : 30\n"
          ]
        }
      ]
    },
    {
      "cell_type": "markdown",
      "source": [],
      "metadata": {
        "id": "QC2bdmlHC5nu"
      }
    },
    {
      "cell_type": "markdown",
      "source": [
        "# Conditionals"
      ],
      "metadata": {
        "id": "BxYoBjebJ8Oo"
      }
    },
    {
      "cell_type": "markdown",
      "source": [
        "## If statement\n",
        "we use if statement to execute a block of code based on the evaluation of a conditional expression\n"
      ],
      "metadata": {
        "id": "dyUkCK5ZfPJ_"
      }
    },
    {
      "cell_type": "markdown",
      "source": [
        "```\n",
        "# syntax for if statement\n",
        "if condition:\n",
        "  # block of code \n",
        "\n",
        "# if the condition evaluates to True the given block of code is executed, skipped otherwise  \n",
        "```"
      ],
      "metadata": {
        "id": "3SDLhGUagSHX"
      }
    },
    {
      "cell_type": "code",
      "source": [
        "age = 20\n",
        "if age >= 60:\n",
        "  print (\"Too Old\")\n",
        "  "
      ],
      "metadata": {
        "id": "rvRwicsWJ7Rl"
      },
      "execution_count": null,
      "outputs": []
    },
    {
      "cell_type": "markdown",
      "source": [],
      "metadata": {
        "id": "d2B8ixG2J_7T"
      }
    },
    {
      "cell_type": "markdown",
      "source": [
        "## if ... else ..."
      ],
      "metadata": {
        "id": "4rdDUPvfgpEK"
      }
    },
    {
      "cell_type": "markdown",
      "source": [
        "We can use the `else` keyword to instruct python to execute a block of code in the case that the if condition is not met"
      ],
      "metadata": {
        "id": "meB-LU1egvfA"
      }
    },
    {
      "cell_type": "markdown",
      "source": [
        "```\n",
        "# syntax for if .. else..\n",
        "\n",
        "if condition:\n",
        "   # do something \n",
        "else:\n",
        "   # do something else\n",
        "\n",
        "```"
      ],
      "metadata": {
        "id": "ZZ_cUx7whCAK"
      }
    },
    {
      "cell_type": "code",
      "source": [
        "mark = 40\n",
        "if mark >=50:\n",
        "  print (\"Pass\")\n",
        "else:\n",
        "  print (\"Fail\")  "
      ],
      "metadata": {
        "colab": {
          "base_uri": "https://localhost:8080/"
        },
        "id": "lK2UvkpshULB",
        "outputId": "8769d729-ce99-4e5d-b08e-af1101d28e2b"
      },
      "execution_count": null,
      "outputs": [
        {
          "output_type": "stream",
          "name": "stdout",
          "text": [
            "Fail\n"
          ]
        }
      ]
    },
    {
      "cell_type": "markdown",
      "source": [
        "## if .. elif .. else  "
      ],
      "metadata": {
        "id": "oE7c8QEyiHJW"
      }
    },
    {
      "cell_type": "markdown",
      "source": [
        "if/else statement is used when we have only one condition. If we have multiple conditions, and we want to execute a block of code based on the evaluation of each condition, it is possible to use the `if elif else` statement"
      ],
      "metadata": {
        "id": "gNpLxO24iMia"
      }
    },
    {
      "cell_type": "markdown",
      "source": [
        "```\n",
        "if condition1:\n",
        "  # block 1\n",
        "elif condition2:\n",
        "  # block 2\n",
        "elif condition3:\n",
        "  # block 3\n",
        "else:\n",
        "  # block 4      \n",
        "```\n",
        "if condition1 evalutates to `True` block 1 is executed and everything else is skipped, otherwise we check for condition 2 and condition 3 in a similar manner, if all of the conditions evaluates to False, the else block is executed  "
      ],
      "metadata": {
        "id": "shXbYesqlTtm"
      }
    },
    {
      "cell_type": "markdown",
      "source": [
        "## Exercise: Grade Calculator\n",
        "\n",
        "\n"
      ],
      "metadata": {
        "id": "-0eRwNWn-wbG"
      }
    },
    {
      "cell_type": "markdown",
      "source": [
        "Write a program that calculates a student's final grade based on the following criteria:\n",
        "\n",
        "90 or above: A+\n",
        "\n",
        "80 to 89: A\n",
        "\n",
        "70 to 79: B\n",
        "\n",
        "50 to 60: C\n",
        "\n",
        "Below 50: F"
      ],
      "metadata": {
        "id": "kEYBG4Wy-zWG"
      }
    },
    {
      "cell_type": "code",
      "source": [
        "mark = 90\n",
        "if mark >=90:\n",
        "  print (\"A+\")\n",
        "elif mark >=80:\n",
        "  print (\"A\")\n",
        "elif mark >=70:\n",
        "  print (\"B\")   \n",
        "elif mark >=50:\n",
        "  print (\"C\")\n",
        "else:\n",
        "  print (\"F\")           "
      ],
      "metadata": {
        "colab": {
          "base_uri": "https://localhost:8080/"
        },
        "id": "tOHYYqhNm1YB",
        "outputId": "ef4da37b-a4ac-48f9-d646-015dd8dd70ad"
      },
      "execution_count": null,
      "outputs": [
        {
          "output_type": "stream",
          "name": "stdout",
          "text": [
            "A+\n"
          ]
        }
      ]
    },
    {
      "cell_type": "markdown",
      "source": [],
      "metadata": {
        "id": "uzr71OYLDr8Q"
      }
    },
    {
      "cell_type": "markdown",
      "source": [
        "# For loop"
      ],
      "metadata": {
        "id": "lvQH2DNdKEM8"
      }
    },
    {
      "cell_type": "markdown",
      "source": [
        "## the range function\n"
      ],
      "metadata": {
        "id": "QQBAoM-93rb_"
      }
    },
    {
      "cell_type": "markdown",
      "source": [
        "`range(start, stop)` \n",
        "\n",
        "We use the range function to generate a sequence starting with a value `start` and stoping at a value `stop`, the value `start` has to be less than or equal to `stop`.  "
      ],
      "metadata": {
        "id": "e8qwwHRPqNyJ"
      }
    },
    {
      "cell_type": "code",
      "source": [
        "sequence = range(12,11)\n",
        "print (list (sequence))"
      ],
      "metadata": {
        "colab": {
          "base_uri": "https://localhost:8080/"
        },
        "id": "7lYAWEtcq9wb",
        "outputId": "f55fd3b4-9d19-4e7e-8318-65e830ebce5e"
      },
      "execution_count": null,
      "outputs": [
        {
          "output_type": "stream",
          "name": "stdout",
          "text": [
            "[]\n"
          ]
        }
      ]
    },
    {
      "cell_type": "markdown",
      "source": [
        "## For loop with other sequence types (strings/lists/tuples)"
      ],
      "metadata": {
        "id": "7DM_PwYj3uZQ"
      }
    },
    {
      "cell_type": "markdown",
      "source": [
        "Also, for loops can be used with other data types that have a sequential nature, such as : `string`, `list`, `tuple`, `set`"
      ],
      "metadata": {
        "id": "YAodsjeIt8vv"
      }
    },
    {
      "cell_type": "code",
      "source": [
        "example = \"Python is beautiful\"\n",
        "\n",
        "for char in example:\n",
        "  print (char, end=\" \")"
      ],
      "metadata": {
        "colab": {
          "base_uri": "https://localhost:8080/"
        },
        "id": "RkQi4p48C96v",
        "outputId": "749a61c4-8197-45f2-8186-32d420e0758b"
      },
      "execution_count": null,
      "outputs": [
        {
          "output_type": "stream",
          "name": "stdout",
          "text": [
            "P y t h o n   i s   b e a u t i f u l "
          ]
        }
      ]
    },
    {
      "cell_type": "code",
      "source": [
        "numbers = [1,2,3,4,5]\n",
        "for i in numbers:\n",
        "  print (i)"
      ],
      "metadata": {
        "id": "3MAQAfI8KFUI",
        "colab": {
          "base_uri": "https://localhost:8080/"
        },
        "outputId": "fbd62234-bba4-4c37-b214-3bef8d206b5f"
      },
      "execution_count": null,
      "outputs": [
        {
          "output_type": "stream",
          "name": "stdout",
          "text": [
            "1\n",
            "2\n",
            "3\n",
            "4\n",
            "5\n"
          ]
        }
      ]
    },
    {
      "cell_type": "markdown",
      "source": [
        "## Exercise"
      ],
      "metadata": {
        "id": "VzSQe8Tc3YGS"
      }
    },
    {
      "cell_type": "markdown",
      "source": [
        "Write a program that compute the summation of integers from 1 to 100,\n",
        "i.e. result = `1+2+3+...+99+100`"
      ],
      "metadata": {
        "id": "swLekkyVWpDS"
      }
    },
    {
      "cell_type": "code",
      "source": [
        "result = 0\n",
        "\n",
        "### FILL YOUR CODE HERE ###\n"
      ],
      "metadata": {
        "id": "5zBdqZJXWomY"
      },
      "execution_count": null,
      "outputs": []
    },
    {
      "cell_type": "code",
      "source": [
        "###"
      ],
      "metadata": {
        "colab": {
          "base_uri": "https://localhost:8080/"
        },
        "id": "0gOw5UXSdiN0",
        "outputId": "8b30b951-ea7b-4e81-fbc9-ecc6a76e25c1"
      },
      "execution_count": null,
      "outputs": [
        {
          "output_type": "stream",
          "name": "stdout",
          "text": [
            "5050\n"
          ]
        }
      ]
    },
    {
      "cell_type": "markdown",
      "source": [
        "## Exercise "
      ],
      "metadata": {
        "id": "FqeoxMklcdzr"
      }
    },
    {
      "cell_type": "markdown",
      "source": [
        "Write a Python program to reverse a string\n",
        "\n",
        "Sample input : `\"abcdefg\"`\n",
        "\n",
        "Expected Output : `\"gfedcba\"`"
      ],
      "metadata": {
        "id": "yRht6EqOciU3"
      }
    },
    {
      "cell_type": "code",
      "source": [
        "string = \"abcdefg\"\n",
        "reversed_string = \"\"\n",
        "### FILL YOUR CODE HERE ###\n"
      ],
      "metadata": {
        "id": "U4in71yRdqBG"
      },
      "execution_count": null,
      "outputs": []
    },
    {
      "cell_type": "code",
      "source": [],
      "metadata": {
        "id": "EPKJMnv9Fbt-"
      },
      "execution_count": null,
      "outputs": []
    },
    {
      "cell_type": "markdown",
      "source": [],
      "metadata": {
        "id": "CtiHAjF_BU3T"
      }
    },
    {
      "cell_type": "markdown",
      "source": [
        "## `break` statement"
      ],
      "metadata": {
        "id": "T66_VR4hD0n7"
      }
    },
    {
      "cell_type": "markdown",
      "source": [
        "we use the break exit the execution of a loop , before all iterations have completed. When a break statement is encountered inside a loop, the loop is immediately terminated, and the program control resumes after the loop."
      ],
      "metadata": {
        "id": "Ko5qyB3_ejb9"
      }
    },
    {
      "cell_type": "code",
      "source": [
        "# use the break statement to find the index of the first occurence of the letter a in a string\n",
        "string = \"examplestring\"\n",
        "for i in range(len(string)):\n",
        "  if string[i] == \"a\":\n",
        "    print (i)\n",
        "    break"
      ],
      "metadata": {
        "id": "7JlFazWxD0Gn",
        "colab": {
          "base_uri": "https://localhost:8080/"
        },
        "outputId": "e811e6aa-6f5a-45b5-fb6c-9f4842598324"
      },
      "execution_count": null,
      "outputs": [
        {
          "output_type": "stream",
          "name": "stdout",
          "text": [
            "2\n"
          ]
        }
      ]
    },
    {
      "cell_type": "markdown",
      "source": [
        "## `continue` statement\n"
      ],
      "metadata": {
        "id": "K7m7n31dB47t"
      }
    },
    {
      "cell_type": "markdown",
      "source": [
        "The `continue` statement is used to skip the current iteration of a loop and move on to the next iteration. When a continue statement is encountered inside a loop, the current iteration of the loop is skipped, and the program control moves directly to the next iteration of the loop."
      ],
      "metadata": {
        "id": "bCKpskrPAGOt"
      }
    },
    {
      "cell_type": "code",
      "source": [
        "# use the continue statement to print only odd numbers\n",
        "for i in range(20):\n",
        "  if i%2 == 0:\n",
        "    continue\n",
        "  print (i)  "
      ],
      "metadata": {
        "id": "-0zpC9qlD-mI",
        "colab": {
          "base_uri": "https://localhost:8080/"
        },
        "outputId": "6557ac40-d166-48a3-8e5e-c93e2a5d7db1"
      },
      "execution_count": null,
      "outputs": [
        {
          "output_type": "stream",
          "name": "stdout",
          "text": [
            "1\n",
            "3\n",
            "5\n",
            "7\n",
            "9\n",
            "11\n",
            "13\n",
            "15\n",
            "17\n",
            "19\n"
          ]
        }
      ]
    },
    {
      "cell_type": "markdown",
      "source": [
        "# While loop"
      ],
      "metadata": {
        "id": "RLrjRAJ3KAB4"
      }
    },
    {
      "cell_type": "markdown",
      "source": [
        "We use while loops to execute a block of code while a given condition is met"
      ],
      "metadata": {
        "id": "Kx70Y07qoGQU"
      }
    },
    {
      "cell_type": "markdown",
      "source": [
        "```\n",
        "while condition:\n",
        "  # block of code\n",
        "\n",
        "\n",
        "```"
      ],
      "metadata": {
        "id": "YqXnq_ikoUOw"
      }
    },
    {
      "cell_type": "markdown",
      "source": [
        "## Exercise \n",
        "Write a program to print the numbers from 1 to 10 using a while loop"
      ],
      "metadata": {
        "id": "VjM-Cj_c48wI"
      }
    },
    {
      "cell_type": "code",
      "source": [
        "### FILL YOUR CODE HERE ###\n",
        "\n",
        "  "
      ],
      "metadata": {
        "id": "pl_N7fI9KDnz"
      },
      "execution_count": null,
      "outputs": []
    },
    {
      "cell_type": "markdown",
      "source": [
        "## Exercise\n"
      ],
      "metadata": {
        "id": "q-hxiEFc6KfK"
      }
    },
    {
      "cell_type": "markdown",
      "source": [
        "Write a program to implement a simple guessing game. The user is prompted to enter their guess each time through the loop. Once the correct number is entered (the user guess == `secret_number`), the loop exits and a message is displayed indicating that the user got it right."
      ],
      "metadata": {
        "id": "xDfL9RAK6Mvc"
      }
    },
    {
      "cell_type": "code",
      "source": [
        "secret_number = 7\n",
        "### FILL YOUR CODE HERE ###"
      ],
      "metadata": {
        "id": "Ye9V_byC6xpE"
      },
      "execution_count": null,
      "outputs": []
    },
    {
      "cell_type": "markdown",
      "source": [
        "# Functions"
      ],
      "metadata": {
        "id": "4el_m2teJ0Jc"
      }
    },
    {
      "cell_type": "markdown",
      "source": [
        "A function is a block of code that performs a specific operation and executed when it is called"
      ],
      "metadata": {
        "id": "JnHcTjF5Qxaj"
      }
    },
    {
      "cell_type": "markdown",
      "source": [
        "## Function Definition"
      ],
      "metadata": {
        "id": "fuk5Z18IH3-y"
      }
    },
    {
      "cell_type": "markdown",
      "source": [
        "```\n",
        "def function_name():\n",
        "  # function code here\n",
        "```"
      ],
      "metadata": {
        "id": "LVtUkQUDyCVU"
      }
    },
    {
      "cell_type": "code",
      "source": [
        "def say_hi():\n",
        "  print (\"Hi\")\n",
        "  "
      ],
      "metadata": {
        "id": "bwF26ICBJ1sC"
      },
      "execution_count": null,
      "outputs": []
    },
    {
      "cell_type": "markdown",
      "source": [
        "## Function Call"
      ],
      "metadata": {
        "id": "Y2QMn7UZyVm3"
      }
    },
    {
      "cell_type": "code",
      "source": [
        "say_hi()"
      ],
      "metadata": {
        "colab": {
          "base_uri": "https://localhost:8080/"
        },
        "id": "5ZpYuEF1yc9Z",
        "outputId": "1f9e2043-1ed1-44c2-f067-017a93cf0323"
      },
      "execution_count": null,
      "outputs": [
        {
          "output_type": "stream",
          "name": "stdout",
          "text": [
            "Hi\n"
          ]
        }
      ]
    },
    {
      "cell_type": "markdown",
      "source": [
        "## Functions with single/multiple Arguments"
      ],
      "metadata": {
        "id": "za2qgPcByjXR"
      }
    },
    {
      "cell_type": "code",
      "source": [
        "# a single argument function\n",
        "def say_hi (name):\n",
        "  print (\"hi \"+name)\n",
        "say_hi(\"Mohamed\")"
      ],
      "metadata": {
        "colab": {
          "base_uri": "https://localhost:8080/"
        },
        "id": "g23bmPBEzHlq",
        "outputId": "85237267-0094-4e4f-8490-54ae3f51d56e"
      },
      "execution_count": null,
      "outputs": [
        {
          "output_type": "stream",
          "name": "stdout",
          "text": [
            "hi Mohamed\n"
          ]
        }
      ]
    },
    {
      "cell_type": "code",
      "source": [
        "def print_elements(x): \n",
        "  for i in x:\n",
        "    print (i)"
      ],
      "metadata": {
        "id": "X2MjYOFg9_1O"
      },
      "execution_count": null,
      "outputs": []
    },
    {
      "cell_type": "code",
      "source": [
        "# a function with multiple arguments\n",
        "def say_hi(fname, lname):\n",
        "  print (\"Hi \"+fname+\" \"+lname)"
      ],
      "metadata": {
        "id": "ReYZ3M9g0KU3"
      },
      "execution_count": null,
      "outputs": []
    },
    {
      "cell_type": "markdown",
      "source": [
        "## Keyword Arguments"
      ],
      "metadata": {
        "id": "_hiSX55kzREe"
      }
    },
    {
      "cell_type": "markdown",
      "source": [
        "In addition to passing arguments in the order specified by the function definition, you can also use keyword arguments to pass values to a function. Keyword arguments allow you to specify the arguments by name, rather than by position."
      ],
      "metadata": {
        "id": "jOkYVjKz2ZkZ"
      }
    },
    {
      "cell_type": "code",
      "source": [
        "def say_hi(fname, lname):\n",
        "  print (\"Hi \"+fname+\" \"+lname)\n",
        "say_hi(\"Mohamed\", \"Elabbas\")\n",
        "say_hi(fname=\"Mohamed\", lname=\"Elabbas\")  "
      ],
      "metadata": {
        "colab": {
          "base_uri": "https://localhost:8080/"
        },
        "id": "X50k0TsPzQvG",
        "outputId": "4ae12f9f-64b9-497e-d66b-2d1318876a00"
      },
      "execution_count": null,
      "outputs": [
        {
          "output_type": "stream",
          "name": "stdout",
          "text": [
            "Hi Mohamed Elabbas\n",
            "Hi Mohamed Elabbas\n"
          ]
        }
      ]
    },
    {
      "cell_type": "markdown",
      "source": [
        "## `return` statement"
      ],
      "metadata": {
        "id": "vxtfxesCIbzI"
      }
    },
    {
      "cell_type": "markdown",
      "source": [
        "The `return` statement is used to specify the value that a function should return to the caller. It allows you to capture the output of the function and assign it to a variable, or use it in other expressions."
      ],
      "metadata": {
        "id": "QGyH8Wbr0lgW"
      }
    },
    {
      "cell_type": "code",
      "source": [
        "def add(a, b):\n",
        "  result = a+b\n",
        "  # print (result)\n",
        "  return result\n",
        "\n",
        "summation = add(5, 6)\n",
        "print (summation)  \n",
        "  "
      ],
      "metadata": {
        "id": "6Nw_qSdEIfR4",
        "colab": {
          "base_uri": "https://localhost:8080/"
        },
        "outputId": "b4ab7eff-899a-4eb7-c6c3-5381daecc35e"
      },
      "execution_count": null,
      "outputs": [
        {
          "output_type": "stream",
          "name": "stdout",
          "text": [
            "11\n"
          ]
        }
      ]
    },
    {
      "cell_type": "markdown",
      "source": [
        "## Parameters with default value"
      ],
      "metadata": {
        "id": "_w75ir9BIXjL"
      }
    },
    {
      "cell_type": "markdown",
      "source": [
        "We can specify default values for some of the function parameters. The parameters that have default values should be placed after the parameters without default values in the function definition. This is because the parameters with default values are optional and can be omitted in the function call, while the parameters without default values are required and must be passed in the function call."
      ],
      "metadata": {
        "id": "UWd_gKNU3x8j"
      }
    },
    {
      "cell_type": "code",
      "source": [
        "def add(a, b=5):\n",
        "  return a+b\n",
        "\n",
        "add(4)  "
      ],
      "metadata": {
        "id": "FiVsBwZfIZyH",
        "colab": {
          "base_uri": "https://localhost:8080/"
        },
        "outputId": "2bd672fb-df4a-4aa7-b268-81ed7bedfe3a"
      },
      "execution_count": null,
      "outputs": [
        {
          "output_type": "execute_result",
          "data": {
            "text/plain": [
              "7"
            ]
          },
          "metadata": {},
          "execution_count": 17
        }
      ]
    },
    {
      "cell_type": "markdown",
      "source": [
        "## Exercise\n"
      ],
      "metadata": {
        "id": "_eypQkT98JWa"
      }
    },
    {
      "cell_type": "markdown",
      "source": [
        "Write a function `maximum` that returns the maximum of two numbers"
      ],
      "metadata": {
        "id": "haSJWu2E8NUc"
      }
    },
    {
      "cell_type": "code",
      "source": [
        "def maximum(a ,b):\n",
        "### FILL YOUR CODE HERE ###\n"
      ],
      "metadata": {
        "id": "OHoucdvC3g5D"
      },
      "execution_count": null,
      "outputs": []
    },
    {
      "cell_type": "markdown",
      "source": [
        "## Exercise"
      ],
      "metadata": {
        "id": "gqCaoxVv8gIV"
      }
    },
    {
      "cell_type": "markdown",
      "source": [
        "Define a function named `square` that takes an argument `x` and returns the `square` of `x`."
      ],
      "metadata": {
        "id": "wRKL0bou8iUG"
      }
    },
    {
      "cell_type": "code",
      "source": [
        "### FILL YOUR CODE HERE ###"
      ],
      "metadata": {
        "id": "tgNhIlvQ8hsK"
      },
      "execution_count": null,
      "outputs": []
    },
    {
      "cell_type": "markdown",
      "source": [
        "## Exercise"
      ],
      "metadata": {
        "id": "UH22dUK68_7R"
      }
    },
    {
      "cell_type": "markdown",
      "source": [
        "Define a function named `calculate_avg` that takes a list of numbers as an argument and returns the average of the numbers in the list."
      ],
      "metadata": {
        "id": "J6ky2cEq9Bo1"
      }
    },
    {
      "cell_type": "code",
      "source": [
        "### FILL YOUR CODE HERE ###"
      ],
      "metadata": {
        "id": "Y7kK0V1q9BIs"
      },
      "execution_count": null,
      "outputs": []
    }
  ]
}