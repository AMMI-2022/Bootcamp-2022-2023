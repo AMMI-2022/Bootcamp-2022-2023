{
  "nbformat": 4,
  "nbformat_minor": 0,
  "metadata": {
    "colab": {
      "provenance": []
    },
    "kernelspec": {
      "name": "python3",
      "display_name": "Python 3"
    },
    "language_info": {
      "name": "python"
    }
  },
  "cells": [
    {
      "cell_type": "code",
      "execution_count": null,
      "metadata": {
        "id": "a0kRI_JhGU_g"
      },
      "outputs": [],
      "source": []
    },
    {
      "cell_type": "markdown",
      "source": [
        "# Tuples"
      ],
      "metadata": {
        "id": "2lZ4jrHbJylM"
      }
    },
    {
      "cell_type": "markdown",
      "source": [
        "a python tuple is a sequence of items . Python tuples are similar to lists, the difference is that in tuples we cannot update or change elements after the creation of the tuple object, wheras we can do that in lists."
      ],
      "metadata": {
        "id": "LxuGHdCkani5"
      }
    },
    {
      "cell_type": "code",
      "source": [
        "countries = (\"UK\", \"Germany\", \"France\")\n",
        "countries = 1, 2.5, \"Senegal\""
      ],
      "metadata": {
        "id": "jYg32QEZJzm7"
      },
      "execution_count": null,
      "outputs": []
    },
    {
      "cell_type": "code",
      "source": [],
      "metadata": {
        "id": "c2Zc5hgYK8MX"
      },
      "execution_count": null,
      "outputs": []
    },
    {
      "cell_type": "markdown",
      "source": [
        "## Single-element Tuples"
      ],
      "metadata": {
        "id": "rAB-z6uOJNr2"
      }
    },
    {
      "cell_type": "code",
      "source": [
        "x = (\"test\",)"
      ],
      "metadata": {
        "id": "veW0eE67JQ5O"
      },
      "execution_count": null,
      "outputs": []
    },
    {
      "cell_type": "markdown",
      "source": [
        "## Tuple Indexing/Slicing"
      ],
      "metadata": {
        "id": "GdiKgKRpbXJ6"
      }
    },
    {
      "cell_type": "code",
      "source": [
        "countries = (\"UK\", \"Germany\", \"France\")\n",
        "print (countries[0]) # tuples are zero indexed\n",
        "print (countries[-1]) # negative indexing \n",
        "print (countries[0:]) # slicing similar to lists\n",
        "\n"
      ],
      "metadata": {
        "colab": {
          "base_uri": "https://localhost:8080/"
        },
        "id": "1TEfkQm7bbZn",
        "outputId": "d4deb9db-cdb4-4c55-ed1b-c4b54bbbeb2a"
      },
      "execution_count": null,
      "outputs": [
        {
          "output_type": "stream",
          "name": "stdout",
          "text": [
            "UK\n",
            "France\n",
            "('UK', 'Germany', 'France')\n"
          ]
        }
      ]
    },
    {
      "cell_type": "markdown",
      "source": [
        "## Tuple Length"
      ],
      "metadata": {
        "id": "lUx9bYo7c-3x"
      }
    },
    {
      "cell_type": "markdown",
      "source": [
        "The `len` function is used to return length/number of elements of the tuple"
      ],
      "metadata": {
        "id": "4ZHuhgsndCRK"
      }
    },
    {
      "cell_type": "code",
      "source": [
        "countries = (\"UK\", \"Germany\", \"France\")\n",
        "print (len(countries))"
      ],
      "metadata": {
        "colab": {
          "base_uri": "https://localhost:8080/"
        },
        "id": "6X5ox2Q7dKI-",
        "outputId": "d9771786-7e31-4059-b025-b005aba23d3d"
      },
      "execution_count": null,
      "outputs": [
        {
          "output_type": "stream",
          "name": "stdout",
          "text": [
            "3\n"
          ]
        }
      ]
    },
    {
      "cell_type": "markdown",
      "source": [
        "## Tuple Immutability"
      ],
      "metadata": {
        "id": "PEM6NEu8b_Dm"
      }
    },
    {
      "cell_type": "markdown",
      "source": [
        "Python tuples are immutable, that means we are not able to change or update tuple elements after  creation of the tuple object"
      ],
      "metadata": {
        "id": "uDJubed7cDfS"
      }
    },
    {
      "cell_type": "code",
      "source": [
        "countries = (\"UK\", \"Germany\", \"France\")\n",
        "countries[0] = \"Greece\" # does not work"
      ],
      "metadata": {
        "colab": {
          "base_uri": "https://localhost:8080/",
          "height": 189
        },
        "id": "WXGqew-JcSqB",
        "outputId": "a2b23166-acb1-4b76-bee9-e0f55aba0bb9"
      },
      "execution_count": null,
      "outputs": [
        {
          "output_type": "error",
          "ename": "TypeError",
          "evalue": "ignored",
          "traceback": [
            "\u001b[0;31m---------------------------------------------------------------------------\u001b[0m",
            "\u001b[0;31mTypeError\u001b[0m                                 Traceback (most recent call last)",
            "\u001b[0;32m<ipython-input-32-7179bf877991>\u001b[0m in \u001b[0;36m<module>\u001b[0;34m\u001b[0m\n\u001b[1;32m      1\u001b[0m \u001b[0mcountries\u001b[0m \u001b[0;34m=\u001b[0m \u001b[0;34m(\u001b[0m\u001b[0;34m\"UK\"\u001b[0m\u001b[0;34m,\u001b[0m \u001b[0;34m\"Germany\"\u001b[0m\u001b[0;34m,\u001b[0m \u001b[0;34m\"France\"\u001b[0m\u001b[0;34m)\u001b[0m\u001b[0;34m\u001b[0m\u001b[0;34m\u001b[0m\u001b[0m\n\u001b[0;32m----> 2\u001b[0;31m \u001b[0mcountries\u001b[0m\u001b[0;34m[\u001b[0m\u001b[0;36m0\u001b[0m\u001b[0;34m]\u001b[0m \u001b[0;34m=\u001b[0m \u001b[0;34m\"Greece\"\u001b[0m \u001b[0;31m# does not work\u001b[0m\u001b[0;34m\u001b[0m\u001b[0;34m\u001b[0m\u001b[0m\n\u001b[0m",
            "\u001b[0;31mTypeError\u001b[0m: 'tuple' object does not support item assignment"
          ]
        }
      ]
    },
    {
      "cell_type": "markdown",
      "source": [],
      "metadata": {
        "id": "EUdSnvfUG5_B"
      }
    },
    {
      "cell_type": "markdown",
      "source": [
        "## Iterating Through Tuples"
      ],
      "metadata": {
        "id": "FPibXB_CLYmY"
      }
    },
    {
      "cell_type": "code",
      "source": [
        "fruits = \"apple\", \"mango\", \"orange\", \"banana\"\n",
        "\n",
        "for fruit in fruits:\n",
        "  print (fruit)"
      ],
      "metadata": {
        "colab": {
          "base_uri": "https://localhost:8080/"
        },
        "id": "4a9se7_CLbkH",
        "outputId": "a64b5416-0f3d-4cba-9d51-85bb6cfa0a4f"
      },
      "execution_count": null,
      "outputs": [
        {
          "output_type": "stream",
          "name": "stdout",
          "text": [
            "apple\n",
            "mango\n",
            "orange\n",
            "banana\n"
          ]
        }
      ]
    },
    {
      "cell_type": "markdown",
      "source": [
        "# Sets"
      ],
      "metadata": {
        "id": "jgHdGlsChRQ3"
      }
    },
    {
      "cell_type": "markdown",
      "source": [
        "Python sets are collections of unique unordered data elements."
      ],
      "metadata": {
        "id": "IOoyBfuIhS-_"
      }
    },
    {
      "cell_type": "markdown",
      "source": [
        "## Set Creation"
      ],
      "metadata": {
        "id": "8Co58CJ3imtp"
      }
    },
    {
      "cell_type": "code",
      "source": [
        "empty_set = set() # empty set created using the set function\n",
        "countries = {\"UK\", \"Germany\", \"France\"} # a set of strings\n",
        "quanitities = {12, 13.4,4,5,6}\n",
        "measurements = {12.4, 45.1, 56.55, 56.55} # notice the set removing duplications\n",
        "print (measurements)\n"
      ],
      "metadata": {
        "colab": {
          "base_uri": "https://localhost:8080/"
        },
        "id": "1U-smdMHheNj",
        "outputId": "ea85c545-5c17-4f74-e245-e0ce1f19a757"
      },
      "execution_count": null,
      "outputs": [
        {
          "output_type": "stream",
          "name": "stdout",
          "text": [
            "{56.55, 12.4, 45.1}\n"
          ]
        }
      ]
    },
    {
      "cell_type": "markdown",
      "source": [
        "## Set Methods"
      ],
      "metadata": {
        "id": "_6fB2VFEiqUA"
      }
    },
    {
      "cell_type": "markdown",
      "source": [
        "### `add`\n",
        "adds an element to the set "
      ],
      "metadata": {
        "id": "NTZ9_s1Yir5Z"
      }
    },
    {
      "cell_type": "code",
      "source": [
        "countries = {\"UK\", \"Germany\", \"France\"} # a set of strings\n",
        "countries.add(\"Netherlands\")\n",
        "print (countries)"
      ],
      "metadata": {
        "colab": {
          "base_uri": "https://localhost:8080/"
        },
        "id": "kbrKezQmlqxh",
        "outputId": "e6347d11-3bb8-4ddb-dbf6-566d2f34d7ba"
      },
      "execution_count": null,
      "outputs": [
        {
          "output_type": "stream",
          "name": "stdout",
          "text": [
            "{'UK', 'Netherlands', 'France', 'Germany'}\n"
          ]
        }
      ]
    },
    {
      "cell_type": "markdown",
      "source": [
        "### `remove`\n",
        "remove a specified element from the set"
      ],
      "metadata": {
        "id": "7Awbim6_lDNI"
      }
    },
    {
      "cell_type": "code",
      "source": [
        "countries = {\"UK\", \"Germany\", \"France\"}\n",
        "countries.remove(\"UK\")\n",
        "print (countries)\n",
        "countries.remove(\"Greece\")"
      ],
      "metadata": {
        "colab": {
          "base_uri": "https://localhost:8080/",
          "height": 226
        },
        "id": "O5qdHGZKl7Qo",
        "outputId": "633f69cf-368b-4aa8-ef73-ad0f7fdc20d6"
      },
      "execution_count": null,
      "outputs": [
        {
          "output_type": "stream",
          "name": "stdout",
          "text": [
            "{'France', 'Germany'}\n"
          ]
        },
        {
          "output_type": "error",
          "ename": "KeyError",
          "evalue": "ignored",
          "traceback": [
            "\u001b[0;31m---------------------------------------------------------------------------\u001b[0m",
            "\u001b[0;31mKeyError\u001b[0m                                  Traceback (most recent call last)",
            "\u001b[0;32m<ipython-input-41-ca9e1f836d31>\u001b[0m in \u001b[0;36m<module>\u001b[0;34m\u001b[0m\n\u001b[1;32m      2\u001b[0m \u001b[0mcountries\u001b[0m\u001b[0;34m.\u001b[0m\u001b[0mremove\u001b[0m\u001b[0;34m(\u001b[0m\u001b[0;34m\"UK\"\u001b[0m\u001b[0;34m)\u001b[0m\u001b[0;34m\u001b[0m\u001b[0;34m\u001b[0m\u001b[0m\n\u001b[1;32m      3\u001b[0m \u001b[0mprint\u001b[0m \u001b[0;34m(\u001b[0m\u001b[0mcountries\u001b[0m\u001b[0;34m)\u001b[0m\u001b[0;34m\u001b[0m\u001b[0;34m\u001b[0m\u001b[0m\n\u001b[0;32m----> 4\u001b[0;31m \u001b[0mcountries\u001b[0m\u001b[0;34m.\u001b[0m\u001b[0mremove\u001b[0m\u001b[0;34m(\u001b[0m\u001b[0;34m\"Greece\"\u001b[0m\u001b[0;34m)\u001b[0m\u001b[0;34m\u001b[0m\u001b[0;34m\u001b[0m\u001b[0m\n\u001b[0m",
            "\u001b[0;31mKeyError\u001b[0m: 'Greece'"
          ]
        }
      ]
    },
    {
      "cell_type": "markdown",
      "source": [],
      "metadata": {
        "id": "gQLV88R0l7A-"
      }
    },
    {
      "cell_type": "markdown",
      "source": [
        "### `discard`"
      ],
      "metadata": {
        "id": "rDkDCinzMt8x"
      }
    },
    {
      "cell_type": "markdown",
      "source": [
        "We use the discard method to remove an element from the set. Unlike `remove` the `discard`  method does not raise an error if the element does not exist in the set"
      ],
      "metadata": {
        "id": "5hSascgYM0ht"
      }
    },
    {
      "cell_type": "code",
      "source": [
        "countries = {\"UK\", \"Germany\", \"France\"}\n",
        "countries.discard(\"Greece\")"
      ],
      "metadata": {
        "id": "12IIaOEWNMfd"
      },
      "execution_count": null,
      "outputs": []
    },
    {
      "cell_type": "markdown",
      "source": [
        "### `update`\n",
        "update the set by adding the elements of another set/ performing the union of the set with another set"
      ],
      "metadata": {
        "id": "YQ8crrWtlDh-"
      }
    },
    {
      "cell_type": "code",
      "source": [
        "countries = {\"UK\", \"Germany\", \"France\"}\n",
        "countries.update({\"UK\", \"Spain\", \"Norway\"}) # returns None/ changes the set in place\n",
        "print (countries)"
      ],
      "metadata": {
        "colab": {
          "base_uri": "https://localhost:8080/"
        },
        "id": "Nz-ACrS8mTGh",
        "outputId": "03396f2a-5167-4bf9-ff15-23e35495126a"
      },
      "execution_count": null,
      "outputs": [
        {
          "output_type": "stream",
          "name": "stdout",
          "text": [
            "{'Spain', 'Norway', 'Germany', 'UK', 'France'}\n"
          ]
        }
      ]
    },
    {
      "cell_type": "markdown",
      "source": [
        "### `union`"
      ],
      "metadata": {
        "id": "Mw_1BV44lUk9"
      }
    },
    {
      "cell_type": "markdown",
      "source": [
        "returns the union of the set with another set"
      ],
      "metadata": {
        "id": "M__R3y-fmeLB"
      }
    },
    {
      "cell_type": "code",
      "source": [
        "countries = {\"UK\", \"Germany\", \"France\"}\n",
        "result = countries.union({\"UK\", \"Spain\", \"Norway\"})\n",
        "print (result)"
      ],
      "metadata": {
        "colab": {
          "base_uri": "https://localhost:8080/"
        },
        "id": "dkFmyUmumn2N",
        "outputId": "15782b7b-89aa-493e-9211-9da0a40338aa"
      },
      "execution_count": null,
      "outputs": [
        {
          "output_type": "stream",
          "name": "stdout",
          "text": [
            "{'Spain', 'Norway', 'Germany', 'UK', 'France'}\n"
          ]
        }
      ]
    },
    {
      "cell_type": "markdown",
      "source": [
        "### `intersection`"
      ],
      "metadata": {
        "id": "7633r2w6lUc7"
      }
    },
    {
      "cell_type": "markdown",
      "source": [
        "returns the intersection of the set with another set"
      ],
      "metadata": {
        "id": "MXQIKlfLm6LZ"
      }
    },
    {
      "cell_type": "code",
      "source": [
        "countries = {\"UK\", \"Germany\", \"France\"}\n",
        "result = countries.intersection({\"UK\", \"Spain\", \"Norway\"})\n",
        "print(result) "
      ],
      "metadata": {
        "colab": {
          "base_uri": "https://localhost:8080/"
        },
        "id": "jx7zZ7Nqm_p2",
        "outputId": "deacd855-d197-418a-ef34-efde3be15a8b"
      },
      "execution_count": null,
      "outputs": [
        {
          "output_type": "stream",
          "name": "stdout",
          "text": [
            "{'UK'}\n"
          ]
        }
      ]
    },
    {
      "cell_type": "markdown",
      "source": [
        "### `difference`\n"
      ],
      "metadata": {
        "id": "dgeBKKsllUP2"
      }
    },
    {
      "cell_type": "markdown",
      "source": [
        "performs the difference operation/elements that belong to the set but do not belong to the other set"
      ],
      "metadata": {
        "id": "npPg0ripnTVz"
      }
    },
    {
      "cell_type": "code",
      "source": [
        "countries_a = {\"UK\", \"Germany\", \"France\"}\n",
        "countries_b = {\"UK\", \"Spain\", \"Norway\"}\n",
        "a_minus_b = countries_a.difference(countries_b)\n",
        "b_minus_a = countries_b.difference(countries_a)\n",
        "print(result) "
      ],
      "metadata": {
        "colab": {
          "base_uri": "https://localhost:8080/"
        },
        "id": "E8vGRzDGnIId",
        "outputId": "476c643a-17be-422f-a557-f387d688836b"
      },
      "execution_count": null,
      "outputs": [
        {
          "output_type": "stream",
          "name": "stdout",
          "text": [
            "{'France', 'Germany'}\n"
          ]
        }
      ]
    },
    {
      "cell_type": "markdown",
      "source": [
        "## Check if an element exists in the set "
      ],
      "metadata": {
        "id": "Iyiv_86unf4h"
      }
    },
    {
      "cell_type": "markdown",
      "source": [
        "We use the `in` keyword to check if a given element exist in the set"
      ],
      "metadata": {
        "id": "mgVIlkBsnljP"
      }
    },
    {
      "cell_type": "code",
      "source": [
        "countries = {\"UK\", \"Germany\", \"France\"}\n",
        "\n",
        "result = \"Ukraine\" in countries\n",
        "print (result)"
      ],
      "metadata": {
        "colab": {
          "base_uri": "https://localhost:8080/"
        },
        "id": "fQ8t3JvLnk4H",
        "outputId": "b7ad9d56-a7d3-469a-adb3-98dcf49a1982"
      },
      "execution_count": null,
      "outputs": [
        {
          "output_type": "stream",
          "name": "stdout",
          "text": [
            "False\n"
          ]
        }
      ]
    },
    {
      "cell_type": "markdown",
      "source": [
        "Notes : \n",
        "- sets are very efficient in the operation of checking if an element exists in the set or not. It takes constant time to do that in set, wheras we need linear time to do the same operations in lists and tuples \n",
        "- set elements have to be hashable (`int`, `float`, `tuple`, `str`),\n",
        " we cannot have `list` as set elements"
      ],
      "metadata": {
        "id": "CYvZNimGn7Ru"
      }
    },
    {
      "cell_type": "markdown",
      "source": [
        "#Dictionaries"
      ],
      "metadata": {
        "id": "GNjtX3WjKRpn"
      }
    },
    {
      "cell_type": "markdown",
      "source": [
        "Python Dictionaries are ordered collections of key and value pairs "
      ],
      "metadata": {
        "id": "7Qe9N-22TnbU"
      }
    },
    {
      "cell_type": "markdown",
      "source": [
        "## Dictionary Creation\n",
        "dictionary keys should be of a hashable type: `str`, `int`, `float`, `tuple`"
      ],
      "metadata": {
        "id": "o6Ap0ygmaiy_"
      }
    },
    {
      "cell_type": "code",
      "source": [
        "countries_capitals = {\"Cameroon\":\"Yaoundé\", \"Senegal\":\"Dakar\", \"Egypt\":\"Cairo\", \"Sudan\":\"Khartoum\"}\n",
        "country_capitals = dict(cameroon=\"Yaoundé\", Senegal=\"Dakar\")\n",
        "print (country_capitals)"
      ],
      "metadata": {
        "id": "EYivAd_gKVIp",
        "colab": {
          "base_uri": "https://localhost:8080/"
        },
        "outputId": "29fefeaa-1ddb-4adf-9a8a-9b4e4888cc6f"
      },
      "execution_count": null,
      "outputs": [
        {
          "output_type": "stream",
          "name": "stdout",
          "text": [
            "{'cameroon': 'youndee', 'Senegal': 'Dakar'}\n"
          ]
        }
      ]
    },
    {
      "cell_type": "markdown",
      "source": [
        "## Access Dictionary Keys"
      ],
      "metadata": {
        "id": "_7BuheWBa8z8"
      }
    },
    {
      "cell_type": "markdown",
      "source": [
        "We can access the dictionary keys by putting the dictionary key name between\n",
        "`[]`"
      ],
      "metadata": {
        "id": "gO-qJacUnrM9"
      }
    },
    {
      "cell_type": "code",
      "source": [
        "country_capitals = dict(cameroon=\"Yaoundé\", Senegal=\"Dakar\")\n",
        "country_capitals['cameroon']"
      ],
      "metadata": {
        "colab": {
          "base_uri": "https://localhost:8080/",
          "height": 36
        },
        "id": "d6ViT3xubDgl",
        "outputId": "01453a22-d8fb-4a52-9e2c-3a2d34c75aa0"
      },
      "execution_count": null,
      "outputs": [
        {
          "output_type": "execute_result",
          "data": {
            "text/plain": [
              "'youndee'"
            ],
            "application/vnd.google.colaboratory.intrinsic+json": {
              "type": "string"
            }
          },
          "metadata": {},
          "execution_count": 26
        }
      ]
    },
    {
      "cell_type": "markdown",
      "source": [
        "## Update Dictionary Values"
      ],
      "metadata": {
        "id": "29AfTXMtOrLm"
      }
    },
    {
      "cell_type": "code",
      "source": [
        "countries_capitals = {\"Cameroon\":\"Yaoundé\", \"Senegal\":\"Dakar\", \"Egypt\":\"Cairo\", \"Sudan\":\"Khartoum\"}\n",
        "countries_capitals [\"Cameroon\"] = \"Douala\""
      ],
      "metadata": {
        "id": "5sIFbi30Ou0z"
      },
      "execution_count": null,
      "outputs": []
    },
    {
      "cell_type": "markdown",
      "source": [
        "## Dictionary Methods"
      ],
      "metadata": {
        "id": "u33CYdK6oBHn"
      }
    },
    {
      "cell_type": "markdown",
      "source": [
        "### items()"
      ],
      "metadata": {
        "id": "sfKmZM4-oDwo"
      }
    },
    {
      "cell_type": "markdown",
      "source": [
        "We can access the dictionary key/values as tuples using the `items()` method"
      ],
      "metadata": {
        "id": "LHOCvM0nsXRa"
      }
    },
    {
      "cell_type": "code",
      "source": [
        "country_capitals = dict(cameroon=\"Yaoundé\", Senegal=\"Dakar\")\n",
        "for key,value in country_capitals.items():\n",
        "  print (key,value)"
      ],
      "metadata": {
        "colab": {
          "base_uri": "https://localhost:8080/"
        },
        "id": "AE8Pzq28sftQ",
        "outputId": "bf4346c8-8a08-4ad6-93df-c007326ab4a0"
      },
      "execution_count": null,
      "outputs": [
        {
          "output_type": "stream",
          "name": "stdout",
          "text": [
            "cameroon youndee\n",
            "Senegal Dakar\n"
          ]
        }
      ]
    },
    {
      "cell_type": "markdown",
      "source": [
        "### keys()"
      ],
      "metadata": {
        "id": "-9TXCPeNoGRj"
      }
    },
    {
      "cell_type": "markdown",
      "source": [
        "Also we can access the dictionary keys by calling the `keys()` method"
      ],
      "metadata": {
        "id": "1LTshjubtIv0"
      }
    },
    {
      "cell_type": "code",
      "source": [
        "country_capitals = dict(cameroon=\"Yaoundé\", Senegal=\"Dakar\")\n",
        "print (country_capitals.keys())"
      ],
      "metadata": {
        "colab": {
          "base_uri": "https://localhost:8080/"
        },
        "id": "i5lc6DJetF9J",
        "outputId": "90c20deb-3f51-4013-c847-953d4b85f174"
      },
      "execution_count": null,
      "outputs": [
        {
          "output_type": "stream",
          "name": "stdout",
          "text": [
            "dict_keys(['cameroon', 'Senegal'])\n"
          ]
        }
      ]
    },
    {
      "cell_type": "markdown",
      "source": [
        "### values()\n",
        "Also we can access the dictionary values by calling the `values()` method"
      ],
      "metadata": {
        "id": "b1wn2FfVoJXQ"
      }
    },
    {
      "cell_type": "code",
      "source": [
        "students_marks = {\"Alex\": 55, \"Alice\":90, \"John\":95}\n",
        "students_marks.values()"
      ],
      "metadata": {
        "colab": {
          "base_uri": "https://localhost:8080/"
        },
        "id": "rq1sAuzCtqsG",
        "outputId": "7e3ecc1b-a9c7-439f-c2cf-64d151bfc7b6"
      },
      "execution_count": null,
      "outputs": [
        {
          "output_type": "execute_result",
          "data": {
            "text/plain": [
              "dict_values([55, 90, 95])"
            ]
          },
          "metadata": {},
          "execution_count": 25
        }
      ]
    },
    {
      "cell_type": "markdown",
      "source": [],
      "metadata": {
        "id": "ip25qqrmtlju"
      }
    },
    {
      "cell_type": "markdown",
      "source": [
        "## Removing an Element from the Dictionary"
      ],
      "metadata": {
        "id": "HJDEr4yloaia"
      }
    },
    {
      "cell_type": "markdown",
      "source": [
        "To delete a dictionary key/value, use the `del` statement followed by the dictionary key that you want to delete"
      ],
      "metadata": {
        "id": "NK1215cmrTKU"
      }
    },
    {
      "cell_type": "code",
      "source": [
        "del country_capitals['cameroon']\n"
      ],
      "metadata": {
        "colab": {
          "base_uri": "https://localhost:8080/",
          "height": 171
        },
        "id": "Jr8sTxb9ofkg",
        "outputId": "37e61c10-5c03-4c97-9d14-ffc72d2abf10"
      },
      "execution_count": null,
      "outputs": [
        {
          "output_type": "error",
          "ename": "KeyError",
          "evalue": "ignored",
          "traceback": [
            "\u001b[0;31m---------------------------------------------------------------------------\u001b[0m",
            "\u001b[0;31mKeyError\u001b[0m                                  Traceback (most recent call last)",
            "\u001b[0;32m<ipython-input-10-ecc4f8a479d1>\u001b[0m in \u001b[0;36m<module>\u001b[0;34m\u001b[0m\n\u001b[0;32m----> 1\u001b[0;31m \u001b[0;32mdel\u001b[0m \u001b[0mcountry_capitals\u001b[0m\u001b[0;34m[\u001b[0m\u001b[0;34m'cameroon'\u001b[0m\u001b[0;34m]\u001b[0m\u001b[0;34m\u001b[0m\u001b[0;34m\u001b[0m\u001b[0m\n\u001b[0m",
            "\u001b[0;31mKeyError\u001b[0m: 'cameroon'"
          ]
        }
      ]
    },
    {
      "cell_type": "code",
      "source": [
        "country_capitals"
      ],
      "metadata": {
        "colab": {
          "base_uri": "https://localhost:8080/"
        },
        "id": "c-Ll63VFon7A",
        "outputId": "25872431-3b5d-4149-ddfd-fe079c0a4131"
      },
      "execution_count": null,
      "outputs": [
        {
          "output_type": "execute_result",
          "data": {
            "text/plain": [
              "{'Senegal': 'Dakar'}"
            ]
          },
          "metadata": {},
          "execution_count": 9
        }
      ]
    },
    {
      "cell_type": "markdown",
      "source": [
        "We can delete all the keys in the dictionary using the `clear()` method"
      ],
      "metadata": {
        "id": "kRCpI6Qtq6cv"
      }
    },
    {
      "cell_type": "code",
      "source": [
        "country_capitals.clear()"
      ],
      "metadata": {
        "id": "h30VeKgrrCNW"
      },
      "execution_count": null,
      "outputs": []
    },
    {
      "cell_type": "code",
      "source": [
        "country_capitals"
      ],
      "metadata": {
        "colab": {
          "base_uri": "https://localhost:8080/"
        },
        "id": "NPzG7NMKrHUW",
        "outputId": "f0866dfa-047b-4063-c62f-168850ba2302"
      },
      "execution_count": null,
      "outputs": [
        {
          "output_type": "execute_result",
          "data": {
            "text/plain": [
              "{}"
            ]
          },
          "metadata": {},
          "execution_count": 12
        }
      ]
    },
    {
      "cell_type": "markdown",
      "source": [
        "### `update()`"
      ],
      "metadata": {
        "id": "MYPgUel6rPjg"
      }
    },
    {
      "cell_type": "markdown",
      "source": [
        "We use the `update` to update the dictionary with keys and values from another dictionary"
      ],
      "metadata": {
        "id": "9j99Vb7frptq"
      }
    },
    {
      "cell_type": "code",
      "source": [
        "country_capitals =  {\"Senegal\":\"Dakar\", \"Cameroon\":\"Younde\", \"Egypt\":\"Cairo\"}\n",
        "more_capitals = {\"Sudan\":\"Khartoum\", \"Egypt\":\"Alexandria\"}\n",
        "country_capitals.update(more_capitals)"
      ],
      "metadata": {
        "id": "5f0qakgNrzKI"
      },
      "execution_count": null,
      "outputs": []
    },
    {
      "cell_type": "code",
      "source": [
        "country_capitals"
      ],
      "metadata": {
        "colab": {
          "base_uri": "https://localhost:8080/"
        },
        "id": "nkLgJpJDsHg8",
        "outputId": "0b912756-1ac7-4d26-a4e0-bda9073f542e"
      },
      "execution_count": null,
      "outputs": [
        {
          "output_type": "execute_result",
          "data": {
            "text/plain": [
              "{'Senegal': 'Dakar',\n",
              " 'Cameroon': 'Younde',\n",
              " 'Egypt': 'Alexandria',\n",
              " 'Sudan': 'Khartoum'}"
            ]
          },
          "metadata": {},
          "execution_count": 17
        }
      ]
    }
  ]
}